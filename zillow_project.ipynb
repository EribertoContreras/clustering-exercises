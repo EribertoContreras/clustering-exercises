{
 "cells": [
  {
   "cell_type": "code",
   "execution_count": 1,
   "id": "1b3d653a",
   "metadata": {},
   "outputs": [],
   "source": [
    "# fetches the data\n",
    "import acquire\n",
    "# credentials file to access the data\n",
    "import env\n",
    "# Imports functions necessary to run visuals and hides unnecessary code\n",
    "import wrangle_zillow\n",
    "\n",
    "# coding \n",
    "import math\n",
    "import numpy as np\n",
    "import seaborn as sns\n",
    "import scipy.stats as stats\n",
    "import pandas as pd\n",
    "import matplotlib.pyplot as plt\n",
    "from pydataset import data\n",
    "import scipy.stats\n",
    "import scipy\n",
    "import os\n",
    "\n",
    "# needed for modeling\n",
    "import sklearn.preprocessing\n",
    "from sklearn.model_selection import train_test_split\n",
    "from sklearn.neighbors import KNeighborsClassifier\n",
    "from sklearn.preprocessing import MinMaxScaler, StandardScaler, RobustScaler, QuantileTransformer\n",
    "from sklearn.metrics import explained_variance_score\n",
    "import statsmodels.api as sm\n",
    "from sklearn.metrics import mean_squared_error\n",
    "from sklearn.linear_model import LinearRegression, LassoLars, TweedieRegressor\n",
    "from sklearn.preprocessing import PolynomialFeatures\n",
    "from sklearn.cluster import KMeans"
   ]
  },
  {
   "cell_type": "markdown",
   "id": "fee51b64",
   "metadata": {},
   "source": [
    "# Acquiring Data"
   ]
  },
  {
   "cell_type": "code",
   "execution_count": 2,
   "id": "2fbc7951",
   "metadata": {},
   "outputs": [],
   "source": [
    "df = acquire.get_zillow_data()"
   ]
  },
  {
   "cell_type": "markdown",
   "id": "9611fc84",
   "metadata": {},
   "source": [
    "### - Summary"
   ]
  },
  {
   "cell_type": "code",
   "execution_count": 3,
   "id": "13770967",
   "metadata": {
    "scrolled": false
   },
   "outputs": [
    {
     "name": "stdout",
     "output_type": "stream",
     "text": [
      "--- Shape: (71858, 69)\n",
      "--- Info:\n",
      "<class 'pandas.core.frame.DataFrame'>\n",
      "RangeIndex: 71858 entries, 0 to 71857\n",
      "Data columns (total 69 columns):\n",
      " #   Column                        Non-Null Count  Dtype  \n",
      "---  ------                        --------------  -----  \n",
      " 0   propertylandusetypeid         71858 non-null  float64\n",
      " 1   parcelid                      71858 non-null  int64  \n",
      " 2   storytypeid                   47 non-null     float64\n",
      " 3   typeconstructiontypeid        223 non-null    float64\n",
      " 4   heatingorsystemtypeid         46680 non-null  float64\n",
      " 5   buildingclasstypeid           0 non-null      object \n",
      " 6   architecturalstyletypeid      207 non-null    float64\n",
      " 7   airconditioningtypeid         23069 non-null  float64\n",
      " 8   id                            71858 non-null  int64  \n",
      " 9   basementsqft                  47 non-null     float64\n",
      " 10  bathroomcnt                   71858 non-null  float64\n",
      " 11  bedroomcnt                    71858 non-null  float64\n",
      " 12  buildingqualitytypeid         45063 non-null  float64\n",
      " 13  calculatedbathnbr             71635 non-null  float64\n",
      " 14  decktypeid                    589 non-null    float64\n",
      " 15  finishedfloor1squarefeet      5697 non-null   float64\n",
      " 16  calculatedfinishedsquarefeet  71702 non-null  float64\n",
      " 17  finishedsquarefeet12          71523 non-null  float64\n",
      " 18  finishedsquarefeet13          2 non-null      float64\n",
      " 19  finishedsquarefeet15          11 non-null     float64\n",
      " 20  finishedsquarefeet50          5697 non-null   float64\n",
      " 21  finishedsquarefeet6           166 non-null    float64\n",
      " 22  fips                          71858 non-null  float64\n",
      " 23  fireplacecnt                  8104 non-null   float64\n",
      " 24  fullbathcnt                   71635 non-null  float64\n",
      " 25  garagecarcnt                  24971 non-null  float64\n",
      " 26  garagetotalsqft               24971 non-null  float64\n",
      " 27  hashottuborspa                1538 non-null   float64\n",
      " 28  latitude                      71858 non-null  float64\n",
      " 29  longitude                     71858 non-null  float64\n",
      " 30  lotsizesquarefeet             63732 non-null  float64\n",
      " 31  poolcnt                       15757 non-null  float64\n",
      " 32  poolsizesum                   869 non-null    float64\n",
      " 33  pooltypeid10                  464 non-null    float64\n",
      " 34  pooltypeid2                   1074 non-null   float64\n",
      " 35  pooltypeid7                   14665 non-null  float64\n",
      " 36  propertycountylandusecode     71858 non-null  object \n",
      " 37  propertyzoningdesc            45480 non-null  object \n",
      " 38  rawcensustractandblock        71858 non-null  float64\n",
      " 39  regionidcity                  70522 non-null  float64\n",
      " 40  regionidcounty                71858 non-null  float64\n",
      " 41  regionidneighborhood          28237 non-null  float64\n",
      " 42  regionidzip                   71814 non-null  float64\n",
      " 43  roomcnt                       71858 non-null  float64\n",
      " 44  threequarterbathnbr           9999 non-null   float64\n",
      " 45  unitcnt                       45436 non-null  float64\n",
      " 46  yardbuildingsqft17            2250 non-null   float64\n",
      " 47  yardbuildingsqft26            70 non-null     float64\n",
      " 48  yearbuilt                     71667 non-null  float64\n",
      " 49  numberofstories               17046 non-null  float64\n",
      " 50  fireplaceflag                 172 non-null    float64\n",
      " 51  structuretaxvaluedollarcnt    71764 non-null  float64\n",
      " 52  taxvaluedollarcnt             71857 non-null  float64\n",
      " 53  assessmentyear                71858 non-null  float64\n",
      " 54  landtaxvaluedollarcnt         71856 non-null  float64\n",
      " 55  taxamount                     71853 non-null  float64\n",
      " 56  taxdelinquencyflag            2615 non-null   object \n",
      " 57  taxdelinquencyyear            2615 non-null   float64\n",
      " 58  censustractandblock           71631 non-null  float64\n",
      " 59  id                            71858 non-null  int64  \n",
      " 60  logerror                      71858 non-null  float64\n",
      " 61  transactiondate               71858 non-null  object \n",
      " 62  airconditioningdesc           23069 non-null  object \n",
      " 63  architecturalstyledesc        207 non-null    object \n",
      " 64  buildingclassdesc             0 non-null      object \n",
      " 65  heatingorsystemdesc           46680 non-null  object \n",
      " 66  typeconstructiondesc          223 non-null    object \n",
      " 67  storydesc                     47 non-null     object \n",
      " 68  propertylandusedesc           71858 non-null  object \n",
      "dtypes: float64(54), int64(3), object(12)\n",
      "memory usage: 37.8+ MB\n",
      "None\n",
      "--- Descriptions:        propertylandusetypeid      parcelid  storytypeid  \\\n",
      "count           71858.000000  7.185800e+04         47.0   \n",
      "mean              262.347908  1.304295e+07          7.0   \n",
      "std                 2.217335  3.437438e+06          0.0   \n",
      "min               261.000000  1.071186e+07          7.0   \n",
      "25%               261.000000  1.153760e+07          7.0   \n",
      "50%               261.000000  1.257360e+07          7.0   \n",
      "75%               266.000000  1.425343e+07          7.0   \n",
      "max               266.000000  1.676885e+08          7.0   \n",
      "\n",
      "       typeconstructiontypeid  heatingorsystemtypeid  \\\n",
      "count              223.000000           46680.000000   \n",
      "mean                 6.040359               3.952421   \n",
      "std                  0.556035               3.657307   \n",
      "min                  4.000000               1.000000   \n",
      "25%                  6.000000               2.000000   \n",
      "50%                  6.000000               2.000000   \n",
      "75%                  6.000000               7.000000   \n",
      "max                 13.000000              24.000000   \n",
      "\n",
      "       architecturalstyletypeid  airconditioningtypeid            id  \\\n",
      "count                207.000000           23069.000000  7.185800e+04   \n",
      "mean                   7.386473               1.867571  1.495823e+06   \n",
      "std                    2.728030               3.062838  8.604787e+05   \n",
      "min                    2.000000               1.000000  3.490000e+02   \n",
      "25%                    7.000000               1.000000  7.545222e+05   \n",
      "50%                    7.000000               1.000000  1.500115e+06   \n",
      "75%                    7.000000               1.000000  2.240241e+06   \n",
      "max                   21.000000              13.000000  2.982274e+06   \n",
      "\n",
      "       basementsqft   bathroomcnt  ...  fireplaceflag  \\\n",
      "count     47.000000  71858.000000  ...          172.0   \n",
      "mean     678.978723      2.261766  ...            1.0   \n",
      "std      711.825226      0.953511  ...            0.0   \n",
      "min       38.000000      0.000000  ...            1.0   \n",
      "25%      263.500000      2.000000  ...            1.0   \n",
      "50%      512.000000      2.000000  ...            1.0   \n",
      "75%      809.500000      3.000000  ...            1.0   \n",
      "max     3560.000000     18.000000  ...            1.0   \n",
      "\n",
      "       structuretaxvaluedollarcnt  taxvaluedollarcnt  assessmentyear  \\\n",
      "count                7.176400e+04       7.185700e+04         71858.0   \n",
      "mean                 1.886005e+05       4.908509e+05          2016.0   \n",
      "std                  2.341052e+05       6.665600e+05             0.0   \n",
      "min                  4.400000e+01       1.000000e+03          2016.0   \n",
      "25%                  8.311350e+04       2.038780e+05          2016.0   \n",
      "50%                  1.348190e+05       3.570000e+05          2016.0   \n",
      "75%                  2.165540e+05       5.677930e+05          2016.0   \n",
      "max                  1.142179e+07       4.906124e+07          2016.0   \n",
      "\n",
      "       landtaxvaluedollarcnt      taxamount  taxdelinquencyyear  \\\n",
      "count           7.185600e+04   71853.000000         2615.000000   \n",
      "mean            3.024987e+05    5984.965270           14.110899   \n",
      "std             5.024066e+05    7777.210727            2.223186   \n",
      "min             1.610000e+02      19.920000            4.000000   \n",
      "25%             8.336850e+04    2679.620000           14.000000   \n",
      "50%             2.036920e+05    4409.760000           15.000000   \n",
      "75%             3.682615e+05    6866.620000           15.000000   \n",
      "max             4.895220e+07  586639.300000           99.000000   \n",
      "\n",
      "       censustractandblock            id      logerror  \n",
      "count         7.163100e+04  71858.000000  71858.000000  \n",
      "mean          6.050090e+13  38829.632678      0.016922  \n",
      "std           1.592079e+12  22385.329652      0.169059  \n",
      "min           6.037101e+13      0.000000     -4.655420  \n",
      "25%           6.037400e+13  19460.250000     -0.023629  \n",
      "50%           6.037621e+13  38849.500000      0.006647  \n",
      "75%           6.059052e+13  58211.750000      0.038436  \n",
      "max           4.830301e+14  77613.000000      5.262999  \n",
      "\n",
      "[8 rows x 57 columns]\n"
     ]
    },
    {
     "name": "stdout",
     "output_type": "stream",
     "text": [
      "--- Nulls by Column: propertylandusetypeid               0\n",
      "parcelid                            0\n",
      "storytypeid                     71811\n",
      "typeconstructiontypeid          71635\n",
      "heatingorsystemtypeid           25178\n",
      "buildingclasstypeid             71858\n",
      "architecturalstyletypeid        71651\n",
      "airconditioningtypeid           48789\n",
      "id                                  0\n",
      "basementsqft                    71811\n",
      "bathroomcnt                         0\n",
      "bedroomcnt                          0\n",
      "buildingqualitytypeid           26795\n",
      "calculatedbathnbr                 223\n",
      "decktypeid                      71269\n",
      "finishedfloor1squarefeet        66161\n",
      "calculatedfinishedsquarefeet      156\n",
      "finishedsquarefeet12              335\n",
      "finishedsquarefeet13            71856\n",
      "finishedsquarefeet15            71847\n",
      "finishedsquarefeet50            66161\n",
      "finishedsquarefeet6             71692\n",
      "fips                                0\n",
      "fireplacecnt                    63754\n",
      "fullbathcnt                       223\n",
      "garagecarcnt                    46887\n",
      "garagetotalsqft                 46887\n",
      "hashottuborspa                  70320\n",
      "latitude                            0\n",
      "longitude                           0\n",
      "lotsizesquarefeet                8126\n",
      "poolcnt                         56101\n",
      "poolsizesum                     70989\n",
      "pooltypeid10                    71394\n",
      "pooltypeid2                     70784\n",
      "pooltypeid7                     57193\n",
      "propertycountylandusecode           0\n",
      "propertyzoningdesc              26378\n",
      "rawcensustractandblock              0\n",
      "regionidcity                     1336\n",
      "regionidcounty                      0\n",
      "regionidneighborhood            43621\n",
      "regionidzip                        44\n",
      "roomcnt                             0\n",
      "threequarterbathnbr             61859\n",
      "unitcnt                         26422\n",
      "yardbuildingsqft17              69608\n",
      "yardbuildingsqft26              71788\n",
      "yearbuilt                         191\n",
      "numberofstories                 54812\n",
      "fireplaceflag                   71686\n",
      "structuretaxvaluedollarcnt         94\n",
      "taxvaluedollarcnt                   1\n",
      "assessmentyear                      0\n",
      "landtaxvaluedollarcnt               2\n",
      "taxamount                           5\n",
      "taxdelinquencyflag              69243\n",
      "taxdelinquencyyear              69243\n",
      "censustractandblock               227\n",
      "id                                  0\n",
      "logerror                            0\n",
      "transactiondate                     0\n",
      "airconditioningdesc             48789\n",
      "architecturalstyledesc          71651\n",
      "buildingclassdesc               71858\n",
      "heatingorsystemdesc             25178\n",
      "typeconstructiondesc            71635\n",
      "storydesc                       71811\n",
      "propertylandusedesc                 0\n",
      "dtype: int64\n",
      "nulls by row: n_missing  percent_missing\n",
      "23         0.333333               2\n",
      "24         0.347826              13\n",
      "25         0.362319              24\n",
      "26         0.376812              66\n",
      "27         0.391304             312\n",
      "28         0.405797             453\n",
      "29         0.420290            5161\n",
      "30         0.434783            3242\n",
      "31         0.449275            9185\n",
      "32         0.463768           11699\n",
      "33         0.478261           14057\n",
      "34         0.492754           12672\n",
      "35         0.507246            4015\n",
      "36         0.521739            5107\n",
      "37         0.536232            3387\n",
      "38         0.550725            1892\n",
      "39         0.565217             240\n",
      "40         0.579710             172\n",
      "41         0.594203              13\n",
      "42         0.608696               9\n",
      "43         0.623188              13\n",
      "44         0.637681              71\n",
      "45         0.652174              45\n",
      "46         0.666667               4\n",
      "47         0.681159               2\n",
      "48         0.695652               2\n",
      "dtype: int64\n",
      "None None None None None None\n"
     ]
    }
   ],
   "source": [
    "wrangle_zillow.summarize(df)"
   ]
  },
  {
   "cell_type": "markdown",
   "id": "f6f94194",
   "metadata": {},
   "source": [
    "### - Percent of missing values"
   ]
  },
  {
   "cell_type": "code",
   "execution_count": 4,
   "id": "7eb0803e",
   "metadata": {
    "scrolled": false
   },
   "outputs": [
    {
     "data": {
      "text/html": [
       "<div>\n",
       "<style scoped>\n",
       "    .dataframe tbody tr th:only-of-type {\n",
       "        vertical-align: middle;\n",
       "    }\n",
       "\n",
       "    .dataframe tbody tr th {\n",
       "        vertical-align: top;\n",
       "    }\n",
       "\n",
       "    .dataframe thead th {\n",
       "        text-align: right;\n",
       "    }\n",
       "</style>\n",
       "<table border=\"1\" class=\"dataframe\">\n",
       "  <thead>\n",
       "    <tr style=\"text-align: right;\">\n",
       "      <th></th>\n",
       "      <th>count</th>\n",
       "      <th>percent</th>\n",
       "    </tr>\n",
       "  </thead>\n",
       "  <tbody>\n",
       "    <tr>\n",
       "      <th>buildingclasstypeid</th>\n",
       "      <td>71858</td>\n",
       "      <td>1.000000</td>\n",
       "    </tr>\n",
       "    <tr>\n",
       "      <th>buildingclassdesc</th>\n",
       "      <td>71858</td>\n",
       "      <td>1.000000</td>\n",
       "    </tr>\n",
       "    <tr>\n",
       "      <th>finishedsquarefeet13</th>\n",
       "      <td>71856</td>\n",
       "      <td>0.999972</td>\n",
       "    </tr>\n",
       "    <tr>\n",
       "      <th>finishedsquarefeet15</th>\n",
       "      <td>71847</td>\n",
       "      <td>0.999847</td>\n",
       "    </tr>\n",
       "    <tr>\n",
       "      <th>storydesc</th>\n",
       "      <td>71811</td>\n",
       "      <td>0.999346</td>\n",
       "    </tr>\n",
       "    <tr>\n",
       "      <th>basementsqft</th>\n",
       "      <td>71811</td>\n",
       "      <td>0.999346</td>\n",
       "    </tr>\n",
       "    <tr>\n",
       "      <th>storytypeid</th>\n",
       "      <td>71811</td>\n",
       "      <td>0.999346</td>\n",
       "    </tr>\n",
       "    <tr>\n",
       "      <th>yardbuildingsqft26</th>\n",
       "      <td>71788</td>\n",
       "      <td>0.999026</td>\n",
       "    </tr>\n",
       "    <tr>\n",
       "      <th>finishedsquarefeet6</th>\n",
       "      <td>71692</td>\n",
       "      <td>0.997690</td>\n",
       "    </tr>\n",
       "    <tr>\n",
       "      <th>fireplaceflag</th>\n",
       "      <td>71686</td>\n",
       "      <td>0.997606</td>\n",
       "    </tr>\n",
       "    <tr>\n",
       "      <th>architecturalstyletypeid</th>\n",
       "      <td>71651</td>\n",
       "      <td>0.997119</td>\n",
       "    </tr>\n",
       "    <tr>\n",
       "      <th>architecturalstyledesc</th>\n",
       "      <td>71651</td>\n",
       "      <td>0.997119</td>\n",
       "    </tr>\n",
       "    <tr>\n",
       "      <th>typeconstructiontypeid</th>\n",
       "      <td>71635</td>\n",
       "      <td>0.996897</td>\n",
       "    </tr>\n",
       "    <tr>\n",
       "      <th>typeconstructiondesc</th>\n",
       "      <td>71635</td>\n",
       "      <td>0.996897</td>\n",
       "    </tr>\n",
       "    <tr>\n",
       "      <th>pooltypeid10</th>\n",
       "      <td>71394</td>\n",
       "      <td>0.993543</td>\n",
       "    </tr>\n",
       "    <tr>\n",
       "      <th>decktypeid</th>\n",
       "      <td>71269</td>\n",
       "      <td>0.991803</td>\n",
       "    </tr>\n",
       "    <tr>\n",
       "      <th>poolsizesum</th>\n",
       "      <td>70989</td>\n",
       "      <td>0.987907</td>\n",
       "    </tr>\n",
       "    <tr>\n",
       "      <th>pooltypeid2</th>\n",
       "      <td>70784</td>\n",
       "      <td>0.985054</td>\n",
       "    </tr>\n",
       "    <tr>\n",
       "      <th>hashottuborspa</th>\n",
       "      <td>70320</td>\n",
       "      <td>0.978597</td>\n",
       "    </tr>\n",
       "    <tr>\n",
       "      <th>yardbuildingsqft17</th>\n",
       "      <td>69608</td>\n",
       "      <td>0.968688</td>\n",
       "    </tr>\n",
       "    <tr>\n",
       "      <th>taxdelinquencyyear</th>\n",
       "      <td>69243</td>\n",
       "      <td>0.963609</td>\n",
       "    </tr>\n",
       "    <tr>\n",
       "      <th>taxdelinquencyflag</th>\n",
       "      <td>69243</td>\n",
       "      <td>0.963609</td>\n",
       "    </tr>\n",
       "    <tr>\n",
       "      <th>finishedsquarefeet50</th>\n",
       "      <td>66161</td>\n",
       "      <td>0.920719</td>\n",
       "    </tr>\n",
       "    <tr>\n",
       "      <th>finishedfloor1squarefeet</th>\n",
       "      <td>66161</td>\n",
       "      <td>0.920719</td>\n",
       "    </tr>\n",
       "    <tr>\n",
       "      <th>fireplacecnt</th>\n",
       "      <td>63754</td>\n",
       "      <td>0.887222</td>\n",
       "    </tr>\n",
       "    <tr>\n",
       "      <th>threequarterbathnbr</th>\n",
       "      <td>61859</td>\n",
       "      <td>0.860851</td>\n",
       "    </tr>\n",
       "    <tr>\n",
       "      <th>pooltypeid7</th>\n",
       "      <td>57193</td>\n",
       "      <td>0.795917</td>\n",
       "    </tr>\n",
       "    <tr>\n",
       "      <th>poolcnt</th>\n",
       "      <td>56101</td>\n",
       "      <td>0.780720</td>\n",
       "    </tr>\n",
       "    <tr>\n",
       "      <th>numberofstories</th>\n",
       "      <td>54812</td>\n",
       "      <td>0.762782</td>\n",
       "    </tr>\n",
       "    <tr>\n",
       "      <th>airconditioningtypeid</th>\n",
       "      <td>48789</td>\n",
       "      <td>0.678964</td>\n",
       "    </tr>\n",
       "    <tr>\n",
       "      <th>airconditioningdesc</th>\n",
       "      <td>48789</td>\n",
       "      <td>0.678964</td>\n",
       "    </tr>\n",
       "    <tr>\n",
       "      <th>garagetotalsqft</th>\n",
       "      <td>46887</td>\n",
       "      <td>0.652495</td>\n",
       "    </tr>\n",
       "    <tr>\n",
       "      <th>garagecarcnt</th>\n",
       "      <td>46887</td>\n",
       "      <td>0.652495</td>\n",
       "    </tr>\n",
       "    <tr>\n",
       "      <th>regionidneighborhood</th>\n",
       "      <td>43621</td>\n",
       "      <td>0.607044</td>\n",
       "    </tr>\n",
       "    <tr>\n",
       "      <th>buildingqualitytypeid</th>\n",
       "      <td>26795</td>\n",
       "      <td>0.372888</td>\n",
       "    </tr>\n",
       "    <tr>\n",
       "      <th>unitcnt</th>\n",
       "      <td>26422</td>\n",
       "      <td>0.367697</td>\n",
       "    </tr>\n",
       "    <tr>\n",
       "      <th>propertyzoningdesc</th>\n",
       "      <td>26378</td>\n",
       "      <td>0.367085</td>\n",
       "    </tr>\n",
       "    <tr>\n",
       "      <th>heatingorsystemdesc</th>\n",
       "      <td>25178</td>\n",
       "      <td>0.350385</td>\n",
       "    </tr>\n",
       "    <tr>\n",
       "      <th>heatingorsystemtypeid</th>\n",
       "      <td>25178</td>\n",
       "      <td>0.350385</td>\n",
       "    </tr>\n",
       "    <tr>\n",
       "      <th>lotsizesquarefeet</th>\n",
       "      <td>8126</td>\n",
       "      <td>0.113084</td>\n",
       "    </tr>\n",
       "    <tr>\n",
       "      <th>regionidcity</th>\n",
       "      <td>1336</td>\n",
       "      <td>0.018592</td>\n",
       "    </tr>\n",
       "    <tr>\n",
       "      <th>finishedsquarefeet12</th>\n",
       "      <td>335</td>\n",
       "      <td>0.004662</td>\n",
       "    </tr>\n",
       "    <tr>\n",
       "      <th>censustractandblock</th>\n",
       "      <td>227</td>\n",
       "      <td>0.003159</td>\n",
       "    </tr>\n",
       "    <tr>\n",
       "      <th>calculatedbathnbr</th>\n",
       "      <td>223</td>\n",
       "      <td>0.003103</td>\n",
       "    </tr>\n",
       "    <tr>\n",
       "      <th>fullbathcnt</th>\n",
       "      <td>223</td>\n",
       "      <td>0.003103</td>\n",
       "    </tr>\n",
       "    <tr>\n",
       "      <th>yearbuilt</th>\n",
       "      <td>191</td>\n",
       "      <td>0.002658</td>\n",
       "    </tr>\n",
       "    <tr>\n",
       "      <th>calculatedfinishedsquarefeet</th>\n",
       "      <td>156</td>\n",
       "      <td>0.002171</td>\n",
       "    </tr>\n",
       "    <tr>\n",
       "      <th>structuretaxvaluedollarcnt</th>\n",
       "      <td>94</td>\n",
       "      <td>0.001308</td>\n",
       "    </tr>\n",
       "    <tr>\n",
       "      <th>regionidzip</th>\n",
       "      <td>44</td>\n",
       "      <td>0.000612</td>\n",
       "    </tr>\n",
       "    <tr>\n",
       "      <th>taxamount</th>\n",
       "      <td>5</td>\n",
       "      <td>0.000070</td>\n",
       "    </tr>\n",
       "    <tr>\n",
       "      <th>landtaxvaluedollarcnt</th>\n",
       "      <td>2</td>\n",
       "      <td>0.000028</td>\n",
       "    </tr>\n",
       "    <tr>\n",
       "      <th>taxvaluedollarcnt</th>\n",
       "      <td>1</td>\n",
       "      <td>0.000014</td>\n",
       "    </tr>\n",
       "    <tr>\n",
       "      <th>id</th>\n",
       "      <td>0</td>\n",
       "      <td>0.000000</td>\n",
       "    </tr>\n",
       "    <tr>\n",
       "      <th>logerror</th>\n",
       "      <td>0</td>\n",
       "      <td>0.000000</td>\n",
       "    </tr>\n",
       "    <tr>\n",
       "      <th>transactiondate</th>\n",
       "      <td>0</td>\n",
       "      <td>0.000000</td>\n",
       "    </tr>\n",
       "    <tr>\n",
       "      <th>propertylandusetypeid</th>\n",
       "      <td>0</td>\n",
       "      <td>0.000000</td>\n",
       "    </tr>\n",
       "    <tr>\n",
       "      <th>assessmentyear</th>\n",
       "      <td>0</td>\n",
       "      <td>0.000000</td>\n",
       "    </tr>\n",
       "    <tr>\n",
       "      <th>roomcnt</th>\n",
       "      <td>0</td>\n",
       "      <td>0.000000</td>\n",
       "    </tr>\n",
       "    <tr>\n",
       "      <th>regionidcounty</th>\n",
       "      <td>0</td>\n",
       "      <td>0.000000</td>\n",
       "    </tr>\n",
       "    <tr>\n",
       "      <th>rawcensustractandblock</th>\n",
       "      <td>0</td>\n",
       "      <td>0.000000</td>\n",
       "    </tr>\n",
       "    <tr>\n",
       "      <th>propertycountylandusecode</th>\n",
       "      <td>0</td>\n",
       "      <td>0.000000</td>\n",
       "    </tr>\n",
       "    <tr>\n",
       "      <th>parcelid</th>\n",
       "      <td>0</td>\n",
       "      <td>0.000000</td>\n",
       "    </tr>\n",
       "    <tr>\n",
       "      <th>longitude</th>\n",
       "      <td>0</td>\n",
       "      <td>0.000000</td>\n",
       "    </tr>\n",
       "    <tr>\n",
       "      <th>latitude</th>\n",
       "      <td>0</td>\n",
       "      <td>0.000000</td>\n",
       "    </tr>\n",
       "    <tr>\n",
       "      <th>fips</th>\n",
       "      <td>0</td>\n",
       "      <td>0.000000</td>\n",
       "    </tr>\n",
       "    <tr>\n",
       "      <th>bedroomcnt</th>\n",
       "      <td>0</td>\n",
       "      <td>0.000000</td>\n",
       "    </tr>\n",
       "    <tr>\n",
       "      <th>bathroomcnt</th>\n",
       "      <td>0</td>\n",
       "      <td>0.000000</td>\n",
       "    </tr>\n",
       "    <tr>\n",
       "      <th>id</th>\n",
       "      <td>0</td>\n",
       "      <td>0.000000</td>\n",
       "    </tr>\n",
       "    <tr>\n",
       "      <th>propertylandusedesc</th>\n",
       "      <td>0</td>\n",
       "      <td>0.000000</td>\n",
       "    </tr>\n",
       "  </tbody>\n",
       "</table>\n",
       "</div>"
      ],
      "text/plain": [
       "                              count   percent\n",
       "buildingclasstypeid           71858  1.000000\n",
       "buildingclassdesc             71858  1.000000\n",
       "finishedsquarefeet13          71856  0.999972\n",
       "finishedsquarefeet15          71847  0.999847\n",
       "storydesc                     71811  0.999346\n",
       "basementsqft                  71811  0.999346\n",
       "storytypeid                   71811  0.999346\n",
       "yardbuildingsqft26            71788  0.999026\n",
       "finishedsquarefeet6           71692  0.997690\n",
       "fireplaceflag                 71686  0.997606\n",
       "architecturalstyletypeid      71651  0.997119\n",
       "architecturalstyledesc        71651  0.997119\n",
       "typeconstructiontypeid        71635  0.996897\n",
       "typeconstructiondesc          71635  0.996897\n",
       "pooltypeid10                  71394  0.993543\n",
       "decktypeid                    71269  0.991803\n",
       "poolsizesum                   70989  0.987907\n",
       "pooltypeid2                   70784  0.985054\n",
       "hashottuborspa                70320  0.978597\n",
       "yardbuildingsqft17            69608  0.968688\n",
       "taxdelinquencyyear            69243  0.963609\n",
       "taxdelinquencyflag            69243  0.963609\n",
       "finishedsquarefeet50          66161  0.920719\n",
       "finishedfloor1squarefeet      66161  0.920719\n",
       "fireplacecnt                  63754  0.887222\n",
       "threequarterbathnbr           61859  0.860851\n",
       "pooltypeid7                   57193  0.795917\n",
       "poolcnt                       56101  0.780720\n",
       "numberofstories               54812  0.762782\n",
       "airconditioningtypeid         48789  0.678964\n",
       "airconditioningdesc           48789  0.678964\n",
       "garagetotalsqft               46887  0.652495\n",
       "garagecarcnt                  46887  0.652495\n",
       "regionidneighborhood          43621  0.607044\n",
       "buildingqualitytypeid         26795  0.372888\n",
       "unitcnt                       26422  0.367697\n",
       "propertyzoningdesc            26378  0.367085\n",
       "heatingorsystemdesc           25178  0.350385\n",
       "heatingorsystemtypeid         25178  0.350385\n",
       "lotsizesquarefeet              8126  0.113084\n",
       "regionidcity                   1336  0.018592\n",
       "finishedsquarefeet12            335  0.004662\n",
       "censustractandblock             227  0.003159\n",
       "calculatedbathnbr               223  0.003103\n",
       "fullbathcnt                     223  0.003103\n",
       "yearbuilt                       191  0.002658\n",
       "calculatedfinishedsquarefeet    156  0.002171\n",
       "structuretaxvaluedollarcnt       94  0.001308\n",
       "regionidzip                      44  0.000612\n",
       "taxamount                         5  0.000070\n",
       "landtaxvaluedollarcnt             2  0.000028\n",
       "taxvaluedollarcnt                 1  0.000014\n",
       "id                                0  0.000000\n",
       "logerror                          0  0.000000\n",
       "transactiondate                   0  0.000000\n",
       "propertylandusetypeid             0  0.000000\n",
       "assessmentyear                    0  0.000000\n",
       "roomcnt                           0  0.000000\n",
       "regionidcounty                    0  0.000000\n",
       "rawcensustractandblock            0  0.000000\n",
       "propertycountylandusecode         0  0.000000\n",
       "parcelid                          0  0.000000\n",
       "longitude                         0  0.000000\n",
       "latitude                          0  0.000000\n",
       "fips                              0  0.000000\n",
       "bedroomcnt                        0  0.000000\n",
       "bathroomcnt                       0  0.000000\n",
       "id                                0  0.000000\n",
       "propertylandusedesc               0  0.000000"
      ]
     },
     "execution_count": 4,
     "metadata": {},
     "output_type": "execute_result"
    }
   ],
   "source": [
    "wrangle_zillow.nulls_by_columns(df).sort_values(by= 'percent', ascending=False)"
   ]
  },
  {
   "cell_type": "markdown",
   "id": "d9f67c01",
   "metadata": {},
   "source": [
    "# Preparing Data"
   ]
  },
  {
   "cell_type": "markdown",
   "id": "13dedb3a",
   "metadata": {},
   "source": [
    "Fips dictionary:\n",
    "- 6037.0 = Los Angeles,CA\n",
    "- 6059.0 = Orange,CA\n",
    "- 6111.0 = Ventura,CA"
   ]
  },
  {
   "cell_type": "code",
   "execution_count": 5,
   "id": "c85af28f",
   "metadata": {},
   "outputs": [
    {
     "data": {
      "text/plain": [
       "<AxesSubplot:xlabel='bedroomcnt', ylabel='logerror'>"
      ]
     },
     "execution_count": 5,
     "metadata": {},
     "output_type": "execute_result"
    },
    {
     "data": {
      "image/png": "[encoded data removed]",
      "text/plain": [
       "<Figure size 432x288 with 1 Axes>"
      ]
     },
     "metadata": {
      "needs_background": "light"
     },
     "output_type": "display_data"
    }
   ],
   "source": [
    "sns.barplot(x = 'bedroomcnt', y='logerror', hue = 'fips' ,data=df)"
   ]
  },
  {
   "cell_type": "markdown",
   "id": "398f8e62",
   "metadata": {},
   "source": [
    "- it seems like there huge outliers that begin when the bedroom count is higher then 6"
   ]
  },
  {
   "cell_type": "code",
   "execution_count": 6,
   "id": "a5a21f7b",
   "metadata": {},
   "outputs": [
    {
     "data": {
      "text/plain": [
       "<AxesSubplot:xlabel='bathroomcnt', ylabel='logerror'>"
      ]
     },
     "execution_count": 6,
     "metadata": {},
     "output_type": "execute_result"
    },
    {
     "data": {
      "image/png": "[encoded data removed]",
      "text/plain": [
       "<Figure size 432x288 with 1 Axes>"
      ]
     },
     "metadata": {
      "needs_background": "light"
     },
     "output_type": "display_data"
    }
   ],
   "source": [
    "sns.barplot(x = 'bathroomcnt', y='logerror', hue = 'fips' ,data=df)"
   ]
  },
  {
   "cell_type": "markdown",
   "id": "25013d1c",
   "metadata": {},
   "source": [
    "- it seems like there huge outliers that begin when the bathroom count is higher then 5"
   ]
  },
  {
   "cell_type": "code",
   "execution_count": 7,
   "id": "63a7581d",
   "metadata": {},
   "outputs": [
    {
     "data": {
      "text/plain": [
       "<AxesSubplot:xlabel='calculatedfinishedsquarefeet', ylabel='logerror'>"
      ]
     },
     "execution_count": 7,
     "metadata": {},
     "output_type": "execute_result"
    },
    {
     "data": {
      "image/png": "[encoded data removed]",
      "text/plain": [
       "<Figure size 432x288 with 1 Axes>"
      ]
     },
     "metadata": {
      "needs_background": "light"
     },
     "output_type": "display_data"
    }
   ],
   "source": [
    "sns.barplot(x = 'calculatedfinishedsquarefeet', y='logerror', hue = 'fips' ,data=df.sample(10))"
   ]
  },
  {
   "cell_type": "code",
   "execution_count": 8,
   "id": "d799d50b",
   "metadata": {},
   "outputs": [
    {
     "data": {
      "text/plain": [
       "0100    26783\n",
       "122     13067\n",
       "010C     8838\n",
       "0101     6413\n",
       "34       4932\n",
       "1111     3362\n",
       "1        2398\n",
       "010E     2053\n",
       "1129     1380\n",
       "1110     1025\n",
       "012C      385\n",
       "0104      369\n",
       "01DC      212\n",
       "01HC      137\n",
       "010G       94\n",
       "0103       91\n",
       "010H       64\n",
       "0108       57\n",
       "010M       53\n",
       "0700       50\n",
       "0109       18\n",
       "01HE       11\n",
       "1116       10\n",
       "73          9\n",
       "1112        8\n",
       "0113        6\n",
       "0110        6\n",
       "070D        5\n",
       "0141        4\n",
       "0105        3\n",
       "0102        3\n",
       "010V        3\n",
       "0111        2\n",
       "0130        2\n",
       "0131        1\n",
       "0133        1\n",
       "0115        1\n",
       "010L        1\n",
       "0114        1\n",
       "Name: propertycountylandusecode, dtype: int64"
      ]
     },
     "execution_count": 8,
     "metadata": {},
     "output_type": "execute_result"
    }
   ],
   "source": [
    "df.propertycountylandusecode.value_counts()"
   ]
  },
  {
   "cell_type": "code",
   "execution_count": 9,
   "id": "076573ba",
   "metadata": {},
   "outputs": [
    {
     "name": "stdout",
     "output_type": "stream",
     "text": [
      "Before dropping nulls, 71858 rows, 69 cols\n",
      "After dropping nulls. 56695 rows. 35 cols\n",
      "Train: 38552 rows, 35 cols\n",
      "Validate: 9638 rows, 35 cols\n",
      "Test: 8505 rows, 35 cols\n"
     ]
    }
   ],
   "source": [
    "train = wrangle_zillow.get_exploration_data(df)"
   ]
  },
  {
   "cell_type": "code",
   "execution_count": 10,
   "id": "3ca948ab",
   "metadata": {},
   "outputs": [
    {
     "data": {
      "text/html": [
       "<div>\n",
       "<style scoped>\n",
       "    .dataframe tbody tr th:only-of-type {\n",
       "        vertical-align: middle;\n",
       "    }\n",
       "\n",
       "    .dataframe tbody tr th {\n",
       "        vertical-align: top;\n",
       "    }\n",
       "\n",
       "    .dataframe thead th {\n",
       "        text-align: right;\n",
       "    }\n",
       "</style>\n",
       "<table border=\"1\" class=\"dataframe\">\n",
       "  <thead>\n",
       "    <tr style=\"text-align: right;\">\n",
       "      <th></th>\n",
       "      <th>propertylandusetypeid</th>\n",
       "      <th>parcelid</th>\n",
       "      <th>heatingorsystemtypeid</th>\n",
       "      <th>id</th>\n",
       "      <th>bathroomcnt</th>\n",
       "      <th>bedroomcnt</th>\n",
       "      <th>buildingqualitytypeid</th>\n",
       "      <th>calculatedbathnbr</th>\n",
       "      <th>calculatedfinishedsquarefeet</th>\n",
       "      <th>finishedsquarefeet12</th>\n",
       "      <th>...</th>\n",
       "      <th>taxvaluedollarcnt</th>\n",
       "      <th>assessmentyear</th>\n",
       "      <th>landtaxvaluedollarcnt</th>\n",
       "      <th>taxamount</th>\n",
       "      <th>censustractandblock</th>\n",
       "      <th>id</th>\n",
       "      <th>logerror</th>\n",
       "      <th>transactiondate</th>\n",
       "      <th>heatingorsystemdesc</th>\n",
       "      <th>propertylandusedesc</th>\n",
       "    </tr>\n",
       "  </thead>\n",
       "  <tbody>\n",
       "    <tr>\n",
       "      <th>41854</th>\n",
       "      <td>261.0</td>\n",
       "      <td>10917700</td>\n",
       "      <td>7.0</td>\n",
       "      <td>1075604</td>\n",
       "      <td>2.0</td>\n",
       "      <td>2.0</td>\n",
       "      <td>4.0</td>\n",
       "      <td>2.0</td>\n",
       "      <td>2122.0</td>\n",
       "      <td>2122.0</td>\n",
       "      <td>...</td>\n",
       "      <td>114895.0</td>\n",
       "      <td>2016.0</td>\n",
       "      <td>56723.0</td>\n",
       "      <td>1675.81</td>\n",
       "      <td>6.037144e+13</td>\n",
       "      <td>45268</td>\n",
       "      <td>0.056966</td>\n",
       "      <td>2017-06-09</td>\n",
       "      <td>Floor/Wall</td>\n",
       "      <td>Single Family Residential</td>\n",
       "    </tr>\n",
       "    <tr>\n",
       "      <th>65758</th>\n",
       "      <td>261.0</td>\n",
       "      <td>14435268</td>\n",
       "      <td>0.0</td>\n",
       "      <td>1757862</td>\n",
       "      <td>4.5</td>\n",
       "      <td>4.0</td>\n",
       "      <td>0.0</td>\n",
       "      <td>4.5</td>\n",
       "      <td>3953.0</td>\n",
       "      <td>3953.0</td>\n",
       "      <td>...</td>\n",
       "      <td>1125188.0</td>\n",
       "      <td>2016.0</td>\n",
       "      <td>571389.0</td>\n",
       "      <td>11335.50</td>\n",
       "      <td>6.059042e+13</td>\n",
       "      <td>70992</td>\n",
       "      <td>-0.310189</td>\n",
       "      <td>2017-08-28</td>\n",
       "      <td>none</td>\n",
       "      <td>Single Family Residential</td>\n",
       "    </tr>\n",
       "    <tr>\n",
       "      <th>62935</th>\n",
       "      <td>266.0</td>\n",
       "      <td>11096264</td>\n",
       "      <td>2.0</td>\n",
       "      <td>1031703</td>\n",
       "      <td>2.0</td>\n",
       "      <td>2.0</td>\n",
       "      <td>8.0</td>\n",
       "      <td>2.0</td>\n",
       "      <td>907.0</td>\n",
       "      <td>907.0</td>\n",
       "      <td>...</td>\n",
       "      <td>198162.0</td>\n",
       "      <td>2016.0</td>\n",
       "      <td>96078.0</td>\n",
       "      <td>2459.49</td>\n",
       "      <td>6.037113e+13</td>\n",
       "      <td>67952</td>\n",
       "      <td>-0.030675</td>\n",
       "      <td>2017-08-18</td>\n",
       "      <td>Central</td>\n",
       "      <td>Condominium</td>\n",
       "    </tr>\n",
       "    <tr>\n",
       "      <th>41182</th>\n",
       "      <td>261.0</td>\n",
       "      <td>12978348</td>\n",
       "      <td>7.0</td>\n",
       "      <td>1829762</td>\n",
       "      <td>1.0</td>\n",
       "      <td>3.0</td>\n",
       "      <td>4.0</td>\n",
       "      <td>1.0</td>\n",
       "      <td>1256.0</td>\n",
       "      <td>1256.0</td>\n",
       "      <td>...</td>\n",
       "      <td>318266.0</td>\n",
       "      <td>2016.0</td>\n",
       "      <td>205973.0</td>\n",
       "      <td>4074.43</td>\n",
       "      <td>6.037405e+13</td>\n",
       "      <td>44531</td>\n",
       "      <td>0.033915</td>\n",
       "      <td>2017-06-08</td>\n",
       "      <td>Floor/Wall</td>\n",
       "      <td>Single Family Residential</td>\n",
       "    </tr>\n",
       "    <tr>\n",
       "      <th>44077</th>\n",
       "      <td>261.0</td>\n",
       "      <td>12689873</td>\n",
       "      <td>2.0</td>\n",
       "      <td>1171679</td>\n",
       "      <td>5.0</td>\n",
       "      <td>4.0</td>\n",
       "      <td>11.0</td>\n",
       "      <td>5.0</td>\n",
       "      <td>4570.0</td>\n",
       "      <td>4570.0</td>\n",
       "      <td>...</td>\n",
       "      <td>1914031.0</td>\n",
       "      <td>2016.0</td>\n",
       "      <td>1429595.0</td>\n",
       "      <td>22330.56</td>\n",
       "      <td>6.037670e+13</td>\n",
       "      <td>47653</td>\n",
       "      <td>0.077013</td>\n",
       "      <td>2017-06-16</td>\n",
       "      <td>Central</td>\n",
       "      <td>Single Family Residential</td>\n",
       "    </tr>\n",
       "    <tr>\n",
       "      <th>...</th>\n",
       "      <td>...</td>\n",
       "      <td>...</td>\n",
       "      <td>...</td>\n",
       "      <td>...</td>\n",
       "      <td>...</td>\n",
       "      <td>...</td>\n",
       "      <td>...</td>\n",
       "      <td>...</td>\n",
       "      <td>...</td>\n",
       "      <td>...</td>\n",
       "      <td>...</td>\n",
       "      <td>...</td>\n",
       "      <td>...</td>\n",
       "      <td>...</td>\n",
       "      <td>...</td>\n",
       "      <td>...</td>\n",
       "      <td>...</td>\n",
       "      <td>...</td>\n",
       "      <td>...</td>\n",
       "      <td>...</td>\n",
       "      <td>...</td>\n",
       "    </tr>\n",
       "    <tr>\n",
       "      <th>63216</th>\n",
       "      <td>261.0</td>\n",
       "      <td>12301140</td>\n",
       "      <td>2.0</td>\n",
       "      <td>320066</td>\n",
       "      <td>1.0</td>\n",
       "      <td>3.0</td>\n",
       "      <td>4.0</td>\n",
       "      <td>1.0</td>\n",
       "      <td>1308.0</td>\n",
       "      <td>1308.0</td>\n",
       "      <td>...</td>\n",
       "      <td>355000.0</td>\n",
       "      <td>2016.0</td>\n",
       "      <td>234000.0</td>\n",
       "      <td>4527.61</td>\n",
       "      <td>6.037536e+13</td>\n",
       "      <td>68263</td>\n",
       "      <td>0.033574</td>\n",
       "      <td>2017-08-18</td>\n",
       "      <td>Central</td>\n",
       "      <td>Single Family Residential</td>\n",
       "    </tr>\n",
       "    <tr>\n",
       "      <th>1100</th>\n",
       "      <td>261.0</td>\n",
       "      <td>14166104</td>\n",
       "      <td>0.0</td>\n",
       "      <td>444345</td>\n",
       "      <td>4.5</td>\n",
       "      <td>4.0</td>\n",
       "      <td>0.0</td>\n",
       "      <td>4.5</td>\n",
       "      <td>3162.0</td>\n",
       "      <td>3162.0</td>\n",
       "      <td>...</td>\n",
       "      <td>893126.0</td>\n",
       "      <td>2016.0</td>\n",
       "      <td>507082.0</td>\n",
       "      <td>10392.12</td>\n",
       "      <td>6.059022e+13</td>\n",
       "      <td>1181</td>\n",
       "      <td>0.062959</td>\n",
       "      <td>2017-01-06</td>\n",
       "      <td>none</td>\n",
       "      <td>Single Family Residential</td>\n",
       "    </tr>\n",
       "    <tr>\n",
       "      <th>957</th>\n",
       "      <td>261.0</td>\n",
       "      <td>10860028</td>\n",
       "      <td>2.0</td>\n",
       "      <td>2253801</td>\n",
       "      <td>3.0</td>\n",
       "      <td>4.0</td>\n",
       "      <td>6.0</td>\n",
       "      <td>3.0</td>\n",
       "      <td>1557.0</td>\n",
       "      <td>1557.0</td>\n",
       "      <td>...</td>\n",
       "      <td>644683.0</td>\n",
       "      <td>2016.0</td>\n",
       "      <td>496863.0</td>\n",
       "      <td>7829.22</td>\n",
       "      <td>6.037129e+13</td>\n",
       "      <td>1029</td>\n",
       "      <td>0.017751</td>\n",
       "      <td>2017-01-05</td>\n",
       "      <td>Central</td>\n",
       "      <td>Single Family Residential</td>\n",
       "    </tr>\n",
       "    <tr>\n",
       "      <th>15469</th>\n",
       "      <td>261.0</td>\n",
       "      <td>17082887</td>\n",
       "      <td>0.0</td>\n",
       "      <td>1014512</td>\n",
       "      <td>1.0</td>\n",
       "      <td>2.0</td>\n",
       "      <td>0.0</td>\n",
       "      <td>1.0</td>\n",
       "      <td>1152.0</td>\n",
       "      <td>1152.0</td>\n",
       "      <td>...</td>\n",
       "      <td>64678.0</td>\n",
       "      <td>2016.0</td>\n",
       "      <td>37564.0</td>\n",
       "      <td>772.38</td>\n",
       "      <td>6.111002e+13</td>\n",
       "      <td>16749</td>\n",
       "      <td>0.090198</td>\n",
       "      <td>2017-03-14</td>\n",
       "      <td>none</td>\n",
       "      <td>Single Family Residential</td>\n",
       "    </tr>\n",
       "    <tr>\n",
       "      <th>60187</th>\n",
       "      <td>261.0</td>\n",
       "      <td>10908330</td>\n",
       "      <td>7.0</td>\n",
       "      <td>2328283</td>\n",
       "      <td>1.0</td>\n",
       "      <td>2.0</td>\n",
       "      <td>4.0</td>\n",
       "      <td>1.0</td>\n",
       "      <td>938.0</td>\n",
       "      <td>938.0</td>\n",
       "      <td>...</td>\n",
       "      <td>397616.0</td>\n",
       "      <td>2016.0</td>\n",
       "      <td>318097.0</td>\n",
       "      <td>4781.09</td>\n",
       "      <td>6.037143e+13</td>\n",
       "      <td>64977</td>\n",
       "      <td>-0.074044</td>\n",
       "      <td>2017-08-09</td>\n",
       "      <td>Floor/Wall</td>\n",
       "      <td>Single Family Residential</td>\n",
       "    </tr>\n",
       "  </tbody>\n",
       "</table>\n",
       "<p>38552 rows × 35 columns</p>\n",
       "</div>"
      ],
      "text/plain": [
       "       propertylandusetypeid  parcelid  heatingorsystemtypeid       id  \\\n",
       "41854                  261.0  10917700                    7.0  1075604   \n",
       "65758                  261.0  14435268                    0.0  1757862   \n",
       "62935                  266.0  11096264                    2.0  1031703   \n",
       "41182                  261.0  12978348                    7.0  1829762   \n",
       "44077                  261.0  12689873                    2.0  1171679   \n",
       "...                      ...       ...                    ...      ...   \n",
       "63216                  261.0  12301140                    2.0   320066   \n",
       "1100                   261.0  14166104                    0.0   444345   \n",
       "957                    261.0  10860028                    2.0  2253801   \n",
       "15469                  261.0  17082887                    0.0  1014512   \n",
       "60187                  261.0  10908330                    7.0  2328283   \n",
       "\n",
       "       bathroomcnt  bedroomcnt  buildingqualitytypeid  calculatedbathnbr  \\\n",
       "41854          2.0         2.0                    4.0                2.0   \n",
       "65758          4.5         4.0                    0.0                4.5   \n",
       "62935          2.0         2.0                    8.0                2.0   \n",
       "41182          1.0         3.0                    4.0                1.0   \n",
       "44077          5.0         4.0                   11.0                5.0   \n",
       "...            ...         ...                    ...                ...   \n",
       "63216          1.0         3.0                    4.0                1.0   \n",
       "1100           4.5         4.0                    0.0                4.5   \n",
       "957            3.0         4.0                    6.0                3.0   \n",
       "15469          1.0         2.0                    0.0                1.0   \n",
       "60187          1.0         2.0                    4.0                1.0   \n",
       "\n",
       "       calculatedfinishedsquarefeet  finishedsquarefeet12  ...  \\\n",
       "41854                        2122.0                2122.0  ...   \n",
       "65758                        3953.0                3953.0  ...   \n",
       "62935                         907.0                 907.0  ...   \n",
       "41182                        1256.0                1256.0  ...   \n",
       "44077                        4570.0                4570.0  ...   \n",
       "...                             ...                   ...  ...   \n",
       "63216                        1308.0                1308.0  ...   \n",
       "1100                         3162.0                3162.0  ...   \n",
       "957                          1557.0                1557.0  ...   \n",
       "15469                        1152.0                1152.0  ...   \n",
       "60187                         938.0                 938.0  ...   \n",
       "\n",
       "       taxvaluedollarcnt  assessmentyear  landtaxvaluedollarcnt  taxamount  \\\n",
       "41854           114895.0          2016.0                56723.0    1675.81   \n",
       "65758          1125188.0          2016.0               571389.0   11335.50   \n",
       "62935           198162.0          2016.0                96078.0    2459.49   \n",
       "41182           318266.0          2016.0               205973.0    4074.43   \n",
       "44077          1914031.0          2016.0              1429595.0   22330.56   \n",
       "...                  ...             ...                    ...        ...   \n",
       "63216           355000.0          2016.0               234000.0    4527.61   \n",
       "1100            893126.0          2016.0               507082.0   10392.12   \n",
       "957             644683.0          2016.0               496863.0    7829.22   \n",
       "15469            64678.0          2016.0                37564.0     772.38   \n",
       "60187           397616.0          2016.0               318097.0    4781.09   \n",
       "\n",
       "       censustractandblock     id  logerror  transactiondate  \\\n",
       "41854         6.037144e+13  45268  0.056966       2017-06-09   \n",
       "65758         6.059042e+13  70992 -0.310189       2017-08-28   \n",
       "62935         6.037113e+13  67952 -0.030675       2017-08-18   \n",
       "41182         6.037405e+13  44531  0.033915       2017-06-08   \n",
       "44077         6.037670e+13  47653  0.077013       2017-06-16   \n",
       "...                    ...    ...       ...              ...   \n",
       "63216         6.037536e+13  68263  0.033574       2017-08-18   \n",
       "1100          6.059022e+13   1181  0.062959       2017-01-06   \n",
       "957           6.037129e+13   1029  0.017751       2017-01-05   \n",
       "15469         6.111002e+13  16749  0.090198       2017-03-14   \n",
       "60187         6.037143e+13  64977 -0.074044       2017-08-09   \n",
       "\n",
       "       heatingorsystemdesc        propertylandusedesc  \n",
       "41854           Floor/Wall  Single Family Residential  \n",
       "65758                 none  Single Family Residential  \n",
       "62935              Central                Condominium  \n",
       "41182           Floor/Wall  Single Family Residential  \n",
       "44077              Central  Single Family Residential  \n",
       "...                    ...                        ...  \n",
       "63216              Central  Single Family Residential  \n",
       "1100                  none  Single Family Residential  \n",
       "957                Central  Single Family Residential  \n",
       "15469                 none  Single Family Residential  \n",
       "60187           Floor/Wall  Single Family Residential  \n",
       "\n",
       "[38552 rows x 35 columns]"
      ]
     },
     "execution_count": 10,
     "metadata": {},
     "output_type": "execute_result"
    }
   ],
   "source": [
    "train"
   ]
  },
  {
   "cell_type": "code",
   "execution_count": 11,
   "id": "62eb022e",
   "metadata": {},
   "outputs": [
    {
     "data": {
      "text/html": [
       "<div>\n",
       "<style scoped>\n",
       "    .dataframe tbody tr th:only-of-type {\n",
       "        vertical-align: middle;\n",
       "    }\n",
       "\n",
       "    .dataframe tbody tr th {\n",
       "        vertical-align: top;\n",
       "    }\n",
       "\n",
       "    .dataframe thead th {\n",
       "        text-align: right;\n",
       "    }\n",
       "</style>\n",
       "<table border=\"1\" class=\"dataframe\">\n",
       "  <thead>\n",
       "    <tr style=\"text-align: right;\">\n",
       "      <th></th>\n",
       "      <th>propertylandusetypeid</th>\n",
       "      <th>parcelid</th>\n",
       "      <th>heatingorsystemtypeid</th>\n",
       "      <th>id</th>\n",
       "      <th>bathroomcnt</th>\n",
       "      <th>bedroomcnt</th>\n",
       "      <th>buildingqualitytypeid</th>\n",
       "      <th>calculatedbathnbr</th>\n",
       "      <th>calculatedfinishedsquarefeet</th>\n",
       "      <th>finishedsquarefeet12</th>\n",
       "      <th>...</th>\n",
       "      <th>unitcnt</th>\n",
       "      <th>yearbuilt</th>\n",
       "      <th>structuretaxvaluedollarcnt</th>\n",
       "      <th>taxvaluedollarcnt</th>\n",
       "      <th>assessmentyear</th>\n",
       "      <th>landtaxvaluedollarcnt</th>\n",
       "      <th>taxamount</th>\n",
       "      <th>censustractandblock</th>\n",
       "      <th>id</th>\n",
       "      <th>logerror</th>\n",
       "    </tr>\n",
       "  </thead>\n",
       "  <tbody>\n",
       "    <tr>\n",
       "      <th>count</th>\n",
       "      <td>38552.000000</td>\n",
       "      <td>3.855200e+04</td>\n",
       "      <td>38552.000000</td>\n",
       "      <td>3.855200e+04</td>\n",
       "      <td>38552.000000</td>\n",
       "      <td>38552.000000</td>\n",
       "      <td>38552.000000</td>\n",
       "      <td>38552.000000</td>\n",
       "      <td>38552.000000</td>\n",
       "      <td>38552.000000</td>\n",
       "      <td>...</td>\n",
       "      <td>38552.000000</td>\n",
       "      <td>38552.000000</td>\n",
       "      <td>3.855200e+04</td>\n",
       "      <td>3.855200e+04</td>\n",
       "      <td>38552.0</td>\n",
       "      <td>3.855200e+04</td>\n",
       "      <td>38552.000000</td>\n",
       "      <td>3.855200e+04</td>\n",
       "      <td>38552.000000</td>\n",
       "      <td>38552.000000</td>\n",
       "    </tr>\n",
       "    <tr>\n",
       "      <th>mean</th>\n",
       "      <td>261.970767</td>\n",
       "      <td>1.267251e+07</td>\n",
       "      <td>2.736045</td>\n",
       "      <td>1.494572e+06</td>\n",
       "      <td>2.262191</td>\n",
       "      <td>3.074056</td>\n",
       "      <td>4.945450</td>\n",
       "      <td>2.262191</td>\n",
       "      <td>1776.633223</td>\n",
       "      <td>1776.633223</td>\n",
       "      <td>...</td>\n",
       "      <td>0.759935</td>\n",
       "      <td>1965.399824</td>\n",
       "      <td>1.870363e+05</td>\n",
       "      <td>4.896801e+05</td>\n",
       "      <td>2016.0</td>\n",
       "      <td>3.026437e+05</td>\n",
       "      <td>5979.485682</td>\n",
       "      <td>6.046839e+13</td>\n",
       "      <td>38832.131381</td>\n",
       "      <td>0.015923</td>\n",
       "    </tr>\n",
       "    <tr>\n",
       "      <th>std</th>\n",
       "      <td>1.977370</td>\n",
       "      <td>2.421141e+06</td>\n",
       "      <td>2.573896</td>\n",
       "      <td>8.600722e+05</td>\n",
       "      <td>0.964854</td>\n",
       "      <td>1.007373</td>\n",
       "      <td>3.177018</td>\n",
       "      <td>0.964854</td>\n",
       "      <td>945.744315</td>\n",
       "      <td>945.744315</td>\n",
       "      <td>...</td>\n",
       "      <td>0.428281</td>\n",
       "      <td>22.273510</td>\n",
       "      <td>2.260637e+05</td>\n",
       "      <td>6.468697e+05</td>\n",
       "      <td>0.0</td>\n",
       "      <td>4.751905e+05</td>\n",
       "      <td>7473.771948</td>\n",
       "      <td>2.067818e+11</td>\n",
       "      <td>22455.310236</td>\n",
       "      <td>0.160365</td>\n",
       "    </tr>\n",
       "    <tr>\n",
       "      <th>min</th>\n",
       "      <td>261.000000</td>\n",
       "      <td>1.071186e+07</td>\n",
       "      <td>0.000000</td>\n",
       "      <td>3.490000e+02</td>\n",
       "      <td>1.000000</td>\n",
       "      <td>0.000000</td>\n",
       "      <td>0.000000</td>\n",
       "      <td>1.000000</td>\n",
       "      <td>152.000000</td>\n",
       "      <td>152.000000</td>\n",
       "      <td>...</td>\n",
       "      <td>0.000000</td>\n",
       "      <td>1878.000000</td>\n",
       "      <td>1.810000e+02</td>\n",
       "      <td>9.242000e+03</td>\n",
       "      <td>2016.0</td>\n",
       "      <td>1.610000e+02</td>\n",
       "      <td>51.260000</td>\n",
       "      <td>6.037101e+13</td>\n",
       "      <td>1.000000</td>\n",
       "      <td>-4.655420</td>\n",
       "    </tr>\n",
       "    <tr>\n",
       "      <th>25%</th>\n",
       "      <td>261.000000</td>\n",
       "      <td>1.138129e+07</td>\n",
       "      <td>2.000000</td>\n",
       "      <td>7.513960e+05</td>\n",
       "      <td>2.000000</td>\n",
       "      <td>2.000000</td>\n",
       "      <td>4.000000</td>\n",
       "      <td>2.000000</td>\n",
       "      <td>1178.000000</td>\n",
       "      <td>1178.000000</td>\n",
       "      <td>...</td>\n",
       "      <td>1.000000</td>\n",
       "      <td>1951.000000</td>\n",
       "      <td>8.386600e+04</td>\n",
       "      <td>1.928950e+05</td>\n",
       "      <td>2016.0</td>\n",
       "      <td>7.171425e+04</td>\n",
       "      <td>2620.047500</td>\n",
       "      <td>6.037274e+13</td>\n",
       "      <td>19389.750000</td>\n",
       "      <td>-0.025348</td>\n",
       "    </tr>\n",
       "    <tr>\n",
       "      <th>50%</th>\n",
       "      <td>261.000000</td>\n",
       "      <td>1.224192e+07</td>\n",
       "      <td>2.000000</td>\n",
       "      <td>1.495003e+06</td>\n",
       "      <td>2.000000</td>\n",
       "      <td>3.000000</td>\n",
       "      <td>6.000000</td>\n",
       "      <td>2.000000</td>\n",
       "      <td>1535.000000</td>\n",
       "      <td>1535.000000</td>\n",
       "      <td>...</td>\n",
       "      <td>1.000000</td>\n",
       "      <td>1964.000000</td>\n",
       "      <td>1.334215e+05</td>\n",
       "      <td>3.458985e+05</td>\n",
       "      <td>2016.0</td>\n",
       "      <td>1.937015e+05</td>\n",
       "      <td>4339.380000</td>\n",
       "      <td>6.037551e+13</td>\n",
       "      <td>38925.500000</td>\n",
       "      <td>0.006411</td>\n",
       "    </tr>\n",
       "    <tr>\n",
       "      <th>75%</th>\n",
       "      <td>261.000000</td>\n",
       "      <td>1.306716e+07</td>\n",
       "      <td>2.000000</td>\n",
       "      <td>2.243004e+06</td>\n",
       "      <td>3.000000</td>\n",
       "      <td>4.000000</td>\n",
       "      <td>8.000000</td>\n",
       "      <td>3.000000</td>\n",
       "      <td>2098.000000</td>\n",
       "      <td>2098.000000</td>\n",
       "      <td>...</td>\n",
       "      <td>1.000000</td>\n",
       "      <td>1981.000000</td>\n",
       "      <td>2.119868e+05</td>\n",
       "      <td>5.640000e+05</td>\n",
       "      <td>2016.0</td>\n",
       "      <td>3.700000e+05</td>\n",
       "      <td>6759.307500</td>\n",
       "      <td>6.037920e+13</td>\n",
       "      <td>58177.000000</td>\n",
       "      <td>0.039372</td>\n",
       "    </tr>\n",
       "    <tr>\n",
       "      <th>max</th>\n",
       "      <td>266.000000</td>\n",
       "      <td>1.629608e+08</td>\n",
       "      <td>24.000000</td>\n",
       "      <td>2.982167e+06</td>\n",
       "      <td>13.000000</td>\n",
       "      <td>11.000000</td>\n",
       "      <td>12.000000</td>\n",
       "      <td>13.000000</td>\n",
       "      <td>21929.000000</td>\n",
       "      <td>21929.000000</td>\n",
       "      <td>...</td>\n",
       "      <td>3.000000</td>\n",
       "      <td>2016.000000</td>\n",
       "      <td>9.164901e+06</td>\n",
       "      <td>2.538125e+07</td>\n",
       "      <td>2016.0</td>\n",
       "      <td>2.233550e+07</td>\n",
       "      <td>288524.600000</td>\n",
       "      <td>6.111009e+13</td>\n",
       "      <td>77613.000000</td>\n",
       "      <td>3.175688</td>\n",
       "    </tr>\n",
       "  </tbody>\n",
       "</table>\n",
       "<p>8 rows × 30 columns</p>\n",
       "</div>"
      ],
      "text/plain": [
       "       propertylandusetypeid      parcelid  heatingorsystemtypeid  \\\n",
       "count           38552.000000  3.855200e+04           38552.000000   \n",
       "mean              261.970767  1.267251e+07               2.736045   \n",
       "std                 1.977370  2.421141e+06               2.573896   \n",
       "min               261.000000  1.071186e+07               0.000000   \n",
       "25%               261.000000  1.138129e+07               2.000000   \n",
       "50%               261.000000  1.224192e+07               2.000000   \n",
       "75%               261.000000  1.306716e+07               2.000000   \n",
       "max               266.000000  1.629608e+08              24.000000   \n",
       "\n",
       "                 id   bathroomcnt    bedroomcnt  buildingqualitytypeid  \\\n",
       "count  3.855200e+04  38552.000000  38552.000000           38552.000000   \n",
       "mean   1.494572e+06      2.262191      3.074056               4.945450   \n",
       "std    8.600722e+05      0.964854      1.007373               3.177018   \n",
       "min    3.490000e+02      1.000000      0.000000               0.000000   \n",
       "25%    7.513960e+05      2.000000      2.000000               4.000000   \n",
       "50%    1.495003e+06      2.000000      3.000000               6.000000   \n",
       "75%    2.243004e+06      3.000000      4.000000               8.000000   \n",
       "max    2.982167e+06     13.000000     11.000000              12.000000   \n",
       "\n",
       "       calculatedbathnbr  calculatedfinishedsquarefeet  finishedsquarefeet12  \\\n",
       "count       38552.000000                  38552.000000          38552.000000   \n",
       "mean            2.262191                   1776.633223           1776.633223   \n",
       "std             0.964854                    945.744315            945.744315   \n",
       "min             1.000000                    152.000000            152.000000   \n",
       "25%             2.000000                   1178.000000           1178.000000   \n",
       "50%             2.000000                   1535.000000           1535.000000   \n",
       "75%             3.000000                   2098.000000           2098.000000   \n",
       "max            13.000000                  21929.000000          21929.000000   \n",
       "\n",
       "       ...       unitcnt     yearbuilt  structuretaxvaluedollarcnt  \\\n",
       "count  ...  38552.000000  38552.000000                3.855200e+04   \n",
       "mean   ...      0.759935   1965.399824                1.870363e+05   \n",
       "std    ...      0.428281     22.273510                2.260637e+05   \n",
       "min    ...      0.000000   1878.000000                1.810000e+02   \n",
       "25%    ...      1.000000   1951.000000                8.386600e+04   \n",
       "50%    ...      1.000000   1964.000000                1.334215e+05   \n",
       "75%    ...      1.000000   1981.000000                2.119868e+05   \n",
       "max    ...      3.000000   2016.000000                9.164901e+06   \n",
       "\n",
       "       taxvaluedollarcnt  assessmentyear  landtaxvaluedollarcnt  \\\n",
       "count       3.855200e+04         38552.0           3.855200e+04   \n",
       "mean        4.896801e+05          2016.0           3.026437e+05   \n",
       "std         6.468697e+05             0.0           4.751905e+05   \n",
       "min         9.242000e+03          2016.0           1.610000e+02   \n",
       "25%         1.928950e+05          2016.0           7.171425e+04   \n",
       "50%         3.458985e+05          2016.0           1.937015e+05   \n",
       "75%         5.640000e+05          2016.0           3.700000e+05   \n",
       "max         2.538125e+07          2016.0           2.233550e+07   \n",
       "\n",
       "           taxamount  censustractandblock            id      logerror  \n",
       "count   38552.000000         3.855200e+04  38552.000000  38552.000000  \n",
       "mean     5979.485682         6.046839e+13  38832.131381      0.015923  \n",
       "std      7473.771948         2.067818e+11  22455.310236      0.160365  \n",
       "min        51.260000         6.037101e+13      1.000000     -4.655420  \n",
       "25%      2620.047500         6.037274e+13  19389.750000     -0.025348  \n",
       "50%      4339.380000         6.037551e+13  38925.500000      0.006411  \n",
       "75%      6759.307500         6.037920e+13  58177.000000      0.039372  \n",
       "max    288524.600000         6.111009e+13  77613.000000      3.175688  \n",
       "\n",
       "[8 rows x 30 columns]"
      ]
     },
     "execution_count": 11,
     "metadata": {},
     "output_type": "execute_result"
    }
   ],
   "source": [
    "train.describe()"
   ]
  },
  {
   "cell_type": "code",
   "execution_count": 12,
   "id": "646ae9de",
   "metadata": {
    "scrolled": false
   },
   "outputs": [
    {
     "data": {
      "image/png": "[encoded data removed]",
      "text/plain": [
       "<Figure size 288x144 with 1 Axes>"
      ]
     },
     "metadata": {
      "needs_background": "light"
     },
     "output_type": "display_data"
    },
    {
     "data": {
      "image/png": "[encoded data removed]",
      "text/plain": [
       "<Figure size 288x144 with 1 Axes>"
      ]
     },
     "metadata": {
      "needs_background": "light"
     },
     "output_type": "display_data"
    },
    {
     "data": {
      "image/png": "[encoded data removed]",
      "text/plain": [
       "<Figure size 288x144 with 1 Axes>"
      ]
     },
     "metadata": {
      "needs_background": "light"
     },
     "output_type": "display_data"
    },
    {
     "data": {
      "image/png": "[encoded data removed]",
      "text/plain": [
       "<Figure size 288x144 with 1 Axes>"
      ]
     },
     "metadata": {
      "needs_background": "light"
     },
     "output_type": "display_data"
    },
    {
     "data": {
      "image/png": "[encoded data removed]",
      "text/plain": [
       "<Figure size 288x144 with 1 Axes>"
      ]
     },
     "metadata": {
      "needs_background": "light"
     },
     "output_type": "display_data"
    },
    {
     "data": {
      "image/png": "[encoded data removed]",
      "text/plain": [
       "<Figure size 288x144 with 1 Axes>"
      ]
     },
     "metadata": {
      "needs_background": "light"
     },
     "output_type": "display_data"
    },
    {
     "data": {
      "image/png": "[encoded data removed]",
      "text/plain": [
       "<Figure size 288x144 with 1 Axes>"
      ]
     },
     "metadata": {
      "needs_background": "light"
     },
     "output_type": "display_data"
    },
    {
     "data": {
      "image/png": "[encoded data removed]",
      "text/plain": [
       "<Figure size 288x144 with 1 Axes>"
      ]
     },
     "metadata": {
      "needs_background": "light"
     },
     "output_type": "display_data"
    },
    {
     "data": {
      "image/png": "[encoded data removed]",
      "text/plain": [
       "<Figure size 288x144 with 1 Axes>"
      ]
     },
     "metadata": {
      "needs_background": "light"
     },
     "output_type": "display_data"
    },
    {
     "data": {
      "image/png": "[encoded data removed]",
      "text/plain": [
       "<Figure size 288x144 with 1 Axes>"
      ]
     },
     "metadata": {
      "needs_background": "light"
     },
     "output_type": "display_data"
    },
    {
     "data": {
      "image/png": "[encoded data removed]",
      "text/plain": [
       "<Figure size 288x144 with 1 Axes>"
      ]
     },
     "metadata": {
      "needs_background": "light"
     },
     "output_type": "display_data"
    },
    {
     "data": {
      "image/png": "[encoded data removed]",
      "text/plain": [
       "<Figure size 288x144 with 1 Axes>"
      ]
     },
     "metadata": {
      "needs_background": "light"
     },
     "output_type": "display_data"
    },
    {
     "data": {
      "image/png": "[encoded data removed]",
      "text/plain": [
       "<Figure size 288x144 with 1 Axes>"
      ]
     },
     "metadata": {
      "needs_background": "light"
     },
     "output_type": "display_data"
    },
    {
     "data": {
      "image/png": "[encoded data removed]",
      "text/plain": [
       "<Figure size 288x144 with 1 Axes>"
      ]
     },
     "metadata": {
      "needs_background": "light"
     },
     "output_type": "display_data"
    },
    {
     "data": {
      "image/png": "[encoded data removed]",
      "text/plain": [
       "<Figure size 288x144 with 1 Axes>"
      ]
     },
     "metadata": {
      "needs_background": "light"
     },
     "output_type": "display_data"
    },
    {
     "data": {
      "image/png": "[encoded data removed]",
      "text/plain": [
       "<Figure size 288x144 with 1 Axes>"
      ]
     },
     "metadata": {
      "needs_background": "light"
     },
     "output_type": "display_data"
    },
    {
     "data": {
      "image/png": "[encoded data removed]",
      "text/plain": [
       "<Figure size 288x144 with 1 Axes>"
      ]
     },
     "metadata": {
      "needs_background": "light"
     },
     "output_type": "display_data"
    },
    {
     "data": {
      "image/png": "[encoded data removed]",
      "text/plain": [
       "<Figure size 288x144 with 1 Axes>"
      ]
     },
     "metadata": {
      "needs_background": "light"
     },
     "output_type": "display_data"
    },
    {
     "data": {
      "image/png": "[encoded data removed]",
      "text/plain": [
       "<Figure size 288x144 with 1 Axes>"
      ]
     },
     "metadata": {
      "needs_background": "light"
     },
     "output_type": "display_data"
    },
    {
     "data": {
      "image/png": "[encoded data removed]",
      "text/plain": [
       "<Figure size 288x144 with 1 Axes>"
      ]
     },
     "metadata": {
      "needs_background": "light"
     },
     "output_type": "display_data"
    },
    {
     "data": {
      "image/png": "[encoded data removed]",
      "text/plain": [
       "<Figure size 288x144 with 1 Axes>"
      ]
     },
     "metadata": {
      "needs_background": "light"
     },
     "output_type": "display_data"
    },
    {
     "data": {
      "image/png": "[encoded data removed]",
      "text/plain": [
       "<Figure size 288x144 with 1 Axes>"
      ]
     },
     "metadata": {
      "needs_background": "light"
     },
     "output_type": "display_data"
    },
    {
     "data": {
      "image/png": "[encoded data removed]",
      "text/plain": [
       "<Figure size 288x144 with 1 Axes>"
      ]
     },
     "metadata": {
      "needs_background": "light"
     },
     "output_type": "display_data"
    },
    {
     "data": {
      "image/png": "[encoded data removed]",
      "text/plain": [
       "<Figure size 288x144 with 1 Axes>"
      ]
     },
     "metadata": {
      "needs_background": "light"
     },
     "output_type": "display_data"
    },
    {
     "data": {
      "image/png": "[encoded data removed]",
      "text/plain": [
       "<Figure size 288x144 with 1 Axes>"
      ]
     },
     "metadata": {
      "needs_background": "light"
     },
     "output_type": "display_data"
    },
    {
     "data": {
      "image/png": "[encoded data removed]",
      "text/plain": [
       "<Figure size 288x144 with 1 Axes>"
      ]
     },
     "metadata": {
      "needs_background": "light"
     },
     "output_type": "display_data"
    },
    {
     "data": {
      "image/png": "[encoded data removed]",
      "text/plain": [
       "<Figure size 288x144 with 1 Axes>"
      ]
     },
     "metadata": {
      "needs_background": "light"
     },
     "output_type": "display_data"
    },
    {
     "data": {
      "image/png": "[encoded data removed]",
      "text/plain": [
       "<Figure size 288x144 with 1 Axes>"
      ]
     },
     "metadata": {
      "needs_background": "light"
     },
     "output_type": "display_data"
    },
    {
     "data": {
      "image/png": "[encoded data removed]",
      "text/plain": [
       "<Figure size 288x144 with 1 Axes>"
      ]
     },
     "metadata": {
      "needs_background": "light"
     },
     "output_type": "display_data"
    },
    {
     "data": {
      "image/png": "[encoded data removed]",
      "text/plain": [
       "<Figure size 288x144 with 1 Axes>"
      ]
     },
     "metadata": {
      "needs_background": "light"
     },
     "output_type": "display_data"
    },
    {
     "data": {
      "image/png": "[encoded data removed]",
      "text/plain": [
       "<Figure size 288x144 with 1 Axes>"
      ]
     },
     "metadata": {
      "needs_background": "light"
     },
     "output_type": "display_data"
    },
    {
     "data": {
      "image/png": "[encoded data removed]",
      "text/plain": [
       "<Figure size 288x144 with 1 Axes>"
      ]
     },
     "metadata": {
      "needs_background": "light"
     },
     "output_type": "display_data"
    },
    {
     "data": {
      "image/png": "[encoded data removed]",
      "text/plain": [
       "<Figure size 288x144 with 1 Axes>"
      ]
     },
     "metadata": {
      "needs_background": "light"
     },
     "output_type": "display_data"
    },
    {
     "data": {
      "image/png": "[encoded data removed]",
      "text/plain": [
       "<Figure size 288x144 with 1 Axes>"
      ]
     },
     "metadata": {
      "needs_background": "light"
     },
     "output_type": "display_data"
    },
    {
     "data": {
      "image/png": "[encoded data removed]",
      "text/plain": [
       "<Figure size 288x144 with 1 Axes>"
      ]
     },
     "metadata": {
      "needs_background": "light"
     },
     "output_type": "display_data"
    }
   ],
   "source": [
    "for col in train.columns:\n",
    "    plt.figure(figsize=(4,2))\n",
    "    plt.hist(train[col])\n",
    "    plt.title(col)\n",
    "    plt.show()"
   ]
  },
  {
   "cell_type": "code",
   "execution_count": 13,
   "id": "571330e3",
   "metadata": {},
   "outputs": [
    {
     "data": {
      "image/png": "[encoded data removed]",
      "text/plain": [
       "<Figure size 432x288 with 1 Axes>"
      ]
     },
     "metadata": {
      "needs_background": "light"
     },
     "output_type": "display_data"
    }
   ],
   "source": [
    "sns.boxplot(train.buildingqualitytypeid, train.logerror)\n",
    "plt.title(\"\")\n",
    "plt.show()"
   ]
  },
  {
   "cell_type": "code",
   "execution_count": 14,
   "id": "f2b00260",
   "metadata": {},
   "outputs": [
    {
     "data": {
      "image/png": "[encoded data removed]",
      "text/plain": [
       "<Figure size 432x288 with 1 Axes>"
      ]
     },
     "metadata": {
      "needs_background": "light"
     },
     "output_type": "display_data"
    }
   ],
   "source": [
    "sns.boxplot(train.buildingqualitytypeid, train.logerror)\n",
    "plt.title(\"\")\n",
    "plt.show()"
   ]
  },
  {
   "cell_type": "code",
   "execution_count": 15,
   "id": "1f565ec2",
   "metadata": {},
   "outputs": [
    {
     "data": {
      "image/png": "[encoded data removed]",
      "text/plain": [
       "<Figure size 432x288 with 1 Axes>"
      ]
     },
     "metadata": {
      "needs_background": "light"
     },
     "output_type": "display_data"
    }
   ],
   "source": [
    "sns.boxplot(train.bathroomcnt, train.logerror)\n",
    "plt.title(\"\")\n",
    "plt.show()"
   ]
  },
  {
   "cell_type": "code",
   "execution_count": 16,
   "id": "3964f4a8",
   "metadata": {},
   "outputs": [
    {
     "data": {
      "text/plain": [
       "25381250.0"
      ]
     },
     "execution_count": 16,
     "metadata": {},
     "output_type": "execute_result"
    }
   ],
   "source": [
    "train.taxvaluedollarcnt.max()"
   ]
  },
  {
   "cell_type": "code",
   "execution_count": 17,
   "id": "7e13a64f",
   "metadata": {},
   "outputs": [],
   "source": [
    "# bin taxvaluecounts into bins\n",
    "\n",
    "train['taxvaluedollarcnt_bin'] = pd.cut(train.taxvaluedollarcnt, [0, 500000, 1000000, 1500000,2000000, 2500000, 3000000, 10000000,20000000])\n"
   ]
  },
  {
   "cell_type": "code",
   "execution_count": 18,
   "id": "208a25d2",
   "metadata": {},
   "outputs": [
    {
     "data": {
      "text/html": [
       "<div>\n",
       "<style scoped>\n",
       "    .dataframe tbody tr th:only-of-type {\n",
       "        vertical-align: middle;\n",
       "    }\n",
       "\n",
       "    .dataframe tbody tr th {\n",
       "        vertical-align: top;\n",
       "    }\n",
       "\n",
       "    .dataframe thead th {\n",
       "        text-align: right;\n",
       "    }\n",
       "</style>\n",
       "<table border=\"1\" class=\"dataframe\">\n",
       "  <thead>\n",
       "    <tr style=\"text-align: right;\">\n",
       "      <th></th>\n",
       "      <th>propertylandusetypeid</th>\n",
       "      <th>parcelid</th>\n",
       "      <th>heatingorsystemtypeid</th>\n",
       "      <th>id</th>\n",
       "      <th>bathroomcnt</th>\n",
       "      <th>bedroomcnt</th>\n",
       "      <th>buildingqualitytypeid</th>\n",
       "      <th>calculatedbathnbr</th>\n",
       "      <th>calculatedfinishedsquarefeet</th>\n",
       "      <th>finishedsquarefeet12</th>\n",
       "      <th>...</th>\n",
       "      <th>assessmentyear</th>\n",
       "      <th>landtaxvaluedollarcnt</th>\n",
       "      <th>taxamount</th>\n",
       "      <th>censustractandblock</th>\n",
       "      <th>id</th>\n",
       "      <th>logerror</th>\n",
       "      <th>transactiondate</th>\n",
       "      <th>heatingorsystemdesc</th>\n",
       "      <th>propertylandusedesc</th>\n",
       "      <th>taxvaluedollarcnt_bin</th>\n",
       "    </tr>\n",
       "  </thead>\n",
       "  <tbody>\n",
       "    <tr>\n",
       "      <th>41854</th>\n",
       "      <td>261.0</td>\n",
       "      <td>10917700</td>\n",
       "      <td>7.0</td>\n",
       "      <td>1075604</td>\n",
       "      <td>2.0</td>\n",
       "      <td>2.0</td>\n",
       "      <td>4.0</td>\n",
       "      <td>2.0</td>\n",
       "      <td>2122.0</td>\n",
       "      <td>2122.0</td>\n",
       "      <td>...</td>\n",
       "      <td>2016.0</td>\n",
       "      <td>56723.0</td>\n",
       "      <td>1675.81</td>\n",
       "      <td>6.037144e+13</td>\n",
       "      <td>45268</td>\n",
       "      <td>0.056966</td>\n",
       "      <td>2017-06-09</td>\n",
       "      <td>Floor/Wall</td>\n",
       "      <td>Single Family Residential</td>\n",
       "      <td>(0, 500000]</td>\n",
       "    </tr>\n",
       "    <tr>\n",
       "      <th>65758</th>\n",
       "      <td>261.0</td>\n",
       "      <td>14435268</td>\n",
       "      <td>0.0</td>\n",
       "      <td>1757862</td>\n",
       "      <td>4.5</td>\n",
       "      <td>4.0</td>\n",
       "      <td>0.0</td>\n",
       "      <td>4.5</td>\n",
       "      <td>3953.0</td>\n",
       "      <td>3953.0</td>\n",
       "      <td>...</td>\n",
       "      <td>2016.0</td>\n",
       "      <td>571389.0</td>\n",
       "      <td>11335.50</td>\n",
       "      <td>6.059042e+13</td>\n",
       "      <td>70992</td>\n",
       "      <td>-0.310189</td>\n",
       "      <td>2017-08-28</td>\n",
       "      <td>none</td>\n",
       "      <td>Single Family Residential</td>\n",
       "      <td>(1000000, 1500000]</td>\n",
       "    </tr>\n",
       "    <tr>\n",
       "      <th>62935</th>\n",
       "      <td>266.0</td>\n",
       "      <td>11096264</td>\n",
       "      <td>2.0</td>\n",
       "      <td>1031703</td>\n",
       "      <td>2.0</td>\n",
       "      <td>2.0</td>\n",
       "      <td>8.0</td>\n",
       "      <td>2.0</td>\n",
       "      <td>907.0</td>\n",
       "      <td>907.0</td>\n",
       "      <td>...</td>\n",
       "      <td>2016.0</td>\n",
       "      <td>96078.0</td>\n",
       "      <td>2459.49</td>\n",
       "      <td>6.037113e+13</td>\n",
       "      <td>67952</td>\n",
       "      <td>-0.030675</td>\n",
       "      <td>2017-08-18</td>\n",
       "      <td>Central</td>\n",
       "      <td>Condominium</td>\n",
       "      <td>(0, 500000]</td>\n",
       "    </tr>\n",
       "    <tr>\n",
       "      <th>41182</th>\n",
       "      <td>261.0</td>\n",
       "      <td>12978348</td>\n",
       "      <td>7.0</td>\n",
       "      <td>1829762</td>\n",
       "      <td>1.0</td>\n",
       "      <td>3.0</td>\n",
       "      <td>4.0</td>\n",
       "      <td>1.0</td>\n",
       "      <td>1256.0</td>\n",
       "      <td>1256.0</td>\n",
       "      <td>...</td>\n",
       "      <td>2016.0</td>\n",
       "      <td>205973.0</td>\n",
       "      <td>4074.43</td>\n",
       "      <td>6.037405e+13</td>\n",
       "      <td>44531</td>\n",
       "      <td>0.033915</td>\n",
       "      <td>2017-06-08</td>\n",
       "      <td>Floor/Wall</td>\n",
       "      <td>Single Family Residential</td>\n",
       "      <td>(0, 500000]</td>\n",
       "    </tr>\n",
       "    <tr>\n",
       "      <th>44077</th>\n",
       "      <td>261.0</td>\n",
       "      <td>12689873</td>\n",
       "      <td>2.0</td>\n",
       "      <td>1171679</td>\n",
       "      <td>5.0</td>\n",
       "      <td>4.0</td>\n",
       "      <td>11.0</td>\n",
       "      <td>5.0</td>\n",
       "      <td>4570.0</td>\n",
       "      <td>4570.0</td>\n",
       "      <td>...</td>\n",
       "      <td>2016.0</td>\n",
       "      <td>1429595.0</td>\n",
       "      <td>22330.56</td>\n",
       "      <td>6.037670e+13</td>\n",
       "      <td>47653</td>\n",
       "      <td>0.077013</td>\n",
       "      <td>2017-06-16</td>\n",
       "      <td>Central</td>\n",
       "      <td>Single Family Residential</td>\n",
       "      <td>(1500000, 2000000]</td>\n",
       "    </tr>\n",
       "  </tbody>\n",
       "</table>\n",
       "<p>5 rows × 36 columns</p>\n",
       "</div>"
      ],
      "text/plain": [
       "       propertylandusetypeid  parcelid  heatingorsystemtypeid       id  \\\n",
       "41854                  261.0  10917700                    7.0  1075604   \n",
       "65758                  261.0  14435268                    0.0  1757862   \n",
       "62935                  266.0  11096264                    2.0  1031703   \n",
       "41182                  261.0  12978348                    7.0  1829762   \n",
       "44077                  261.0  12689873                    2.0  1171679   \n",
       "\n",
       "       bathroomcnt  bedroomcnt  buildingqualitytypeid  calculatedbathnbr  \\\n",
       "41854          2.0         2.0                    4.0                2.0   \n",
       "65758          4.5         4.0                    0.0                4.5   \n",
       "62935          2.0         2.0                    8.0                2.0   \n",
       "41182          1.0         3.0                    4.0                1.0   \n",
       "44077          5.0         4.0                   11.0                5.0   \n",
       "\n",
       "       calculatedfinishedsquarefeet  finishedsquarefeet12  ...  \\\n",
       "41854                        2122.0                2122.0  ...   \n",
       "65758                        3953.0                3953.0  ...   \n",
       "62935                         907.0                 907.0  ...   \n",
       "41182                        1256.0                1256.0  ...   \n",
       "44077                        4570.0                4570.0  ...   \n",
       "\n",
       "       assessmentyear  landtaxvaluedollarcnt  taxamount  censustractandblock  \\\n",
       "41854          2016.0                56723.0    1675.81         6.037144e+13   \n",
       "65758          2016.0               571389.0   11335.50         6.059042e+13   \n",
       "62935          2016.0                96078.0    2459.49         6.037113e+13   \n",
       "41182          2016.0               205973.0    4074.43         6.037405e+13   \n",
       "44077          2016.0              1429595.0   22330.56         6.037670e+13   \n",
       "\n",
       "          id  logerror transactiondate  heatingorsystemdesc  \\\n",
       "41854  45268  0.056966      2017-06-09           Floor/Wall   \n",
       "65758  70992 -0.310189      2017-08-28                 none   \n",
       "62935  67952 -0.030675      2017-08-18              Central   \n",
       "41182  44531  0.033915      2017-06-08           Floor/Wall   \n",
       "44077  47653  0.077013      2017-06-16              Central   \n",
       "\n",
       "             propertylandusedesc  taxvaluedollarcnt_bin  \n",
       "41854  Single Family Residential            (0, 500000]  \n",
       "65758  Single Family Residential     (1000000, 1500000]  \n",
       "62935                Condominium            (0, 500000]  \n",
       "41182  Single Family Residential            (0, 500000]  \n",
       "44077  Single Family Residential     (1500000, 2000000]  \n",
       "\n",
       "[5 rows x 36 columns]"
      ]
     },
     "execution_count": 18,
     "metadata": {},
     "output_type": "execute_result"
    }
   ],
   "source": [
    "train.head()\n"
   ]
  },
  {
   "cell_type": "code",
   "execution_count": 19,
   "id": "d2abe3dd",
   "metadata": {},
   "outputs": [
    {
     "data": {
      "image/png": "[encoded data removed]",
      "text/plain": [
       "<Figure size 432x288 with 1 Axes>"
      ]
     },
     "metadata": {
      "needs_background": "light"
     },
     "output_type": "display_data"
    }
   ],
   "source": [
    "sns.scatterplot(x='fips', y='logerror',\n",
    "               data=train, hue='taxvaluedollarcnt_bin')\n",
    "plt.title(\"How does logerror compare to taxvaluedollarcnt\\nwithin each income bin?\")\n",
    "plt.show()"
   ]
  },
  {
   "cell_type": "code",
   "execution_count": 20,
   "id": "cdb2863f",
   "metadata": {},
   "outputs": [
    {
     "data": {
      "image/png": "[encoded data removed]",
      "text/plain": [
       "<Figure size 432x288 with 1 Axes>"
      ]
     },
     "metadata": {
      "needs_background": "light"
     },
     "output_type": "display_data"
    }
   ],
   "source": [
    "sns.scatterplot(x='buildingqualitytypeid', y='logerror',\n",
    "               data=train, hue='taxvaluedollarcnt_bin')\n",
    "plt.title(\"How does buildingqualitytypeid compare to taxvaluedollarcnt\\nwithin each income bin?\")\n",
    "plt.show()"
   ]
  },
  {
   "cell_type": "code",
   "execution_count": 21,
   "id": "758ca4e3",
   "metadata": {},
   "outputs": [
    {
     "data": {
      "image/png": "[encoded data removed]",
      "text/plain": [
       "<Figure size 432x288 with 1 Axes>"
      ]
     },
     "metadata": {
      "needs_background": "light"
     },
     "output_type": "display_data"
    }
   ],
   "source": [
    "sns.scatterplot(x='calculatedfinishedsquarefeet', y='logerror',\n",
    "               data=train, hue='taxvaluedollarcnt_bin')\n",
    "plt.title(\"How does calculatedfinishedsquarefeet compare to taxvaluedollarcnt\\nwithin each income bin?\")\n",
    "plt.show()"
   ]
  },
  {
   "cell_type": "code",
   "execution_count": 22,
   "id": "a1caaf68",
   "metadata": {},
   "outputs": [
    {
     "data": {
      "text/plain": [
       "Single Family Residential    31061\n",
       "Condominium                   7481\n",
       "Mobile Home                     10\n",
       "Name: propertylandusedesc, dtype: int64"
      ]
     },
     "execution_count": 22,
     "metadata": {},
     "output_type": "execute_result"
    }
   ],
   "source": [
    "train.propertylandusedesc.value_counts()"
   ]
  },
  {
   "cell_type": "code",
   "execution_count": 23,
   "id": "1a40e326",
   "metadata": {},
   "outputs": [
    {
     "data": {
      "text/plain": [
       "<AxesSubplot:xlabel='bedroomcnt', ylabel='logerror'>"
      ]
     },
     "execution_count": 23,
     "metadata": {},
     "output_type": "execute_result"
    },
    {
     "data": {
      "image/png": "[encoded data removed]",
      "text/plain": [
       "<Figure size 432x288 with 1 Axes>"
      ]
     },
     "metadata": {
      "needs_background": "light"
     },
     "output_type": "display_data"
    }
   ],
   "source": [
    "sns.barplot(x = 'bedroomcnt', y='logerror', hue = 'fips',data=train.sample(1000))"
   ]
  },
  {
   "cell_type": "markdown",
   "id": "c1cb4db1",
   "metadata": {},
   "source": [
    "- bedrom count over 6 bedrooms in orange county is an out-lier and will have to be adressed"
   ]
  },
  {
   "cell_type": "code",
   "execution_count": null,
   "id": "942b6b33",
   "metadata": {},
   "outputs": [],
   "source": []
  }
 ],
 "metadata": {
  "kernelspec": {
   "display_name": "Python 3 (ipykernel)",
   "language": "python",
   "name": "python3"
  },
  "language_info": {
   "codemirror_mode": {
    "name": "ipython",
    "version": 3
   },
   "file_extension": ".py",
   "mimetype": "text/x-python",
   "name": "python",
   "nbconvert_exporter": "python",
   "pygments_lexer": "ipython3",
   "version": "3.9.7"
  }
 },
 "nbformat": 4,
 "nbformat_minor": 5
}
