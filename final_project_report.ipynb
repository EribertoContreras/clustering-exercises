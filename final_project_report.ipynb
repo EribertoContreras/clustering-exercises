{
 "cells": [
  {
   "cell_type": "markdown",
   "id": "dad4088e",
   "metadata": {},
   "source": [
    "<img src=\"https://1000logos.net/wp-content/uploads/2017/11/Zillow-Logo.png\" title=\"Zillow Logo\"/>"
   ]
  },
  {
   "cell_type": "markdown",
   "id": "f7bec837",
   "metadata": {},
   "source": [
    "## INTRODUCTION"
   ]
  },
  {
   "cell_type": "markdown",
   "id": "468219f6",
   "metadata": {},
   "source": [
    "## GOALS\n",
    "- Identify drivers of logerror.\n",
    "- Use clustering algorithms to identify predictors of logerror so that we can improve predictive property value models.\n",
    "- use clustering algorithms and adapt them to the predictive model to beat the baseline model."
   ]
  },
  {
   "cell_type": "markdown",
   "id": "23aa5bd2",
   "metadata": {},
   "source": [
    "## PLAN\n",
    "### 1. [Acquire Data](#Acquire)\n",
    "### Takeaways:\n",
    "- Data is collected from the codeup cloud database with an appropriate SQL query.\n",
    "- Data is imported using an acquire.py file.\n",
    "- Original dataframe consisted of 71858 rows × 69 columns.\n",
    "- Null values/ missing data are very common in about 50 percent of the data. \n",
    " \n",
    "### 2. [Prepare](#Prepare)\n",
    "### - using [wrangle.py]()\n",
    "### Takeaways:\n",
    "- Bfore cleaning data and dropping unnecesary columns, 71858 rows × 69 columns.\n",
    "- After dropping nulls and collumns, 44679 rows × 12 columns.\n",
    "- resulted in 62% row retention 17% column retention.\n",
    "- we continued to split the data into train, validate, and test for exploration and modeling purposes.\n",
    "\n",
    "\n",
    "### Questions to answer while exploring:\n",
    "- Is there a correlation between bathroomcnt & logerror ?\n",
    "- Is there a correlation between calculatedfinishedsquarefeet & logerror?\n",
    "- Is there a correlation between bedroomcnt & logerror ?\n",
    "- Is there a correlation between yearbuilt & logerror ?\n",
    "- Is there a correlation between fips & logerror ?\n",
    "- Is there a correlation between taxvaluedollarcnt & logerror ?\n",
    "### 3a. [Explore1](#Explore1)\n",
    "\n",
    "-answers:\n",
    "\n",
    "- After running a corralation test we can reject the null hypothesis and prove that there is a correlation between bathroomcnt and logerror.\n",
    "- After running a corralation test we can reject the null hypothesis and prove that there is a correlation between calculatedfinishedsquarefeet and logerror.\n",
    "- After running a corralation test we can reject the null hypothesis and prove that there is a correlation between bedroomcnt and logerror.\n",
    "- After running a corralation test we can reject the null hypothesis and prove that there is a correlation between yearbuilt and logerror.\n",
    "- Based on the correlation test above fips and log error have no correlation.\n",
    "- After running a corralation test we can reject the null hypothesis and prove that there is a correlation between taxvaluedollarcnt and logerror.\n",
    "\n",
    "### 3b.[Explore2](#Explore2)\n",
    "-answers:\n",
    "- After running a corralation test we can reject the null hypothesis and prove that there is a correlation between bathroomcnt and logerror.\n",
    "- After running a corralation test we can reject the null hypothesis and prove that there is a correlation between calculatedfinishedsquarefeet and logerror.\n",
    "- After running a corralation test we can reject the null hypothesis and prove that there is correlation between bedroomcnt and logerror.\n",
    "- After running a corralation test We reject the null hypothesis because there is significant correlation with year built and logerror present.\n",
    "- Based on the correlation test above fips and log error have no correlation.\n",
    "- After running a corralation test We fail to reject the null hypothesis because there is no significant correlation between taxvaluedollarcnt anf logerror present. \n",
    "### 3c.[Explore3](#Explore3)\n",
    "\n",
    "-answers:\n",
    "\n",
    "- After running a corralation test we can reject the null hypothesis and prove that there is a correlation between bathroomcnt and logerror\n",
    "- After running a corralation test we can reject the null hypothesis and prove that there is a correlation between calculatedfinishedsquarefeet and logerror. \n",
    "- After running a corralation test we reject the null hypothesis and prove that there is correlation between bedroomcnt and logerror.\n",
    "- After running a corralation test We reject the null hypothesis because there is a significant correlation between yearbuilt and logerror present.\n",
    "- After running a corralation test we we fail to reject the null hypothesis because there is no significant correlation present between taxvaluedollarcnt and logerror."
   ]
  },
  {
   "cell_type": "markdown",
   "id": "28cf19f2",
   "metadata": {},
   "source": [
    "### 4.Modeling:\n",
    "### Conclusion for clusters 1, 2, & 3\n",
    "- The OLS model outperformed (lassolars and polynomial regression) models with fractions of a decimal.\n",
    "\n",
    "\n",
    "\n",
    "\n",
    "- please reference project notebook for all model information)"
   ]
  },
  {
   "cell_type": "markdown",
   "id": "28aaa026",
   "metadata": {},
   "source": [
    "# Conclusion:\n",
    "- We were able to get close to beating the baseline but did not succeed at creating a better model\n",
    "### Suggestions:\n",
    "- looking further into the data for variables such as month, school zone, school district, retirement area, prior death in home,and using variables like Previous purchase price and date."
   ]
  },
  {
   "cell_type": "markdown",
   "id": "f36d06b3",
   "metadata": {},
   "source": [
    "***"
   ]
  },
  {
   "cell_type": "markdown",
   "id": "e715c9a6",
   "metadata": {},
   "source": [
    "### Importing the files below will grant you access to the correct visuals and calculations that will be presented"
   ]
  },
  {
   "cell_type": "code",
   "execution_count": 1,
   "id": "2c01b9ef",
   "metadata": {},
   "outputs": [],
   "source": [
    "# fetches the data.\n",
    "import acquire\n",
    "# credentials file to access the data.\n",
    "import env\n",
    "# Imports functions necessary to clean and set limits for the data.\n",
    "import wrangle\n",
    "\n",
    "# coding \n",
    "import math\n",
    "import numpy as np\n",
    "import seaborn as sns\n",
    "import scipy.stats as stats\n",
    "import pandas as pd\n",
    "import matplotlib.pyplot as plt\n",
    "from pydataset import data\n",
    "import scipy.stats\n",
    "import scipy\n",
    "import os\n",
    "\n",
    "# needed for modeling\n",
    "import sklearn.preprocessing\n",
    "from sklearn.model_selection import train_test_split\n",
    "from sklearn.neighbors import KNeighborsClassifier\n",
    "from sklearn.preprocessing import MinMaxScaler, StandardScaler, RobustScaler, QuantileTransformer\n",
    "from sklearn.metrics import explained_variance_score\n",
    "import statsmodels.api as sm\n",
    "from sklearn.metrics import mean_squared_error\n",
    "from sklearn.linear_model import LinearRegression, LassoLars, TweedieRegressor\n",
    "from sklearn.preprocessing import PolynomialFeatures\n",
    "from sklearn.cluster import KMeans\n",
    "\n",
    "# cluster data imports \n",
    "import explore"
   ]
  },
  {
   "cell_type": "markdown",
   "id": "8ebfce96",
   "metadata": {},
   "source": [
    "# Acquire"
   ]
  },
  {
   "cell_type": "code",
   "execution_count": 2,
   "id": "acbbf2e3",
   "metadata": {},
   "outputs": [
    {
     "data": {
      "text/html": [
       "<div>\n",
       "<style scoped>\n",
       "    .dataframe tbody tr th:only-of-type {\n",
       "        vertical-align: middle;\n",
       "    }\n",
       "\n",
       "    .dataframe tbody tr th {\n",
       "        vertical-align: top;\n",
       "    }\n",
       "\n",
       "    .dataframe thead th {\n",
       "        text-align: right;\n",
       "    }\n",
       "</style>\n",
       "<table border=\"1\" class=\"dataframe\">\n",
       "  <thead>\n",
       "    <tr style=\"text-align: right;\">\n",
       "      <th></th>\n",
       "      <th>propertylandusetypeid</th>\n",
       "      <th>parcelid</th>\n",
       "      <th>storytypeid</th>\n",
       "      <th>typeconstructiontypeid</th>\n",
       "      <th>heatingorsystemtypeid</th>\n",
       "      <th>buildingclasstypeid</th>\n",
       "      <th>architecturalstyletypeid</th>\n",
       "      <th>airconditioningtypeid</th>\n",
       "      <th>id</th>\n",
       "      <th>basementsqft</th>\n",
       "      <th>...</th>\n",
       "      <th>id.1</th>\n",
       "      <th>logerror</th>\n",
       "      <th>transactiondate</th>\n",
       "      <th>airconditioningdesc</th>\n",
       "      <th>architecturalstyledesc</th>\n",
       "      <th>buildingclassdesc</th>\n",
       "      <th>heatingorsystemdesc</th>\n",
       "      <th>typeconstructiondesc</th>\n",
       "      <th>storydesc</th>\n",
       "      <th>propertylandusedesc</th>\n",
       "    </tr>\n",
       "  </thead>\n",
       "  <tbody>\n",
       "    <tr>\n",
       "      <th>0</th>\n",
       "      <td>261.0</td>\n",
       "      <td>14297519</td>\n",
       "      <td>NaN</td>\n",
       "      <td>NaN</td>\n",
       "      <td>NaN</td>\n",
       "      <td>NaN</td>\n",
       "      <td>NaN</td>\n",
       "      <td>NaN</td>\n",
       "      <td>1727539</td>\n",
       "      <td>NaN</td>\n",
       "      <td>...</td>\n",
       "      <td>0</td>\n",
       "      <td>0.025595</td>\n",
       "      <td>2017-01-01</td>\n",
       "      <td>NaN</td>\n",
       "      <td>NaN</td>\n",
       "      <td>NaN</td>\n",
       "      <td>NaN</td>\n",
       "      <td>NaN</td>\n",
       "      <td>NaN</td>\n",
       "      <td>Single Family Residential</td>\n",
       "    </tr>\n",
       "    <tr>\n",
       "      <th>1</th>\n",
       "      <td>261.0</td>\n",
       "      <td>17052889</td>\n",
       "      <td>NaN</td>\n",
       "      <td>NaN</td>\n",
       "      <td>NaN</td>\n",
       "      <td>NaN</td>\n",
       "      <td>NaN</td>\n",
       "      <td>NaN</td>\n",
       "      <td>1387261</td>\n",
       "      <td>NaN</td>\n",
       "      <td>...</td>\n",
       "      <td>1</td>\n",
       "      <td>0.055619</td>\n",
       "      <td>2017-01-01</td>\n",
       "      <td>NaN</td>\n",
       "      <td>NaN</td>\n",
       "      <td>NaN</td>\n",
       "      <td>NaN</td>\n",
       "      <td>NaN</td>\n",
       "      <td>NaN</td>\n",
       "      <td>Single Family Residential</td>\n",
       "    </tr>\n",
       "    <tr>\n",
       "      <th>2</th>\n",
       "      <td>261.0</td>\n",
       "      <td>14186244</td>\n",
       "      <td>NaN</td>\n",
       "      <td>NaN</td>\n",
       "      <td>NaN</td>\n",
       "      <td>NaN</td>\n",
       "      <td>NaN</td>\n",
       "      <td>NaN</td>\n",
       "      <td>11677</td>\n",
       "      <td>NaN</td>\n",
       "      <td>...</td>\n",
       "      <td>2</td>\n",
       "      <td>0.005383</td>\n",
       "      <td>2017-01-01</td>\n",
       "      <td>NaN</td>\n",
       "      <td>NaN</td>\n",
       "      <td>NaN</td>\n",
       "      <td>NaN</td>\n",
       "      <td>NaN</td>\n",
       "      <td>NaN</td>\n",
       "      <td>Single Family Residential</td>\n",
       "    </tr>\n",
       "    <tr>\n",
       "      <th>3</th>\n",
       "      <td>261.0</td>\n",
       "      <td>12177905</td>\n",
       "      <td>NaN</td>\n",
       "      <td>NaN</td>\n",
       "      <td>2.0</td>\n",
       "      <td>NaN</td>\n",
       "      <td>NaN</td>\n",
       "      <td>NaN</td>\n",
       "      <td>2288172</td>\n",
       "      <td>NaN</td>\n",
       "      <td>...</td>\n",
       "      <td>3</td>\n",
       "      <td>-0.103410</td>\n",
       "      <td>2017-01-01</td>\n",
       "      <td>NaN</td>\n",
       "      <td>NaN</td>\n",
       "      <td>NaN</td>\n",
       "      <td>Central</td>\n",
       "      <td>NaN</td>\n",
       "      <td>NaN</td>\n",
       "      <td>Single Family Residential</td>\n",
       "    </tr>\n",
       "    <tr>\n",
       "      <th>4</th>\n",
       "      <td>266.0</td>\n",
       "      <td>10887214</td>\n",
       "      <td>NaN</td>\n",
       "      <td>NaN</td>\n",
       "      <td>2.0</td>\n",
       "      <td>NaN</td>\n",
       "      <td>NaN</td>\n",
       "      <td>1.0</td>\n",
       "      <td>1970746</td>\n",
       "      <td>NaN</td>\n",
       "      <td>...</td>\n",
       "      <td>4</td>\n",
       "      <td>0.006940</td>\n",
       "      <td>2017-01-01</td>\n",
       "      <td>Central</td>\n",
       "      <td>NaN</td>\n",
       "      <td>NaN</td>\n",
       "      <td>Central</td>\n",
       "      <td>NaN</td>\n",
       "      <td>NaN</td>\n",
       "      <td>Condominium</td>\n",
       "    </tr>\n",
       "    <tr>\n",
       "      <th>...</th>\n",
       "      <td>...</td>\n",
       "      <td>...</td>\n",
       "      <td>...</td>\n",
       "      <td>...</td>\n",
       "      <td>...</td>\n",
       "      <td>...</td>\n",
       "      <td>...</td>\n",
       "      <td>...</td>\n",
       "      <td>...</td>\n",
       "      <td>...</td>\n",
       "      <td>...</td>\n",
       "      <td>...</td>\n",
       "      <td>...</td>\n",
       "      <td>...</td>\n",
       "      <td>...</td>\n",
       "      <td>...</td>\n",
       "      <td>...</td>\n",
       "      <td>...</td>\n",
       "      <td>...</td>\n",
       "      <td>...</td>\n",
       "      <td>...</td>\n",
       "    </tr>\n",
       "    <tr>\n",
       "      <th>71853</th>\n",
       "      <td>261.0</td>\n",
       "      <td>11000655</td>\n",
       "      <td>NaN</td>\n",
       "      <td>NaN</td>\n",
       "      <td>2.0</td>\n",
       "      <td>NaN</td>\n",
       "      <td>NaN</td>\n",
       "      <td>NaN</td>\n",
       "      <td>673515</td>\n",
       "      <td>NaN</td>\n",
       "      <td>...</td>\n",
       "      <td>77609</td>\n",
       "      <td>0.020615</td>\n",
       "      <td>2017-09-20</td>\n",
       "      <td>NaN</td>\n",
       "      <td>NaN</td>\n",
       "      <td>NaN</td>\n",
       "      <td>Central</td>\n",
       "      <td>NaN</td>\n",
       "      <td>NaN</td>\n",
       "      <td>Single Family Residential</td>\n",
       "    </tr>\n",
       "    <tr>\n",
       "      <th>71854</th>\n",
       "      <td>261.0</td>\n",
       "      <td>17239384</td>\n",
       "      <td>NaN</td>\n",
       "      <td>NaN</td>\n",
       "      <td>NaN</td>\n",
       "      <td>NaN</td>\n",
       "      <td>NaN</td>\n",
       "      <td>NaN</td>\n",
       "      <td>2968375</td>\n",
       "      <td>NaN</td>\n",
       "      <td>...</td>\n",
       "      <td>77610</td>\n",
       "      <td>0.013209</td>\n",
       "      <td>2017-09-21</td>\n",
       "      <td>NaN</td>\n",
       "      <td>NaN</td>\n",
       "      <td>NaN</td>\n",
       "      <td>NaN</td>\n",
       "      <td>NaN</td>\n",
       "      <td>NaN</td>\n",
       "      <td>Single Family Residential</td>\n",
       "    </tr>\n",
       "    <tr>\n",
       "      <th>71855</th>\n",
       "      <td>261.0</td>\n",
       "      <td>12773139</td>\n",
       "      <td>NaN</td>\n",
       "      <td>NaN</td>\n",
       "      <td>2.0</td>\n",
       "      <td>NaN</td>\n",
       "      <td>NaN</td>\n",
       "      <td>1.0</td>\n",
       "      <td>1843709</td>\n",
       "      <td>NaN</td>\n",
       "      <td>...</td>\n",
       "      <td>77611</td>\n",
       "      <td>0.037129</td>\n",
       "      <td>2017-09-21</td>\n",
       "      <td>Central</td>\n",
       "      <td>NaN</td>\n",
       "      <td>NaN</td>\n",
       "      <td>Central</td>\n",
       "      <td>NaN</td>\n",
       "      <td>NaN</td>\n",
       "      <td>Single Family Residential</td>\n",
       "    </tr>\n",
       "    <tr>\n",
       "      <th>71856</th>\n",
       "      <td>261.0</td>\n",
       "      <td>12826780</td>\n",
       "      <td>NaN</td>\n",
       "      <td>NaN</td>\n",
       "      <td>2.0</td>\n",
       "      <td>NaN</td>\n",
       "      <td>NaN</td>\n",
       "      <td>NaN</td>\n",
       "      <td>1187175</td>\n",
       "      <td>NaN</td>\n",
       "      <td>...</td>\n",
       "      <td>77612</td>\n",
       "      <td>0.007204</td>\n",
       "      <td>2017-09-25</td>\n",
       "      <td>NaN</td>\n",
       "      <td>NaN</td>\n",
       "      <td>NaN</td>\n",
       "      <td>Central</td>\n",
       "      <td>NaN</td>\n",
       "      <td>NaN</td>\n",
       "      <td>Single Family Residential</td>\n",
       "    </tr>\n",
       "    <tr>\n",
       "      <th>71857</th>\n",
       "      <td>261.0</td>\n",
       "      <td>13083743</td>\n",
       "      <td>NaN</td>\n",
       "      <td>NaN</td>\n",
       "      <td>7.0</td>\n",
       "      <td>NaN</td>\n",
       "      <td>NaN</td>\n",
       "      <td>NaN</td>\n",
       "      <td>2455685</td>\n",
       "      <td>NaN</td>\n",
       "      <td>...</td>\n",
       "      <td>77613</td>\n",
       "      <td>-0.197755</td>\n",
       "      <td>2018-05-25</td>\n",
       "      <td>NaN</td>\n",
       "      <td>NaN</td>\n",
       "      <td>NaN</td>\n",
       "      <td>Floor/Wall</td>\n",
       "      <td>NaN</td>\n",
       "      <td>NaN</td>\n",
       "      <td>Single Family Residential</td>\n",
       "    </tr>\n",
       "  </tbody>\n",
       "</table>\n",
       "<p>71858 rows × 69 columns</p>\n",
       "</div>"
      ],
      "text/plain": [
       "       propertylandusetypeid  parcelid  storytypeid  typeconstructiontypeid  \\\n",
       "0                      261.0  14297519          NaN                     NaN   \n",
       "1                      261.0  17052889          NaN                     NaN   \n",
       "2                      261.0  14186244          NaN                     NaN   \n",
       "3                      261.0  12177905          NaN                     NaN   \n",
       "4                      266.0  10887214          NaN                     NaN   \n",
       "...                      ...       ...          ...                     ...   \n",
       "71853                  261.0  11000655          NaN                     NaN   \n",
       "71854                  261.0  17239384          NaN                     NaN   \n",
       "71855                  261.0  12773139          NaN                     NaN   \n",
       "71856                  261.0  12826780          NaN                     NaN   \n",
       "71857                  261.0  13083743          NaN                     NaN   \n",
       "\n",
       "       heatingorsystemtypeid  buildingclasstypeid  architecturalstyletypeid  \\\n",
       "0                        NaN                  NaN                       NaN   \n",
       "1                        NaN                  NaN                       NaN   \n",
       "2                        NaN                  NaN                       NaN   \n",
       "3                        2.0                  NaN                       NaN   \n",
       "4                        2.0                  NaN                       NaN   \n",
       "...                      ...                  ...                       ...   \n",
       "71853                    2.0                  NaN                       NaN   \n",
       "71854                    NaN                  NaN                       NaN   \n",
       "71855                    2.0                  NaN                       NaN   \n",
       "71856                    2.0                  NaN                       NaN   \n",
       "71857                    7.0                  NaN                       NaN   \n",
       "\n",
       "       airconditioningtypeid       id  basementsqft  ...   id.1  logerror  \\\n",
       "0                        NaN  1727539           NaN  ...      0  0.025595   \n",
       "1                        NaN  1387261           NaN  ...      1  0.055619   \n",
       "2                        NaN    11677           NaN  ...      2  0.005383   \n",
       "3                        NaN  2288172           NaN  ...      3 -0.103410   \n",
       "4                        1.0  1970746           NaN  ...      4  0.006940   \n",
       "...                      ...      ...           ...  ...    ...       ...   \n",
       "71853                    NaN   673515           NaN  ...  77609  0.020615   \n",
       "71854                    NaN  2968375           NaN  ...  77610  0.013209   \n",
       "71855                    1.0  1843709           NaN  ...  77611  0.037129   \n",
       "71856                    NaN  1187175           NaN  ...  77612  0.007204   \n",
       "71857                    NaN  2455685           NaN  ...  77613 -0.197755   \n",
       "\n",
       "       transactiondate  airconditioningdesc  architecturalstyledesc  \\\n",
       "0           2017-01-01                  NaN                     NaN   \n",
       "1           2017-01-01                  NaN                     NaN   \n",
       "2           2017-01-01                  NaN                     NaN   \n",
       "3           2017-01-01                  NaN                     NaN   \n",
       "4           2017-01-01              Central                     NaN   \n",
       "...                ...                  ...                     ...   \n",
       "71853       2017-09-20                  NaN                     NaN   \n",
       "71854       2017-09-21                  NaN                     NaN   \n",
       "71855       2017-09-21              Central                     NaN   \n",
       "71856       2017-09-25                  NaN                     NaN   \n",
       "71857       2018-05-25                  NaN                     NaN   \n",
       "\n",
       "       buildingclassdesc  heatingorsystemdesc  typeconstructiondesc  \\\n",
       "0                    NaN                  NaN                   NaN   \n",
       "1                    NaN                  NaN                   NaN   \n",
       "2                    NaN                  NaN                   NaN   \n",
       "3                    NaN              Central                   NaN   \n",
       "4                    NaN              Central                   NaN   \n",
       "...                  ...                  ...                   ...   \n",
       "71853                NaN              Central                   NaN   \n",
       "71854                NaN                  NaN                   NaN   \n",
       "71855                NaN              Central                   NaN   \n",
       "71856                NaN              Central                   NaN   \n",
       "71857                NaN           Floor/Wall                   NaN   \n",
       "\n",
       "       storydesc        propertylandusedesc  \n",
       "0            NaN  Single Family Residential  \n",
       "1            NaN  Single Family Residential  \n",
       "2            NaN  Single Family Residential  \n",
       "3            NaN  Single Family Residential  \n",
       "4            NaN                Condominium  \n",
       "...          ...                        ...  \n",
       "71853        NaN  Single Family Residential  \n",
       "71854        NaN  Single Family Residential  \n",
       "71855        NaN  Single Family Residential  \n",
       "71856        NaN  Single Family Residential  \n",
       "71857        NaN  Single Family Residential  \n",
       "\n",
       "[71858 rows x 69 columns]"
      ]
     },
     "execution_count": 2,
     "metadata": {},
     "output_type": "execute_result"
    }
   ],
   "source": [
    "# importing and aquiring data set\n",
    "df = acquire.get_zillow_data()\n",
    "df"
   ]
  },
  {
   "cell_type": "markdown",
   "id": "ede73954",
   "metadata": {},
   "source": [
    "[PLAN](#PLAN)\n",
    "# Prepare"
   ]
  },
  {
   "cell_type": "code",
   "execution_count": 3,
   "id": "a3e51666",
   "metadata": {},
   "outputs": [
    {
     "name": "stdout",
     "output_type": "stream",
     "text": [
      "Before dropping nulls, 49964 rows, 69 cols\n",
      "Before dropping nulls, 49964 rows, 69 cols\n",
      "After dropping nulls. 44092 rows. 12 cols\n",
      "After dropping nulls, 44092 rows, 12 cols\n"
     ]
    },
    {
     "data": {
      "text/html": [
       "<div>\n",
       "<style scoped>\n",
       "    .dataframe tbody tr th:only-of-type {\n",
       "        vertical-align: middle;\n",
       "    }\n",
       "\n",
       "    .dataframe tbody tr th {\n",
       "        vertical-align: top;\n",
       "    }\n",
       "\n",
       "    .dataframe thead th {\n",
       "        text-align: right;\n",
       "    }\n",
       "</style>\n",
       "<table border=\"1\" class=\"dataframe\">\n",
       "  <thead>\n",
       "    <tr style=\"text-align: right;\">\n",
       "      <th></th>\n",
       "      <th>bathroomcnt</th>\n",
       "      <th>bedroomcnt</th>\n",
       "      <th>calculatedfinishedsquarefeet</th>\n",
       "      <th>fips</th>\n",
       "      <th>latitude</th>\n",
       "      <th>longitude</th>\n",
       "      <th>lotsizesquarefeet</th>\n",
       "      <th>regionidcity</th>\n",
       "      <th>regionidzip</th>\n",
       "      <th>yearbuilt</th>\n",
       "      <th>taxvaluedollarcnt</th>\n",
       "      <th>logerror</th>\n",
       "    </tr>\n",
       "  </thead>\n",
       "  <tbody>\n",
       "    <tr>\n",
       "      <th>1</th>\n",
       "      <td>1.0</td>\n",
       "      <td>2.0</td>\n",
       "      <td>1465.0</td>\n",
       "      <td>6111.0</td>\n",
       "      <td>34449266.0</td>\n",
       "      <td>-119281531.0</td>\n",
       "      <td>12647.0</td>\n",
       "      <td>13091.0</td>\n",
       "      <td>97099.0</td>\n",
       "      <td>1967.0</td>\n",
       "      <td>464000.0</td>\n",
       "      <td>0.055619</td>\n",
       "    </tr>\n",
       "    <tr>\n",
       "      <th>2</th>\n",
       "      <td>2.0</td>\n",
       "      <td>3.0</td>\n",
       "      <td>1243.0</td>\n",
       "      <td>6059.0</td>\n",
       "      <td>33886168.0</td>\n",
       "      <td>-117823170.0</td>\n",
       "      <td>8432.0</td>\n",
       "      <td>21412.0</td>\n",
       "      <td>97078.0</td>\n",
       "      <td>1962.0</td>\n",
       "      <td>564778.0</td>\n",
       "      <td>0.005383</td>\n",
       "    </tr>\n",
       "    <tr>\n",
       "      <th>3</th>\n",
       "      <td>3.0</td>\n",
       "      <td>4.0</td>\n",
       "      <td>2376.0</td>\n",
       "      <td>6037.0</td>\n",
       "      <td>34245180.0</td>\n",
       "      <td>-118240722.0</td>\n",
       "      <td>13038.0</td>\n",
       "      <td>396551.0</td>\n",
       "      <td>96330.0</td>\n",
       "      <td>1970.0</td>\n",
       "      <td>145143.0</td>\n",
       "      <td>-0.103410</td>\n",
       "    </tr>\n",
       "    <tr>\n",
       "      <th>5</th>\n",
       "      <td>2.0</td>\n",
       "      <td>3.0</td>\n",
       "      <td>1492.0</td>\n",
       "      <td>6111.0</td>\n",
       "      <td>34230044.0</td>\n",
       "      <td>-118993991.0</td>\n",
       "      <td>903.0</td>\n",
       "      <td>51239.0</td>\n",
       "      <td>97091.0</td>\n",
       "      <td>1982.0</td>\n",
       "      <td>331064.0</td>\n",
       "      <td>-0.020526</td>\n",
       "    </tr>\n",
       "    <tr>\n",
       "      <th>7</th>\n",
       "      <td>1.0</td>\n",
       "      <td>2.0</td>\n",
       "      <td>738.0</td>\n",
       "      <td>6037.0</td>\n",
       "      <td>34149214.0</td>\n",
       "      <td>-118239357.0</td>\n",
       "      <td>4214.0</td>\n",
       "      <td>45457.0</td>\n",
       "      <td>96325.0</td>\n",
       "      <td>1922.0</td>\n",
       "      <td>218552.0</td>\n",
       "      <td>0.101723</td>\n",
       "    </tr>\n",
       "    <tr>\n",
       "      <th>...</th>\n",
       "      <td>...</td>\n",
       "      <td>...</td>\n",
       "      <td>...</td>\n",
       "      <td>...</td>\n",
       "      <td>...</td>\n",
       "      <td>...</td>\n",
       "      <td>...</td>\n",
       "      <td>...</td>\n",
       "      <td>...</td>\n",
       "      <td>...</td>\n",
       "      <td>...</td>\n",
       "      <td>...</td>\n",
       "    </tr>\n",
       "    <tr>\n",
       "      <th>71851</th>\n",
       "      <td>2.0</td>\n",
       "      <td>4.0</td>\n",
       "      <td>1633.0</td>\n",
       "      <td>6037.0</td>\n",
       "      <td>33870815.0</td>\n",
       "      <td>-118070858.0</td>\n",
       "      <td>4630.0</td>\n",
       "      <td>30267.0</td>\n",
       "      <td>96204.0</td>\n",
       "      <td>1962.0</td>\n",
       "      <td>346534.0</td>\n",
       "      <td>0.001082</td>\n",
       "    </tr>\n",
       "    <tr>\n",
       "      <th>71854</th>\n",
       "      <td>2.0</td>\n",
       "      <td>4.0</td>\n",
       "      <td>1612.0</td>\n",
       "      <td>6111.0</td>\n",
       "      <td>34300140.0</td>\n",
       "      <td>-118706327.0</td>\n",
       "      <td>12105.0</td>\n",
       "      <td>27110.0</td>\n",
       "      <td>97116.0</td>\n",
       "      <td>1964.0</td>\n",
       "      <td>67205.0</td>\n",
       "      <td>0.013209</td>\n",
       "    </tr>\n",
       "    <tr>\n",
       "      <th>71855</th>\n",
       "      <td>1.0</td>\n",
       "      <td>3.0</td>\n",
       "      <td>1032.0</td>\n",
       "      <td>6037.0</td>\n",
       "      <td>34040895.0</td>\n",
       "      <td>-118038169.0</td>\n",
       "      <td>5074.0</td>\n",
       "      <td>36502.0</td>\n",
       "      <td>96480.0</td>\n",
       "      <td>1954.0</td>\n",
       "      <td>49546.0</td>\n",
       "      <td>0.037129</td>\n",
       "    </tr>\n",
       "    <tr>\n",
       "      <th>71856</th>\n",
       "      <td>2.0</td>\n",
       "      <td>3.0</td>\n",
       "      <td>1762.0</td>\n",
       "      <td>6037.0</td>\n",
       "      <td>33937685.0</td>\n",
       "      <td>-117996709.0</td>\n",
       "      <td>6347.0</td>\n",
       "      <td>14634.0</td>\n",
       "      <td>96171.0</td>\n",
       "      <td>1955.0</td>\n",
       "      <td>522000.0</td>\n",
       "      <td>0.007204</td>\n",
       "    </tr>\n",
       "    <tr>\n",
       "      <th>71857</th>\n",
       "      <td>2.0</td>\n",
       "      <td>3.0</td>\n",
       "      <td>1050.0</td>\n",
       "      <td>6037.0</td>\n",
       "      <td>34010864.0</td>\n",
       "      <td>-117900894.0</td>\n",
       "      <td>5927.0</td>\n",
       "      <td>118217.0</td>\n",
       "      <td>96488.0</td>\n",
       "      <td>1960.0</td>\n",
       "      <td>259334.0</td>\n",
       "      <td>-0.197755</td>\n",
       "    </tr>\n",
       "  </tbody>\n",
       "</table>\n",
       "<p>44092 rows × 12 columns</p>\n",
       "</div>"
      ],
      "text/plain": [
       "       bathroomcnt  bedroomcnt  calculatedfinishedsquarefeet    fips  \\\n",
       "1              1.0         2.0                        1465.0  6111.0   \n",
       "2              2.0         3.0                        1243.0  6059.0   \n",
       "3              3.0         4.0                        2376.0  6037.0   \n",
       "5              2.0         3.0                        1492.0  6111.0   \n",
       "7              1.0         2.0                         738.0  6037.0   \n",
       "...            ...         ...                           ...     ...   \n",
       "71851          2.0         4.0                        1633.0  6037.0   \n",
       "71854          2.0         4.0                        1612.0  6111.0   \n",
       "71855          1.0         3.0                        1032.0  6037.0   \n",
       "71856          2.0         3.0                        1762.0  6037.0   \n",
       "71857          2.0         3.0                        1050.0  6037.0   \n",
       "\n",
       "         latitude    longitude  lotsizesquarefeet  regionidcity  regionidzip  \\\n",
       "1      34449266.0 -119281531.0            12647.0       13091.0      97099.0   \n",
       "2      33886168.0 -117823170.0             8432.0       21412.0      97078.0   \n",
       "3      34245180.0 -118240722.0            13038.0      396551.0      96330.0   \n",
       "5      34230044.0 -118993991.0              903.0       51239.0      97091.0   \n",
       "7      34149214.0 -118239357.0             4214.0       45457.0      96325.0   \n",
       "...           ...          ...                ...           ...          ...   \n",
       "71851  33870815.0 -118070858.0             4630.0       30267.0      96204.0   \n",
       "71854  34300140.0 -118706327.0            12105.0       27110.0      97116.0   \n",
       "71855  34040895.0 -118038169.0             5074.0       36502.0      96480.0   \n",
       "71856  33937685.0 -117996709.0             6347.0       14634.0      96171.0   \n",
       "71857  34010864.0 -117900894.0             5927.0      118217.0      96488.0   \n",
       "\n",
       "       yearbuilt  taxvaluedollarcnt  logerror  \n",
       "1         1967.0           464000.0  0.055619  \n",
       "2         1962.0           564778.0  0.005383  \n",
       "3         1970.0           145143.0 -0.103410  \n",
       "5         1982.0           331064.0 -0.020526  \n",
       "7         1922.0           218552.0  0.101723  \n",
       "...          ...                ...       ...  \n",
       "71851     1962.0           346534.0  0.001082  \n",
       "71854     1964.0            67205.0  0.013209  \n",
       "71855     1954.0            49546.0  0.037129  \n",
       "71856     1955.0           522000.0  0.007204  \n",
       "71857     1960.0           259334.0 -0.197755  \n",
       "\n",
       "[44092 rows x 12 columns]"
      ]
     },
     "execution_count": 3,
     "metadata": {},
     "output_type": "execute_result"
    }
   ],
   "source": [
    "# range of out liers 1.5 is recomended \n",
    "k = 1.5\n",
    "#creating a cols value of columns that we want for the outliers to be handled\n",
    "cols = ['bathroomcnt', 'bedroomcnt','calculatedfinishedsquarefeet','yearbuilt','lotsizesquarefeet']    \n",
    "\n",
    "df = wrangle.handle_outliers(df,cols,k)\n",
    "df = wrangle.get_exploration_data(df)\n",
    "df"
   ]
  },
  {
   "cell_type": "markdown",
   "id": "090c56b0",
   "metadata": {},
   "source": [
    "# Clustering the data\n",
    "- resulting in 3 seperate cluster\n",
    "[PLAN](#PLAN)"
   ]
  },
  {
   "cell_type": "code",
   "execution_count": 4,
   "id": "ae3a756d",
   "metadata": {},
   "outputs": [
    {
     "data": {
      "image/png": "[encoded data removed]",
      "text/plain": [
       "<Figure size 648x432 with 1 Axes>"
      ]
     },
     "metadata": {},
     "output_type": "display_data"
    }
   ],
   "source": [
    "# building and X to start clustering\n",
    "X = df[['bathroomcnt', 'calculatedfinishedsquarefeet','bedroomcnt','yearbuilt','taxvaluedollarcnt']]\n",
    "with plt.style.context('seaborn-whitegrid'):\n",
    "    #graph size\n",
    "    plt.figure(figsize=(9, 6))\n",
    "    pd.Series({k: KMeans(k).fit(X).inertia_ for k in range(2, 12)}).plot(marker='x')\n",
    "    plt.xticks(range(2, 12))\n",
    "    plt.xlabel('k')\n",
    "    plt.ylabel('inertia')\n",
    "    plt.title('Change in inertia as k increases')\n"
   ]
  },
  {
   "cell_type": "markdown",
   "id": "fcde9a83",
   "metadata": {},
   "source": [
    "### Takeways:\n",
    "- 3 point inertia drop from 2-3\n",
    "- 1 point inertia drop from 3-4\n",
    "\n",
    "### Conclusion:\n",
    "- we will create 3 clusters"
   ]
  },
  {
   "cell_type": "code",
   "execution_count": 5,
   "id": "9b21e536",
   "metadata": {},
   "outputs": [],
   "source": [
    "kmeans = KMeans(n_clusters=3)\n",
    "kmeans.fit(X)\n",
    "\n",
    "kmeans.predict(X) \n",
    "#creating a new dataframe\n",
    "centroids = pd.DataFrame(kmeans.cluster_centers_, columns=X.columns)"
   ]
  },
  {
   "cell_type": "code",
   "execution_count": 6,
   "id": "dfca4f0c",
   "metadata": {},
   "outputs": [
    {
     "data": {
      "text/html": [
       "<div>\n",
       "<style scoped>\n",
       "    .dataframe tbody tr th:only-of-type {\n",
       "        vertical-align: middle;\n",
       "    }\n",
       "\n",
       "    .dataframe tbody tr th {\n",
       "        vertical-align: top;\n",
       "    }\n",
       "\n",
       "    .dataframe thead th {\n",
       "        text-align: right;\n",
       "    }\n",
       "</style>\n",
       "<table border=\"1\" class=\"dataframe\">\n",
       "  <thead>\n",
       "    <tr style=\"text-align: right;\">\n",
       "      <th></th>\n",
       "      <th>bathroomcnt</th>\n",
       "      <th>calculatedfinishedsquarefeet</th>\n",
       "      <th>bedroomcnt</th>\n",
       "      <th>yearbuilt</th>\n",
       "      <th>taxvaluedollarcnt</th>\n",
       "    </tr>\n",
       "    <tr>\n",
       "      <th>cluster</th>\n",
       "      <th></th>\n",
       "      <th></th>\n",
       "      <th></th>\n",
       "      <th></th>\n",
       "      <th></th>\n",
       "    </tr>\n",
       "  </thead>\n",
       "  <tbody>\n",
       "    <tr>\n",
       "      <th>0</th>\n",
       "      <td>2.396146</td>\n",
       "      <td>1951.638889</td>\n",
       "      <td>3.305408</td>\n",
       "      <td>1965.899131</td>\n",
       "      <td>6.683758e+05</td>\n",
       "    </tr>\n",
       "    <tr>\n",
       "      <th>1</th>\n",
       "      <td>1.926197</td>\n",
       "      <td>1492.212833</td>\n",
       "      <td>3.018421</td>\n",
       "      <td>1959.382319</td>\n",
       "      <td>2.310852e+05</td>\n",
       "    </tr>\n",
       "    <tr>\n",
       "      <th>2</th>\n",
       "      <td>2.783486</td>\n",
       "      <td>2355.577626</td>\n",
       "      <td>3.344749</td>\n",
       "      <td>1957.449772</td>\n",
       "      <td>1.842182e+06</td>\n",
       "    </tr>\n",
       "  </tbody>\n",
       "</table>\n",
       "</div>"
      ],
      "text/plain": [
       "         bathroomcnt  calculatedfinishedsquarefeet  bedroomcnt    yearbuilt  \\\n",
       "cluster                                                                       \n",
       "0           2.396146                   1951.638889    3.305408  1965.899131   \n",
       "1           1.926197                   1492.212833    3.018421  1959.382319   \n",
       "2           2.783486                   2355.577626    3.344749  1957.449772   \n",
       "\n",
       "         taxvaluedollarcnt  \n",
       "cluster                     \n",
       "0             6.683758e+05  \n",
       "1             2.310852e+05  \n",
       "2             1.842182e+06  "
      ]
     },
     "execution_count": 6,
     "metadata": {},
     "output_type": "execute_result"
    }
   ],
   "source": [
    "#making a dataframe for the new clusters.\n",
    "df['cluster'] = kmeans.predict(X)\n",
    "df.groupby('cluster')['bathroomcnt', 'calculatedfinishedsquarefeet','bedroomcnt','yearbuilt','taxvaluedollarcnt'].mean()\n",
    "    "
   ]
  },
  {
   "cell_type": "code",
   "execution_count": 7,
   "id": "650c8bb9",
   "metadata": {},
   "outputs": [
    {
     "data": {
      "image/png": "[encoded data removed]",
      "text/plain": [
       "<Figure size 1008x648 with 1 Axes>"
      ]
     },
     "metadata": {
      "needs_background": "light"
     },
     "output_type": "display_data"
    }
   ],
   "source": [
    "#graph size \n",
    "plt.figure(figsize=(14, 9))\n",
    "#graphing after weve clustered using a scatter plot\n",
    "for cluster, subset in df.groupby('cluster'):\n",
    "\n",
    "        plt.scatter(subset.taxvaluedollarcnt, subset.calculatedfinishedsquarefeet, label='cluster ' + str(cluster), alpha=.6)\n",
    "\n",
    "        centroids.plot.scatter(y='calculatedfinishedsquarefeet', x='taxvaluedollarcnt', c='black', marker='x', s=1000, ax=plt.gca(), label='centroid')\n",
    "\n",
    "        plt.legend()\n",
    "        plt.xlabel('price')\n",
    "        plt.ylabel('sq ft')\n",
    "        plt.title('Visualizing Cluster Centers')"
   ]
  },
  {
   "cell_type": "code",
   "execution_count": 8,
   "id": "c23d2a51",
   "metadata": {},
   "outputs": [],
   "source": [
    "cluster1 = df[df.cluster == 0]\n",
    "cluster2 = df[df.cluster == 1]\n",
    "cluster3 = df[df.cluster == 2]"
   ]
  },
  {
   "cell_type": "code",
   "execution_count": 9,
   "id": "fcf72fb7",
   "metadata": {},
   "outputs": [
    {
     "data": {
      "text/html": [
       "<div>\n",
       "<style scoped>\n",
       "    .dataframe tbody tr th:only-of-type {\n",
       "        vertical-align: middle;\n",
       "    }\n",
       "\n",
       "    .dataframe tbody tr th {\n",
       "        vertical-align: top;\n",
       "    }\n",
       "\n",
       "    .dataframe thead th {\n",
       "        text-align: right;\n",
       "    }\n",
       "</style>\n",
       "<table border=\"1\" class=\"dataframe\">\n",
       "  <thead>\n",
       "    <tr style=\"text-align: right;\">\n",
       "      <th></th>\n",
       "      <th>bathroomcnt</th>\n",
       "      <th>bedroomcnt</th>\n",
       "      <th>calculatedfinishedsquarefeet</th>\n",
       "      <th>fips</th>\n",
       "      <th>latitude</th>\n",
       "      <th>longitude</th>\n",
       "      <th>lotsizesquarefeet</th>\n",
       "      <th>regionidcity</th>\n",
       "      <th>regionidzip</th>\n",
       "      <th>yearbuilt</th>\n",
       "      <th>taxvaluedollarcnt</th>\n",
       "      <th>logerror</th>\n",
       "      <th>cluster</th>\n",
       "    </tr>\n",
       "  </thead>\n",
       "  <tbody>\n",
       "    <tr>\n",
       "      <th>1</th>\n",
       "      <td>1.0</td>\n",
       "      <td>2.0</td>\n",
       "      <td>1465.0</td>\n",
       "      <td>6111.0</td>\n",
       "      <td>34449266.0</td>\n",
       "      <td>-119281531.0</td>\n",
       "      <td>12647.0</td>\n",
       "      <td>13091.0</td>\n",
       "      <td>97099.0</td>\n",
       "      <td>1967.0</td>\n",
       "      <td>464000.0</td>\n",
       "      <td>0.055619</td>\n",
       "      <td>0</td>\n",
       "    </tr>\n",
       "    <tr>\n",
       "      <th>2</th>\n",
       "      <td>2.0</td>\n",
       "      <td>3.0</td>\n",
       "      <td>1243.0</td>\n",
       "      <td>6059.0</td>\n",
       "      <td>33886168.0</td>\n",
       "      <td>-117823170.0</td>\n",
       "      <td>8432.0</td>\n",
       "      <td>21412.0</td>\n",
       "      <td>97078.0</td>\n",
       "      <td>1962.0</td>\n",
       "      <td>564778.0</td>\n",
       "      <td>0.005383</td>\n",
       "      <td>0</td>\n",
       "    </tr>\n",
       "    <tr>\n",
       "      <th>15</th>\n",
       "      <td>2.0</td>\n",
       "      <td>4.0</td>\n",
       "      <td>1677.0</td>\n",
       "      <td>6059.0</td>\n",
       "      <td>33642800.0</td>\n",
       "      <td>-117707211.0</td>\n",
       "      <td>5304.0</td>\n",
       "      <td>32380.0</td>\n",
       "      <td>96962.0</td>\n",
       "      <td>1981.0</td>\n",
       "      <td>528847.0</td>\n",
       "      <td>-0.021896</td>\n",
       "      <td>0</td>\n",
       "    </tr>\n",
       "    <tr>\n",
       "      <th>20</th>\n",
       "      <td>2.5</td>\n",
       "      <td>3.0</td>\n",
       "      <td>2074.0</td>\n",
       "      <td>6059.0</td>\n",
       "      <td>33586693.0</td>\n",
       "      <td>-117697202.0</td>\n",
       "      <td>5600.0</td>\n",
       "      <td>25458.0</td>\n",
       "      <td>96971.0</td>\n",
       "      <td>1978.0</td>\n",
       "      <td>597213.0</td>\n",
       "      <td>-0.006653</td>\n",
       "      <td>0</td>\n",
       "    </tr>\n",
       "    <tr>\n",
       "      <th>21</th>\n",
       "      <td>2.5</td>\n",
       "      <td>3.0</td>\n",
       "      <td>2018.0</td>\n",
       "      <td>6059.0</td>\n",
       "      <td>33728985.0</td>\n",
       "      <td>-117754647.0</td>\n",
       "      <td>2800.0</td>\n",
       "      <td>52650.0</td>\n",
       "      <td>96954.0</td>\n",
       "      <td>1998.0</td>\n",
       "      <td>534612.0</td>\n",
       "      <td>0.044309</td>\n",
       "      <td>0</td>\n",
       "    </tr>\n",
       "    <tr>\n",
       "      <th>...</th>\n",
       "      <td>...</td>\n",
       "      <td>...</td>\n",
       "      <td>...</td>\n",
       "      <td>...</td>\n",
       "      <td>...</td>\n",
       "      <td>...</td>\n",
       "      <td>...</td>\n",
       "      <td>...</td>\n",
       "      <td>...</td>\n",
       "      <td>...</td>\n",
       "      <td>...</td>\n",
       "      <td>...</td>\n",
       "      <td>...</td>\n",
       "    </tr>\n",
       "    <tr>\n",
       "      <th>71820</th>\n",
       "      <td>3.0</td>\n",
       "      <td>4.0</td>\n",
       "      <td>2180.0</td>\n",
       "      <td>6037.0</td>\n",
       "      <td>33885900.0</td>\n",
       "      <td>-118373000.0</td>\n",
       "      <td>7509.0</td>\n",
       "      <td>33612.0</td>\n",
       "      <td>96124.0</td>\n",
       "      <td>1973.0</td>\n",
       "      <td>797109.0</td>\n",
       "      <td>0.064191</td>\n",
       "      <td>0</td>\n",
       "    </tr>\n",
       "    <tr>\n",
       "      <th>71821</th>\n",
       "      <td>2.0</td>\n",
       "      <td>4.0</td>\n",
       "      <td>1689.0</td>\n",
       "      <td>6037.0</td>\n",
       "      <td>34106193.0</td>\n",
       "      <td>-117830253.0</td>\n",
       "      <td>8028.0</td>\n",
       "      <td>33836.0</td>\n",
       "      <td>96513.0</td>\n",
       "      <td>1978.0</td>\n",
       "      <td>574000.0</td>\n",
       "      <td>-0.016622</td>\n",
       "      <td>0</td>\n",
       "    </tr>\n",
       "    <tr>\n",
       "      <th>71832</th>\n",
       "      <td>3.0</td>\n",
       "      <td>3.0</td>\n",
       "      <td>1774.0</td>\n",
       "      <td>6037.0</td>\n",
       "      <td>34158519.0</td>\n",
       "      <td>-118451574.0</td>\n",
       "      <td>5834.0</td>\n",
       "      <td>12447.0</td>\n",
       "      <td>96412.0</td>\n",
       "      <td>1949.0</td>\n",
       "      <td>796324.0</td>\n",
       "      <td>0.002138</td>\n",
       "      <td>0</td>\n",
       "    </tr>\n",
       "    <tr>\n",
       "      <th>71843</th>\n",
       "      <td>2.0</td>\n",
       "      <td>3.0</td>\n",
       "      <td>1472.0</td>\n",
       "      <td>6037.0</td>\n",
       "      <td>34123355.0</td>\n",
       "      <td>-118180658.0</td>\n",
       "      <td>4454.0</td>\n",
       "      <td>12447.0</td>\n",
       "      <td>96023.0</td>\n",
       "      <td>1927.0</td>\n",
       "      <td>603333.0</td>\n",
       "      <td>-0.062404</td>\n",
       "      <td>0</td>\n",
       "    </tr>\n",
       "    <tr>\n",
       "      <th>71856</th>\n",
       "      <td>2.0</td>\n",
       "      <td>3.0</td>\n",
       "      <td>1762.0</td>\n",
       "      <td>6037.0</td>\n",
       "      <td>33937685.0</td>\n",
       "      <td>-117996709.0</td>\n",
       "      <td>6347.0</td>\n",
       "      <td>14634.0</td>\n",
       "      <td>96171.0</td>\n",
       "      <td>1955.0</td>\n",
       "      <td>522000.0</td>\n",
       "      <td>0.007204</td>\n",
       "      <td>0</td>\n",
       "    </tr>\n",
       "  </tbody>\n",
       "</table>\n",
       "<p>13572 rows × 13 columns</p>\n",
       "</div>"
      ],
      "text/plain": [
       "       bathroomcnt  bedroomcnt  calculatedfinishedsquarefeet    fips  \\\n",
       "1              1.0         2.0                        1465.0  6111.0   \n",
       "2              2.0         3.0                        1243.0  6059.0   \n",
       "15             2.0         4.0                        1677.0  6059.0   \n",
       "20             2.5         3.0                        2074.0  6059.0   \n",
       "21             2.5         3.0                        2018.0  6059.0   \n",
       "...            ...         ...                           ...     ...   \n",
       "71820          3.0         4.0                        2180.0  6037.0   \n",
       "71821          2.0         4.0                        1689.0  6037.0   \n",
       "71832          3.0         3.0                        1774.0  6037.0   \n",
       "71843          2.0         3.0                        1472.0  6037.0   \n",
       "71856          2.0         3.0                        1762.0  6037.0   \n",
       "\n",
       "         latitude    longitude  lotsizesquarefeet  regionidcity  regionidzip  \\\n",
       "1      34449266.0 -119281531.0            12647.0       13091.0      97099.0   \n",
       "2      33886168.0 -117823170.0             8432.0       21412.0      97078.0   \n",
       "15     33642800.0 -117707211.0             5304.0       32380.0      96962.0   \n",
       "20     33586693.0 -117697202.0             5600.0       25458.0      96971.0   \n",
       "21     33728985.0 -117754647.0             2800.0       52650.0      96954.0   \n",
       "...           ...          ...                ...           ...          ...   \n",
       "71820  33885900.0 -118373000.0             7509.0       33612.0      96124.0   \n",
       "71821  34106193.0 -117830253.0             8028.0       33836.0      96513.0   \n",
       "71832  34158519.0 -118451574.0             5834.0       12447.0      96412.0   \n",
       "71843  34123355.0 -118180658.0             4454.0       12447.0      96023.0   \n",
       "71856  33937685.0 -117996709.0             6347.0       14634.0      96171.0   \n",
       "\n",
       "       yearbuilt  taxvaluedollarcnt  logerror  cluster  \n",
       "1         1967.0           464000.0  0.055619        0  \n",
       "2         1962.0           564778.0  0.005383        0  \n",
       "15        1981.0           528847.0 -0.021896        0  \n",
       "20        1978.0           597213.0 -0.006653        0  \n",
       "21        1998.0           534612.0  0.044309        0  \n",
       "...          ...                ...       ...      ...  \n",
       "71820     1973.0           797109.0  0.064191        0  \n",
       "71821     1978.0           574000.0 -0.016622        0  \n",
       "71832     1949.0           796324.0  0.002138        0  \n",
       "71843     1927.0           603333.0 -0.062404        0  \n",
       "71856     1955.0           522000.0  0.007204        0  \n",
       "\n",
       "[13572 rows x 13 columns]"
      ]
     },
     "execution_count": 9,
     "metadata": {},
     "output_type": "execute_result"
    }
   ],
   "source": [
    "#clsuter 1 data\n",
    "cluster1"
   ]
  },
  {
   "cell_type": "code",
   "execution_count": 10,
   "id": "ca37a87e",
   "metadata": {},
   "outputs": [
    {
     "data": {
      "text/html": [
       "<div>\n",
       "<style scoped>\n",
       "    .dataframe tbody tr th:only-of-type {\n",
       "        vertical-align: middle;\n",
       "    }\n",
       "\n",
       "    .dataframe tbody tr th {\n",
       "        vertical-align: top;\n",
       "    }\n",
       "\n",
       "    .dataframe thead th {\n",
       "        text-align: right;\n",
       "    }\n",
       "</style>\n",
       "<table border=\"1\" class=\"dataframe\">\n",
       "  <thead>\n",
       "    <tr style=\"text-align: right;\">\n",
       "      <th></th>\n",
       "      <th>bathroomcnt</th>\n",
       "      <th>bedroomcnt</th>\n",
       "      <th>calculatedfinishedsquarefeet</th>\n",
       "      <th>fips</th>\n",
       "      <th>latitude</th>\n",
       "      <th>longitude</th>\n",
       "      <th>lotsizesquarefeet</th>\n",
       "      <th>regionidcity</th>\n",
       "      <th>regionidzip</th>\n",
       "      <th>yearbuilt</th>\n",
       "      <th>taxvaluedollarcnt</th>\n",
       "      <th>logerror</th>\n",
       "      <th>cluster</th>\n",
       "    </tr>\n",
       "  </thead>\n",
       "  <tbody>\n",
       "    <tr>\n",
       "      <th>3</th>\n",
       "      <td>3.0</td>\n",
       "      <td>4.0</td>\n",
       "      <td>2376.0</td>\n",
       "      <td>6037.0</td>\n",
       "      <td>34245180.0</td>\n",
       "      <td>-118240722.0</td>\n",
       "      <td>13038.0</td>\n",
       "      <td>396551.0</td>\n",
       "      <td>96330.0</td>\n",
       "      <td>1970.0</td>\n",
       "      <td>145143.0</td>\n",
       "      <td>-0.103410</td>\n",
       "      <td>1</td>\n",
       "    </tr>\n",
       "    <tr>\n",
       "      <th>5</th>\n",
       "      <td>2.0</td>\n",
       "      <td>3.0</td>\n",
       "      <td>1492.0</td>\n",
       "      <td>6111.0</td>\n",
       "      <td>34230044.0</td>\n",
       "      <td>-118993991.0</td>\n",
       "      <td>903.0</td>\n",
       "      <td>51239.0</td>\n",
       "      <td>97091.0</td>\n",
       "      <td>1982.0</td>\n",
       "      <td>331064.0</td>\n",
       "      <td>-0.020526</td>\n",
       "      <td>1</td>\n",
       "    </tr>\n",
       "    <tr>\n",
       "      <th>7</th>\n",
       "      <td>1.0</td>\n",
       "      <td>2.0</td>\n",
       "      <td>738.0</td>\n",
       "      <td>6037.0</td>\n",
       "      <td>34149214.0</td>\n",
       "      <td>-118239357.0</td>\n",
       "      <td>4214.0</td>\n",
       "      <td>45457.0</td>\n",
       "      <td>96325.0</td>\n",
       "      <td>1922.0</td>\n",
       "      <td>218552.0</td>\n",
       "      <td>0.101723</td>\n",
       "      <td>1</td>\n",
       "    </tr>\n",
       "    <tr>\n",
       "      <th>8</th>\n",
       "      <td>3.0</td>\n",
       "      <td>4.0</td>\n",
       "      <td>3039.0</td>\n",
       "      <td>6037.0</td>\n",
       "      <td>33960230.0</td>\n",
       "      <td>-118006914.0</td>\n",
       "      <td>20028.0</td>\n",
       "      <td>14634.0</td>\n",
       "      <td>96173.0</td>\n",
       "      <td>1970.0</td>\n",
       "      <td>220583.0</td>\n",
       "      <td>-0.040966</td>\n",
       "      <td>1</td>\n",
       "    </tr>\n",
       "    <tr>\n",
       "      <th>10</th>\n",
       "      <td>3.0</td>\n",
       "      <td>4.0</td>\n",
       "      <td>2540.0</td>\n",
       "      <td>6037.0</td>\n",
       "      <td>34434971.0</td>\n",
       "      <td>-118464390.0</td>\n",
       "      <td>10384.0</td>\n",
       "      <td>54311.0</td>\n",
       "      <td>96374.0</td>\n",
       "      <td>1999.0</td>\n",
       "      <td>430108.0</td>\n",
       "      <td>0.005963</td>\n",
       "      <td>1</td>\n",
       "    </tr>\n",
       "    <tr>\n",
       "      <th>...</th>\n",
       "      <td>...</td>\n",
       "      <td>...</td>\n",
       "      <td>...</td>\n",
       "      <td>...</td>\n",
       "      <td>...</td>\n",
       "      <td>...</td>\n",
       "      <td>...</td>\n",
       "      <td>...</td>\n",
       "      <td>...</td>\n",
       "      <td>...</td>\n",
       "      <td>...</td>\n",
       "      <td>...</td>\n",
       "      <td>...</td>\n",
       "    </tr>\n",
       "    <tr>\n",
       "      <th>71850</th>\n",
       "      <td>2.0</td>\n",
       "      <td>3.0</td>\n",
       "      <td>1570.0</td>\n",
       "      <td>6037.0</td>\n",
       "      <td>34194943.0</td>\n",
       "      <td>-118629218.0</td>\n",
       "      <td>7499.0</td>\n",
       "      <td>12447.0</td>\n",
       "      <td>96342.0</td>\n",
       "      <td>1958.0</td>\n",
       "      <td>72026.0</td>\n",
       "      <td>0.081196</td>\n",
       "      <td>1</td>\n",
       "    </tr>\n",
       "    <tr>\n",
       "      <th>71851</th>\n",
       "      <td>2.0</td>\n",
       "      <td>4.0</td>\n",
       "      <td>1633.0</td>\n",
       "      <td>6037.0</td>\n",
       "      <td>33870815.0</td>\n",
       "      <td>-118070858.0</td>\n",
       "      <td>4630.0</td>\n",
       "      <td>30267.0</td>\n",
       "      <td>96204.0</td>\n",
       "      <td>1962.0</td>\n",
       "      <td>346534.0</td>\n",
       "      <td>0.001082</td>\n",
       "      <td>1</td>\n",
       "    </tr>\n",
       "    <tr>\n",
       "      <th>71854</th>\n",
       "      <td>2.0</td>\n",
       "      <td>4.0</td>\n",
       "      <td>1612.0</td>\n",
       "      <td>6111.0</td>\n",
       "      <td>34300140.0</td>\n",
       "      <td>-118706327.0</td>\n",
       "      <td>12105.0</td>\n",
       "      <td>27110.0</td>\n",
       "      <td>97116.0</td>\n",
       "      <td>1964.0</td>\n",
       "      <td>67205.0</td>\n",
       "      <td>0.013209</td>\n",
       "      <td>1</td>\n",
       "    </tr>\n",
       "    <tr>\n",
       "      <th>71855</th>\n",
       "      <td>1.0</td>\n",
       "      <td>3.0</td>\n",
       "      <td>1032.0</td>\n",
       "      <td>6037.0</td>\n",
       "      <td>34040895.0</td>\n",
       "      <td>-118038169.0</td>\n",
       "      <td>5074.0</td>\n",
       "      <td>36502.0</td>\n",
       "      <td>96480.0</td>\n",
       "      <td>1954.0</td>\n",
       "      <td>49546.0</td>\n",
       "      <td>0.037129</td>\n",
       "      <td>1</td>\n",
       "    </tr>\n",
       "    <tr>\n",
       "      <th>71857</th>\n",
       "      <td>2.0</td>\n",
       "      <td>3.0</td>\n",
       "      <td>1050.0</td>\n",
       "      <td>6037.0</td>\n",
       "      <td>34010864.0</td>\n",
       "      <td>-117900894.0</td>\n",
       "      <td>5927.0</td>\n",
       "      <td>118217.0</td>\n",
       "      <td>96488.0</td>\n",
       "      <td>1960.0</td>\n",
       "      <td>259334.0</td>\n",
       "      <td>-0.197755</td>\n",
       "      <td>1</td>\n",
       "    </tr>\n",
       "  </tbody>\n",
       "</table>\n",
       "<p>29206 rows × 13 columns</p>\n",
       "</div>"
      ],
      "text/plain": [
       "       bathroomcnt  bedroomcnt  calculatedfinishedsquarefeet    fips  \\\n",
       "3              3.0         4.0                        2376.0  6037.0   \n",
       "5              2.0         3.0                        1492.0  6111.0   \n",
       "7              1.0         2.0                         738.0  6037.0   \n",
       "8              3.0         4.0                        3039.0  6037.0   \n",
       "10             3.0         4.0                        2540.0  6037.0   \n",
       "...            ...         ...                           ...     ...   \n",
       "71850          2.0         3.0                        1570.0  6037.0   \n",
       "71851          2.0         4.0                        1633.0  6037.0   \n",
       "71854          2.0         4.0                        1612.0  6111.0   \n",
       "71855          1.0         3.0                        1032.0  6037.0   \n",
       "71857          2.0         3.0                        1050.0  6037.0   \n",
       "\n",
       "         latitude    longitude  lotsizesquarefeet  regionidcity  regionidzip  \\\n",
       "3      34245180.0 -118240722.0            13038.0      396551.0      96330.0   \n",
       "5      34230044.0 -118993991.0              903.0       51239.0      97091.0   \n",
       "7      34149214.0 -118239357.0             4214.0       45457.0      96325.0   \n",
       "8      33960230.0 -118006914.0            20028.0       14634.0      96173.0   \n",
       "10     34434971.0 -118464390.0            10384.0       54311.0      96374.0   \n",
       "...           ...          ...                ...           ...          ...   \n",
       "71850  34194943.0 -118629218.0             7499.0       12447.0      96342.0   \n",
       "71851  33870815.0 -118070858.0             4630.0       30267.0      96204.0   \n",
       "71854  34300140.0 -118706327.0            12105.0       27110.0      97116.0   \n",
       "71855  34040895.0 -118038169.0             5074.0       36502.0      96480.0   \n",
       "71857  34010864.0 -117900894.0             5927.0      118217.0      96488.0   \n",
       "\n",
       "       yearbuilt  taxvaluedollarcnt  logerror  cluster  \n",
       "3         1970.0           145143.0 -0.103410        1  \n",
       "5         1982.0           331064.0 -0.020526        1  \n",
       "7         1922.0           218552.0  0.101723        1  \n",
       "8         1970.0           220583.0 -0.040966        1  \n",
       "10        1999.0           430108.0  0.005963        1  \n",
       "...          ...                ...       ...      ...  \n",
       "71850     1958.0            72026.0  0.081196        1  \n",
       "71851     1962.0           346534.0  0.001082        1  \n",
       "71854     1964.0            67205.0  0.013209        1  \n",
       "71855     1954.0            49546.0  0.037129        1  \n",
       "71857     1960.0           259334.0 -0.197755        1  \n",
       "\n",
       "[29206 rows x 13 columns]"
      ]
     },
     "execution_count": 10,
     "metadata": {},
     "output_type": "execute_result"
    }
   ],
   "source": [
    "#clsuter 2 data\n",
    "cluster2"
   ]
  },
  {
   "cell_type": "code",
   "execution_count": 11,
   "id": "31ef17d5",
   "metadata": {},
   "outputs": [
    {
     "data": {
      "text/html": [
       "<div>\n",
       "<style scoped>\n",
       "    .dataframe tbody tr th:only-of-type {\n",
       "        vertical-align: middle;\n",
       "    }\n",
       "\n",
       "    .dataframe tbody tr th {\n",
       "        vertical-align: top;\n",
       "    }\n",
       "\n",
       "    .dataframe thead th {\n",
       "        text-align: right;\n",
       "    }\n",
       "</style>\n",
       "<table border=\"1\" class=\"dataframe\">\n",
       "  <thead>\n",
       "    <tr style=\"text-align: right;\">\n",
       "      <th></th>\n",
       "      <th>bathroomcnt</th>\n",
       "      <th>bedroomcnt</th>\n",
       "      <th>calculatedfinishedsquarefeet</th>\n",
       "      <th>fips</th>\n",
       "      <th>latitude</th>\n",
       "      <th>longitude</th>\n",
       "      <th>lotsizesquarefeet</th>\n",
       "      <th>regionidcity</th>\n",
       "      <th>regionidzip</th>\n",
       "      <th>yearbuilt</th>\n",
       "      <th>taxvaluedollarcnt</th>\n",
       "      <th>logerror</th>\n",
       "      <th>cluster</th>\n",
       "    </tr>\n",
       "  </thead>\n",
       "  <tbody>\n",
       "    <tr>\n",
       "      <th>96</th>\n",
       "      <td>2.5</td>\n",
       "      <td>3.0</td>\n",
       "      <td>3011.0</td>\n",
       "      <td>6059.0</td>\n",
       "      <td>33628725.0</td>\n",
       "      <td>-117873172.0</td>\n",
       "      <td>6944.0</td>\n",
       "      <td>53571.0</td>\n",
       "      <td>96978.0</td>\n",
       "      <td>1973.0</td>\n",
       "      <td>1441252.0</td>\n",
       "      <td>-0.201121</td>\n",
       "      <td>2</td>\n",
       "    </tr>\n",
       "    <tr>\n",
       "      <th>132</th>\n",
       "      <td>3.0</td>\n",
       "      <td>4.0</td>\n",
       "      <td>3107.0</td>\n",
       "      <td>6037.0</td>\n",
       "      <td>34154597.0</td>\n",
       "      <td>-118514596.0</td>\n",
       "      <td>17166.0</td>\n",
       "      <td>12447.0</td>\n",
       "      <td>96349.0</td>\n",
       "      <td>1957.0</td>\n",
       "      <td>1279125.0</td>\n",
       "      <td>-0.013062</td>\n",
       "      <td>2</td>\n",
       "    </tr>\n",
       "    <tr>\n",
       "      <th>168</th>\n",
       "      <td>2.5</td>\n",
       "      <td>3.0</td>\n",
       "      <td>2134.0</td>\n",
       "      <td>6059.0</td>\n",
       "      <td>33624386.0</td>\n",
       "      <td>-117919255.0</td>\n",
       "      <td>6375.0</td>\n",
       "      <td>53571.0</td>\n",
       "      <td>96981.0</td>\n",
       "      <td>1995.0</td>\n",
       "      <td>1794000.0</td>\n",
       "      <td>0.048630</td>\n",
       "      <td>2</td>\n",
       "    </tr>\n",
       "    <tr>\n",
       "      <th>268</th>\n",
       "      <td>2.0</td>\n",
       "      <td>3.0</td>\n",
       "      <td>1956.0</td>\n",
       "      <td>6037.0</td>\n",
       "      <td>34040419.0</td>\n",
       "      <td>-118480389.0</td>\n",
       "      <td>8008.0</td>\n",
       "      <td>26964.0</td>\n",
       "      <td>96150.0</td>\n",
       "      <td>1927.0</td>\n",
       "      <td>2715793.0</td>\n",
       "      <td>-0.088941</td>\n",
       "      <td>2</td>\n",
       "    </tr>\n",
       "    <tr>\n",
       "      <th>277</th>\n",
       "      <td>3.0</td>\n",
       "      <td>4.0</td>\n",
       "      <td>2409.0</td>\n",
       "      <td>6037.0</td>\n",
       "      <td>34038659.0</td>\n",
       "      <td>-118498682.0</td>\n",
       "      <td>7521.0</td>\n",
       "      <td>26964.0</td>\n",
       "      <td>96149.0</td>\n",
       "      <td>1927.0</td>\n",
       "      <td>2100270.0</td>\n",
       "      <td>-0.206738</td>\n",
       "      <td>2</td>\n",
       "    </tr>\n",
       "    <tr>\n",
       "      <th>...</th>\n",
       "      <td>...</td>\n",
       "      <td>...</td>\n",
       "      <td>...</td>\n",
       "      <td>...</td>\n",
       "      <td>...</td>\n",
       "      <td>...</td>\n",
       "      <td>...</td>\n",
       "      <td>...</td>\n",
       "      <td>...</td>\n",
       "      <td>...</td>\n",
       "      <td>...</td>\n",
       "      <td>...</td>\n",
       "      <td>...</td>\n",
       "    </tr>\n",
       "    <tr>\n",
       "      <th>71745</th>\n",
       "      <td>3.0</td>\n",
       "      <td>3.0</td>\n",
       "      <td>1687.0</td>\n",
       "      <td>6037.0</td>\n",
       "      <td>34053344.0</td>\n",
       "      <td>-118474937.0</td>\n",
       "      <td>6999.0</td>\n",
       "      <td>12447.0</td>\n",
       "      <td>96030.0</td>\n",
       "      <td>1947.0</td>\n",
       "      <td>2000000.0</td>\n",
       "      <td>0.075964</td>\n",
       "      <td>2</td>\n",
       "    </tr>\n",
       "    <tr>\n",
       "      <th>71752</th>\n",
       "      <td>2.0</td>\n",
       "      <td>3.0</td>\n",
       "      <td>2240.0</td>\n",
       "      <td>6037.0</td>\n",
       "      <td>34030263.0</td>\n",
       "      <td>-118838416.0</td>\n",
       "      <td>9533.0</td>\n",
       "      <td>12520.0</td>\n",
       "      <td>96116.0</td>\n",
       "      <td>1977.0</td>\n",
       "      <td>1582000.0</td>\n",
       "      <td>0.073576</td>\n",
       "      <td>2</td>\n",
       "    </tr>\n",
       "    <tr>\n",
       "      <th>71779</th>\n",
       "      <td>3.0</td>\n",
       "      <td>4.0</td>\n",
       "      <td>3148.0</td>\n",
       "      <td>6037.0</td>\n",
       "      <td>33891606.0</td>\n",
       "      <td>-118389223.0</td>\n",
       "      <td>7001.0</td>\n",
       "      <td>19177.0</td>\n",
       "      <td>96117.0</td>\n",
       "      <td>1993.0</td>\n",
       "      <td>2082201.0</td>\n",
       "      <td>0.035489</td>\n",
       "      <td>2</td>\n",
       "    </tr>\n",
       "    <tr>\n",
       "      <th>71807</th>\n",
       "      <td>2.0</td>\n",
       "      <td>3.0</td>\n",
       "      <td>1467.0</td>\n",
       "      <td>6037.0</td>\n",
       "      <td>33899557.0</td>\n",
       "      <td>-118399615.0</td>\n",
       "      <td>4643.0</td>\n",
       "      <td>19177.0</td>\n",
       "      <td>96117.0</td>\n",
       "      <td>1951.0</td>\n",
       "      <td>1629476.0</td>\n",
       "      <td>0.028893</td>\n",
       "      <td>2</td>\n",
       "    </tr>\n",
       "    <tr>\n",
       "      <th>71848</th>\n",
       "      <td>3.0</td>\n",
       "      <td>3.0</td>\n",
       "      <td>2200.0</td>\n",
       "      <td>6037.0</td>\n",
       "      <td>33825211.0</td>\n",
       "      <td>-118388099.0</td>\n",
       "      <td>7503.0</td>\n",
       "      <td>33612.0</td>\n",
       "      <td>96123.0</td>\n",
       "      <td>2006.0</td>\n",
       "      <td>1414710.0</td>\n",
       "      <td>0.028733</td>\n",
       "      <td>2</td>\n",
       "    </tr>\n",
       "  </tbody>\n",
       "</table>\n",
       "<p>1314 rows × 13 columns</p>\n",
       "</div>"
      ],
      "text/plain": [
       "       bathroomcnt  bedroomcnt  calculatedfinishedsquarefeet    fips  \\\n",
       "96             2.5         3.0                        3011.0  6059.0   \n",
       "132            3.0         4.0                        3107.0  6037.0   \n",
       "168            2.5         3.0                        2134.0  6059.0   \n",
       "268            2.0         3.0                        1956.0  6037.0   \n",
       "277            3.0         4.0                        2409.0  6037.0   \n",
       "...            ...         ...                           ...     ...   \n",
       "71745          3.0         3.0                        1687.0  6037.0   \n",
       "71752          2.0         3.0                        2240.0  6037.0   \n",
       "71779          3.0         4.0                        3148.0  6037.0   \n",
       "71807          2.0         3.0                        1467.0  6037.0   \n",
       "71848          3.0         3.0                        2200.0  6037.0   \n",
       "\n",
       "         latitude    longitude  lotsizesquarefeet  regionidcity  regionidzip  \\\n",
       "96     33628725.0 -117873172.0             6944.0       53571.0      96978.0   \n",
       "132    34154597.0 -118514596.0            17166.0       12447.0      96349.0   \n",
       "168    33624386.0 -117919255.0             6375.0       53571.0      96981.0   \n",
       "268    34040419.0 -118480389.0             8008.0       26964.0      96150.0   \n",
       "277    34038659.0 -118498682.0             7521.0       26964.0      96149.0   \n",
       "...           ...          ...                ...           ...          ...   \n",
       "71745  34053344.0 -118474937.0             6999.0       12447.0      96030.0   \n",
       "71752  34030263.0 -118838416.0             9533.0       12520.0      96116.0   \n",
       "71779  33891606.0 -118389223.0             7001.0       19177.0      96117.0   \n",
       "71807  33899557.0 -118399615.0             4643.0       19177.0      96117.0   \n",
       "71848  33825211.0 -118388099.0             7503.0       33612.0      96123.0   \n",
       "\n",
       "       yearbuilt  taxvaluedollarcnt  logerror  cluster  \n",
       "96        1973.0          1441252.0 -0.201121        2  \n",
       "132       1957.0          1279125.0 -0.013062        2  \n",
       "168       1995.0          1794000.0  0.048630        2  \n",
       "268       1927.0          2715793.0 -0.088941        2  \n",
       "277       1927.0          2100270.0 -0.206738        2  \n",
       "...          ...                ...       ...      ...  \n",
       "71745     1947.0          2000000.0  0.075964        2  \n",
       "71752     1977.0          1582000.0  0.073576        2  \n",
       "71779     1993.0          2082201.0  0.035489        2  \n",
       "71807     1951.0          1629476.0  0.028893        2  \n",
       "71848     2006.0          1414710.0  0.028733        2  \n",
       "\n",
       "[1314 rows x 13 columns]"
      ]
     },
     "execution_count": 11,
     "metadata": {},
     "output_type": "execute_result"
    }
   ],
   "source": [
    "#clsuter 3 data\n",
    "cluster3"
   ]
  },
  {
   "cell_type": "markdown",
   "id": "98bc863b",
   "metadata": {},
   "source": [
    "[PLAN](#PLAN)\n",
    "# Split Data for cluster 1"
   ]
  },
  {
   "cell_type": "code",
   "execution_count": 12,
   "id": "4a099843",
   "metadata": {},
   "outputs": [
    {
     "name": "stdout",
     "output_type": "stream",
     "text": [
      "Train: 9228 rows, 13 cols\n",
      "Validate: 2308 rows, 13 cols\n",
      "Test: 2036 rows, 13 cols\n",
      "<class 'pandas.core.frame.DataFrame'>\n",
      "Int64Index: 9228 entries, 65293 to 46853\n",
      "Data columns (total 13 columns):\n",
      " #   Column                        Non-Null Count  Dtype  \n",
      "---  ------                        --------------  -----  \n",
      " 0   bathroomcnt                   9228 non-null   float64\n",
      " 1   bedroomcnt                    9228 non-null   float64\n",
      " 2   calculatedfinishedsquarefeet  9228 non-null   float64\n",
      " 3   fips                          9228 non-null   float64\n",
      " 4   latitude                      9228 non-null   float64\n",
      " 5   longitude                     9228 non-null   float64\n",
      " 6   lotsizesquarefeet             9228 non-null   float64\n",
      " 7   regionidcity                  9228 non-null   float64\n",
      " 8   regionidzip                   9228 non-null   float64\n",
      " 9   yearbuilt                     9228 non-null   float64\n",
      " 10  taxvaluedollarcnt             9228 non-null   float64\n",
      " 11  logerror                      9228 non-null   float64\n",
      " 12  cluster                       9228 non-null   int32  \n",
      "dtypes: float64(12), int32(1)\n",
      "memory usage: 973.3 KB\n"
     ]
    }
   ],
   "source": [
    "train, validate, test = explore.split_clusters(cluster1)"
   ]
  },
  {
   "cell_type": "markdown",
   "id": "4d4716a7",
   "metadata": {},
   "source": [
    "[PLAN](#PLAN)\n",
    "# Explore1\n",
    "## Cluster number 1"
   ]
  },
  {
   "cell_type": "markdown",
   "id": "3580e268",
   "metadata": {},
   "source": [
    "###  ? Does logerror differ across bathroomcnt, bedroomcnt, calculatedfinishedsquarefeet, yearbuilt, & taxvaluedollarcnt ?"
   ]
  },
  {
   "cell_type": "code",
   "execution_count": 13,
   "id": "20cb5c68",
   "metadata": {},
   "outputs": [
    {
     "data": {
      "image/png": "[encoded data removed]",
      "text/plain": [
       "<Figure size 288x144 with 1 Axes>"
      ]
     },
     "metadata": {
      "needs_background": "light"
     },
     "output_type": "display_data"
    },
    {
     "data": {
      "image/png": "[encoded data removed]",
      "text/plain": [
       "<Figure size 288x144 with 1 Axes>"
      ]
     },
     "metadata": {
      "needs_background": "light"
     },
     "output_type": "display_data"
    },
    {
     "data": {
      "image/png": "[encoded data removed]",
      "text/plain": [
       "<Figure size 288x144 with 1 Axes>"
      ]
     },
     "metadata": {
      "needs_background": "light"
     },
     "output_type": "display_data"
    },
    {
     "data": {
      "image/png": "[encoded data removed]",
      "text/plain": [
       "<Figure size 288x144 with 1 Axes>"
      ]
     },
     "metadata": {
      "needs_background": "light"
     },
     "output_type": "display_data"
    },
    {
     "data": {
      "image/png": "[encoded data removed]",
      "text/plain": [
       "<Figure size 288x144 with 1 Axes>"
      ]
     },
     "metadata": {
      "needs_background": "light"
     },
     "output_type": "display_data"
    },
    {
     "data": {
      "image/png": "[encoded data removed]",
      "text/plain": [
       "<Figure size 288x144 with 1 Axes>"
      ]
     },
     "metadata": {
      "needs_background": "light"
     },
     "output_type": "display_data"
    },
    {
     "data": {
      "image/png": "[encoded data removed]",
      "text/plain": [
       "<Figure size 288x144 with 1 Axes>"
      ]
     },
     "metadata": {
      "needs_background": "light"
     },
     "output_type": "display_data"
    },
    {
     "data": {
      "image/png": "[encoded data removed]",
      "text/plain": [
       "<Figure size 288x144 with 1 Axes>"
      ]
     },
     "metadata": {
      "needs_background": "light"
     },
     "output_type": "display_data"
    },
    {
     "data": {
      "image/png": "[encoded data removed]",
      "text/plain": [
       "<Figure size 288x144 with 1 Axes>"
      ]
     },
     "metadata": {
      "needs_background": "light"
     },
     "output_type": "display_data"
    },
    {
     "data": {
      "image/png": "[encoded data removed]",
      "text/plain": [
       "<Figure size 288x144 with 1 Axes>"
      ]
     },
     "metadata": {
      "needs_background": "light"
     },
     "output_type": "display_data"
    },
    {
     "data": {
      "image/png": "[encoded data removed]",
      "text/plain": [
       "<Figure size 288x144 with 1 Axes>"
      ]
     },
     "metadata": {
      "needs_background": "light"
     },
     "output_type": "display_data"
    },
    {
     "data": {
      "image/png": "[encoded data removed]",
      "text/plain": [
       "<Figure size 288x144 with 1 Axes>"
      ]
     },
     "metadata": {
      "needs_background": "light"
     },
     "output_type": "display_data"
    },
    {
     "data": {
      "image/png": "[encoded data removed]",
      "text/plain": [
       "<Figure size 288x144 with 1 Axes>"
      ]
     },
     "metadata": {
      "needs_background": "light"
     },
     "output_type": "display_data"
    }
   ],
   "source": [
    "explore.explore_files(train)"
   ]
  },
  {
   "cell_type": "markdown",
   "id": "b674822e",
   "metadata": {},
   "source": [
    "### Takeaways:\n",
    "- logerror, yearbuilt, calculatedsquarefeet, bedroom and bathroom tend to have a skew to the right.\n",
    "- using this info we will run a simple correlation test."
   ]
  },
  {
   "cell_type": "markdown",
   "id": "7a0cccda",
   "metadata": {},
   "source": [
    "# Hypothesis:\n",
    "### Is there a correlation between bathroomcnt & logerror ?\n",
    "- Null Hypothesis  = there is no correlation between the bathroomcnt of a home and logerror.\n",
    "\n",
    "- Alternative Hypothesis  = there is a correlation between the bathroomcnt of a home and logerror.\n",
    "\n",
    "### Is there a correlation between calculatedfinishedsquarefeet & logerror ?\n",
    "- Null Hypothesis  = there is no correlation between the calculatedfinishedsquarefeet of a home and logerror.\n",
    "\n",
    "- Alternative Hypothesis  = there is a correlation between the calculatedfinishedsquarefeet of a home and logerror.\n",
    "\n",
    "### Is there a correlation between bedroomcnt & logerror ?\n",
    "- Null Hypothesis  = there is no correlation between the bedroomcnt  of a home and logerror.\n",
    "\n",
    "- Alternative Hypothesis  = there is a correlation between the bedroomcnt  of a home and logerror.\n",
    "\n",
    "### Is there a correlation between yearbuilt & logerror ?\n",
    "- Null Hypothesis  = there is no correlation between the yearbuilt  of a home and logerror.\n",
    "\n",
    "- Alternative Hypothesis  = there is a correlation between the yearbuilt  of a home and logerror.\n",
    "\n",
    "### Is there a correlation between fips & logerror ?\n",
    "- Null Hypothesis  = there is no correlation between the fips  of a home and logerror\n",
    "\n",
    "- Alternative Hypothesis  = there is a correlation between the fips  of a home and logerror \n",
    "\n",
    "### Is there a correlation between taxvaluedollarcnt & logerror ?\n",
    "- Null Hypothesis  = there is no correlation between the taxvaluedollarcnt  of a home and logerror.\n",
    "\n",
    "- Alternative Hypothesis  = there is a correlation between the taxvaluedollarcnt  of a home and logerror."
   ]
  },
  {
   "cell_type": "code",
   "execution_count": 14,
   "id": "d9d17976",
   "metadata": {
    "scrolled": false
   },
   "outputs": [
    {
     "data": {
      "text/plain": [
       "<AxesSubplot:xlabel='bathroomcnt', ylabel='logerror'>"
      ]
     },
     "execution_count": 14,
     "metadata": {},
     "output_type": "execute_result"
    },
    {
     "data": {
      "image/png": "[encoded data removed]",
      "text/plain": [
       "<Figure size 432x288 with 1 Axes>"
      ]
     },
     "metadata": {
      "needs_background": "light"
     },
     "output_type": "display_data"
    }
   ],
   "source": [
    "sns.lineplot(data=train, x = 'bathroomcnt' ,y= 'logerror')"
   ]
  },
  {
   "cell_type": "code",
   "execution_count": 15,
   "id": "2f9ca2ec",
   "metadata": {},
   "outputs": [
    {
     "data": {
      "text/plain": [
       "<AxesSubplot:xlabel='bedroomcnt', ylabel='logerror'>"
      ]
     },
     "execution_count": 15,
     "metadata": {},
     "output_type": "execute_result"
    },
    {
     "data": {
      "image/png": "[encoded data removed]",
      "text/plain": [
       "<Figure size 432x288 with 1 Axes>"
      ]
     },
     "metadata": {
      "needs_background": "light"
     },
     "output_type": "display_data"
    }
   ],
   "source": [
    "sns.lineplot(data=train, x = 'bedroomcnt' ,y= 'logerror')"
   ]
  },
  {
   "cell_type": "code",
   "execution_count": 16,
   "id": "6ea162b7",
   "metadata": {},
   "outputs": [
    {
     "data": {
      "text/plain": [
       "<AxesSubplot:xlabel='calculatedfinishedsquarefeet', ylabel='logerror'>"
      ]
     },
     "execution_count": 16,
     "metadata": {},
     "output_type": "execute_result"
    },
    {
     "data": {
      "image/png": "[encoded data removed]",
      "text/plain": [
       "<Figure size 432x288 with 1 Axes>"
      ]
     },
     "metadata": {
      "needs_background": "light"
     },
     "output_type": "display_data"
    }
   ],
   "source": [
    "sns.lineplot(data=train, x = 'calculatedfinishedsquarefeet' ,y= 'logerror')"
   ]
  },
  {
   "cell_type": "code",
   "execution_count": 17,
   "id": "8142b9d6",
   "metadata": {},
   "outputs": [
    {
     "data": {
      "text/plain": [
       "<AxesSubplot:xlabel='yearbuilt', ylabel='logerror'>"
      ]
     },
     "execution_count": 17,
     "metadata": {},
     "output_type": "execute_result"
    },
    {
     "data": {
      "image/png": "[encoded data removed]",
      "text/plain": [
       "<Figure size 432x288 with 1 Axes>"
      ]
     },
     "metadata": {
      "needs_background": "light"
     },
     "output_type": "display_data"
    }
   ],
   "source": [
    "sns.lineplot(data=train, x = 'yearbuilt' ,y= 'logerror')"
   ]
  },
  {
   "cell_type": "code",
   "execution_count": 18,
   "id": "13c48015",
   "metadata": {},
   "outputs": [
    {
     "data": {
      "text/plain": [
       "<AxesSubplot:xlabel='taxvaluedollarcnt', ylabel='logerror'>"
      ]
     },
     "execution_count": 18,
     "metadata": {},
     "output_type": "execute_result"
    },
    {
     "data": {
      "image/png": "[encoded data removed]",
      "text/plain": [
       "<Figure size 432x288 with 1 Axes>"
      ]
     },
     "metadata": {
      "needs_background": "light"
     },
     "output_type": "display_data"
    }
   ],
   "source": [
    "sns.lineplot(data=train, x = 'taxvaluedollarcnt' ,y= 'logerror')"
   ]
  },
  {
   "cell_type": "code",
   "execution_count": 19,
   "id": "0b56e613",
   "metadata": {},
   "outputs": [
    {
     "data": {
      "text/plain": [
       "<AxesSubplot:xlabel='fips', ylabel='logerror'>"
      ]
     },
     "execution_count": 19,
     "metadata": {},
     "output_type": "execute_result"
    },
    {
     "data": {
      "image/png": "[encoded data removed]",
      "text/plain": [
       "<Figure size 432x288 with 1 Axes>"
      ]
     },
     "metadata": {
      "needs_background": "light"
     },
     "output_type": "display_data"
    }
   ],
   "source": [
    "sns.lineplot(data=train, x = 'fips' ,y= 'logerror')"
   ]
  },
  {
   "cell_type": "markdown",
   "id": "494f53d0",
   "metadata": {},
   "source": [
    "## Results after running a  correlation test.\n",
    "## Exploration Summary for Cluster 1\n",
    "- After running a corralation test we can reject the null hypothesis and prove that there is a correlation between bathroomcnt and logerror.\n",
    "- After running a corralation test we can reject the null hypothesis and prove that there is a correlation between calculatedfinishedsquarefeet and logerror.\n",
    "- After running a corralation test we can reject the null hypothesis and prove that there is a correlation between bedroomcnt and logerror.\n",
    "- After running a corralation test we can reject the null hypothesis and prove that there is a correlation between yearbuilt and logerror.\n",
    "- Based on the correlation test above fips and log error have no correlation.\n",
    "- After running a corralation test we can reject the null hypothesis and prove that there is a correlation between taxvaluedollarcnt and logerror.\n",
    "\n",
    "back to [PLAN](#PLAN)"
   ]
  },
  {
   "cell_type": "markdown",
   "id": "248e0815",
   "metadata": {},
   "source": [
    "# Modeling1"
   ]
  },
  {
   "cell_type": "code",
   "execution_count": 20,
   "id": "85ecb89f",
   "metadata": {},
   "outputs": [],
   "source": [
    "#features well be working with\n",
    "features = ['bathroomcnt',\n",
    "                 'bedroomcnt',\n",
    "                 'calculatedfinishedsquarefeet',\n",
    "                 'yearbuilt',\n",
    "                 'taxvaluedollarcnt',\n",
    "                 'latitude', \n",
    "                 'longitude',\n",
    "                 'lotsizesquarefeet',\n",
    "                 'regionidcity',\n",
    "                 'regionidzip',\n",
    "                 'fips']\n",
    "#columns we will be scaling\n",
    "scale_columns = ['yearbuilt',  \n",
    "                   'taxvaluedollarcnt', \n",
    "                   'bathroomcnt', \n",
    "                   'calculatedfinishedsquarefeet','logerror']\n",
    "\n",
    "X_train = train[['yearbuilt',  \n",
    "                   'taxvaluedollarcnt', \n",
    "                   'bathroomcnt', \n",
    "                   'calculatedfinishedsquarefeet']]\n",
    "y_train = train['logerror']\n",
    "\n",
    "\n",
    "X_validate = validate[['yearbuilt',  \n",
    "                   'taxvaluedollarcnt', \n",
    "                   'bathroomcnt', \n",
    "                   'calculatedfinishedsquarefeet']]\n",
    "y_validate = validate['logerror']\n",
    "\n",
    "\n",
    "X_test = test[['yearbuilt',\n",
    "                   'taxvaluedollarcnt', \n",
    "                   'bathroomcnt', \n",
    "                   'calculatedfinishedsquarefeet']]\n",
    "y_test = test['logerror']\n",
    "\n",
    "def scale_data(train, \n",
    "               validate, \n",
    "               test, \n",
    "               columns_to_scale=['yearbuilt',  \n",
    "                   'taxvaluedollarcnt', \n",
    "                   'bathroomcnt', \n",
    "                   'calculatedfinishedsquarefeet'],\n",
    "               return_scaler=False):\n",
    "    '''\n",
    "    Scales the 3 data splits. \n",
    "    Takes in train, validate, and test data splits and returns their scaled counterparts.\n",
    "    If return_scalar is True, the scaler object will be returned as well\n",
    "    '''\n",
    "    train_scaled = train.copy()\n",
    "    validate_scaled = validate.copy()\n",
    "    test_scaled = test.copy()\n",
    "    \n",
    "    scaler = MinMaxScaler()\n",
    "    scaler.fit(train[columns_to_scale])\n",
    "    \n",
    "    train_scaled[columns_to_scale] = pd.DataFrame(scaler.transform(train[columns_to_scale]),\n",
    "                                                  columns=train[columns_to_scale].columns.values).set_index([train.index.values])\n",
    "                                                  \n",
    "    validate_scaled[columns_to_scale] = pd.DataFrame(scaler.transform(validate[columns_to_scale]),\n",
    "                                                  columns=validate[columns_to_scale].columns.values).set_index([validate.index.values])\n",
    "    \n",
    "    test_scaled[columns_to_scale] = pd.DataFrame(scaler.transform(test[columns_to_scale]),\n",
    "                                                 columns=test[columns_to_scale].columns.values).set_index([test.index.values])\n",
    "    \n",
    "    if return_scaler:\n",
    "        return scaler, train_scaled, validate_scaled, test_scaled\n",
    "    else:\n",
    "        return train_scaled, validate_scaled, test_scaled"
   ]
  },
  {
   "cell_type": "code",
   "execution_count": 21,
   "id": "06337570",
   "metadata": {},
   "outputs": [],
   "source": [
    "\n",
    "scaler, X_train_scaled, X_validate_scaled, X_test_scaled = scale_data(X_train, X_validate, X_test, return_scaler=True)"
   ]
  },
  {
   "cell_type": "code",
   "execution_count": 22,
   "id": "51414792",
   "metadata": {},
   "outputs": [
    {
     "name": "stdout",
     "output_type": "stream",
     "text": [
      "RMSE using Mean\n",
      "Train/In-Sample:  0.15 \n",
      "Validate/Out-of-Sample:  0.13\n",
      "RMSE using Median\n",
      "Train/In-Sample:  0.15 \n",
      "Validate/Out-of-Sample:  0.13\n"
     ]
    }
   ],
   "source": [
    "# We need y_train and y_validate to be dataframes to append the new columns with predicted values.\n",
    "y_train = pd.DataFrame(y_train)\n",
    "y_validate = pd.DataFrame(y_validate)\n",
    "# 1. Predict logerror_pred_mean\n",
    "logerror_pred_mean = y_train.logerror.mean()\n",
    "# creating a logerror_pred_mean column for my y_train\n",
    "y_train['logerror_pred_mean'] = y_train.logerror.mean()\n",
    "# creating a logerror_pred_mean column for my y_validate\n",
    "y_validate['logerror_pred_mean'] = y_validate.logerror.mean()\n",
    "# 2. compute logerror_pred_median\n",
    "# creating a predictive median for y train \n",
    "y_train['logerror_pred_median'] = y_train.logerror.median()\n",
    "# creating a predictive median for y_validate\n",
    "y_validate['logerror_pred_median'] = y_validate.logerror.median()\n",
    "# 3. RMSE of logerror_pred_mean\n",
    "rmse_train = mean_squared_error(y_train.logerror, y_train.logerror_pred_mean)**(1/2)\n",
    "rmse_validate = mean_squared_error(y_validate.logerror, y_validate.logerror_pred_mean)**(1/2)\n",
    "print(\"RMSE using Mean\\nTrain/In-Sample: \", round(rmse_train, 2),\n",
    "      \"\\nValidate/Out-of-Sample: \", round(rmse_validate, 2))\n",
    "# 4. RMSE of logerror_pred_median\n",
    "rmse_train = mean_squared_error(y_train.logerror, y_train.logerror_pred_median)**(1/2)\n",
    "rmse_validate = mean_squared_error(y_validate.logerror, y_validate.logerror_pred_median)**(1/2)\n",
    "print(\"RMSE using Median\\nTrain/In-Sample: \", round(rmse_train, 2),\n",
    "      \"\\nValidate/Out-of-Sample: \", round(rmse_validate, 2))\n",
    "#predicting y from trained data\n",
    "#predict rules\n",
    "model = LinearRegression().fit(X_train_scaled, y_train)\n",
    "predictions = model.predict(X_train_scaled)\n",
    "#making a y_test dataframe\n",
    "y_test = pd.DataFrame(y_test)"
   ]
  },
  {
   "cell_type": "code",
   "execution_count": 23,
   "id": "dec7d09d",
   "metadata": {},
   "outputs": [
    {
     "data": {
      "text/html": [
       "<div>\n",
       "<style scoped>\n",
       "    .dataframe tbody tr th:only-of-type {\n",
       "        vertical-align: middle;\n",
       "    }\n",
       "\n",
       "    .dataframe tbody tr th {\n",
       "        vertical-align: top;\n",
       "    }\n",
       "\n",
       "    .dataframe thead th {\n",
       "        text-align: right;\n",
       "    }\n",
       "</style>\n",
       "<table border=\"1\" class=\"dataframe\">\n",
       "  <thead>\n",
       "    <tr style=\"text-align: right;\">\n",
       "      <th></th>\n",
       "      <th>logerror</th>\n",
       "    </tr>\n",
       "  </thead>\n",
       "  <tbody>\n",
       "    <tr>\n",
       "      <th>59811</th>\n",
       "      <td>-0.017078</td>\n",
       "    </tr>\n",
       "    <tr>\n",
       "      <th>5761</th>\n",
       "      <td>0.060818</td>\n",
       "    </tr>\n",
       "    <tr>\n",
       "      <th>14864</th>\n",
       "      <td>0.027245</td>\n",
       "    </tr>\n",
       "    <tr>\n",
       "      <th>18728</th>\n",
       "      <td>-0.051381</td>\n",
       "    </tr>\n",
       "    <tr>\n",
       "      <th>29589</th>\n",
       "      <td>0.041423</td>\n",
       "    </tr>\n",
       "    <tr>\n",
       "      <th>...</th>\n",
       "      <td>...</td>\n",
       "    </tr>\n",
       "    <tr>\n",
       "      <th>774</th>\n",
       "      <td>0.052311</td>\n",
       "    </tr>\n",
       "    <tr>\n",
       "      <th>19654</th>\n",
       "      <td>-0.038067</td>\n",
       "    </tr>\n",
       "    <tr>\n",
       "      <th>18546</th>\n",
       "      <td>0.019033</td>\n",
       "    </tr>\n",
       "    <tr>\n",
       "      <th>57107</th>\n",
       "      <td>-0.050826</td>\n",
       "    </tr>\n",
       "    <tr>\n",
       "      <th>51548</th>\n",
       "      <td>0.078870</td>\n",
       "    </tr>\n",
       "  </tbody>\n",
       "</table>\n",
       "<p>2036 rows × 1 columns</p>\n",
       "</div>"
      ],
      "text/plain": [
       "       logerror\n",
       "59811 -0.017078\n",
       "5761   0.060818\n",
       "14864  0.027245\n",
       "18728 -0.051381\n",
       "29589  0.041423\n",
       "...         ...\n",
       "774    0.052311\n",
       "19654 -0.038067\n",
       "18546  0.019033\n",
       "57107 -0.050826\n",
       "51548  0.078870\n",
       "\n",
       "[2036 rows x 1 columns]"
      ]
     },
     "execution_count": 23,
     "metadata": {},
     "output_type": "execute_result"
    }
   ],
   "source": [
    "y_test"
   ]
  },
  {
   "cell_type": "markdown",
   "id": "8c2666f4",
   "metadata": {},
   "source": [
    "### LinearRegression (ols)"
   ]
  },
  {
   "cell_type": "code",
   "execution_count": 24,
   "id": "e3d998ad",
   "metadata": {},
   "outputs": [
    {
     "name": "stdout",
     "output_type": "stream",
     "text": [
      "RMSE for OLS using LinearRegression\n",
      "Training/In-Sample:  0.1474895187871955 \n",
      "Validation/Out-of-Sample:  0.1326963694485712\n"
     ]
    }
   ],
   "source": [
    "# create the model object\n",
    "lm = LinearRegression(normalize=True)\n",
    "\n",
    "# fit the model to our training data. We must specify the column in y_train, \n",
    "# since we have converted it to a dataframe from a series! \n",
    "lm.fit(X_train_scaled, y_train.logerror)\n",
    "\n",
    "# predict train\n",
    "y_train['logerror_pred_lm'] = lm.predict(X_train_scaled)\n",
    "\n",
    "# evaluate: rmse\n",
    "rmse_train = mean_squared_error(y_train.logerror, y_train.logerror_pred_lm)**(1/2)\n",
    "\n",
    "# predict validate\n",
    "y_validate['logerror_pred_lm'] = lm.predict(X_validate_scaled)\n",
    "\n",
    "# evaluate: rmse\n",
    "rmse_validate_lm = mean_squared_error(y_validate.logerror, y_validate.logerror_pred_lm)**(1/2)\n",
    "\n",
    "print(\"RMSE for OLS using LinearRegression\\nTraining/In-Sample: \", rmse_train, \n",
    "      \"\\nValidation/Out-of-Sample: \", rmse_validate_lm)"
   ]
  },
  {
   "cell_type": "code",
   "execution_count": 25,
   "id": "bfc6cc09",
   "metadata": {},
   "outputs": [],
   "source": [
    "#residuals\n",
    "y_train['lm_residuals'] = y_train['logerror_pred_lm'] - y_train['logerror']\n",
    "y_validate['lm_residuals'] = y_validate['logerror_pred_lm'] - y_validate['logerror']\n"
   ]
  },
  {
   "cell_type": "code",
   "execution_count": 26,
   "id": "f2994f56",
   "metadata": {},
   "outputs": [
    {
     "name": "stdout",
     "output_type": "stream",
     "text": [
      "number to beat logerror    0.011603\n",
      "dtype: float64\n"
     ]
    }
   ],
   "source": [
    "from sklearn.linear_model import LinearRegression\n",
    "y = pd.DataFrame(y_train.logerror)\n",
    "X = pd.DataFrame(X_train_scaled)\n",
    "# assuming X and y are already defined\n",
    "model = LinearRegression().fit(X, y)\n",
    "train['yhat'] = model.predict(X)\n",
    "df = pd.DataFrame(train[['calculatedfinishedsquarefeet','bathroomcnt','bedroomcnt','taxvaluedollarcnt','logerror','yhat']])\n",
    "df.head()\n",
    "#creating a baseline from the mean of the target variable\n",
    "baseline = y.mean()\n",
    "df['baseline'] = df.logerror.mean()\n",
    "# turning baseline to int from float\n",
    "df.baseline = df.baseline.astype(int)\n",
    "# residual = actual - predicted\n",
    "df['residual'] = df.logerror - df.yhat\n",
    "df['baseline_residual'] = df.logerror - df.baseline\n",
    "print(\"number to beat\", baseline)"
   ]
  },
  {
   "cell_type": "code",
   "execution_count": 27,
   "id": "dbd88d82",
   "metadata": {},
   "outputs": [
    {
     "name": "stdout",
     "output_type": "stream",
     "text": [
      "Explained Variance =  0.004\n"
     ]
    },
    {
     "data": {
      "text/plain": [
       "0.004214352510911734"
      ]
     },
     "execution_count": 27,
     "metadata": {},
     "output_type": "execute_result"
    }
   ],
   "source": [
    "# sklearn.metrics.explained_variance_score\n",
    "\n",
    "evs = explained_variance_score(df.logerror, df.yhat)\n",
    "print('Explained Variance = ', round(evs,3))\n",
    "# calculate R2 the easy way:\n",
    "from sklearn.metrics import r2_score\n",
    "r2_score(df.logerror, df.yhat) "
   ]
  },
  {
   "cell_type": "code",
   "execution_count": 28,
   "id": "3fef33a5",
   "metadata": {},
   "outputs": [],
   "source": [
    "X2 = sm.add_constant(df.calculatedfinishedsquarefeet)\n",
    "est = sm.OLS(df.logerror, X2)\n",
    "est2 = est.fit()"
   ]
  },
  {
   "cell_type": "code",
   "execution_count": 29,
   "id": "8c18e047",
   "metadata": {},
   "outputs": [
    {
     "data": {
      "text/html": [
       "<div>\n",
       "<style scoped>\n",
       "    .dataframe tbody tr th:only-of-type {\n",
       "        vertical-align: middle;\n",
       "    }\n",
       "\n",
       "    .dataframe tbody tr th {\n",
       "        vertical-align: top;\n",
       "    }\n",
       "\n",
       "    .dataframe thead th {\n",
       "        text-align: right;\n",
       "    }\n",
       "</style>\n",
       "<table border=\"1\" class=\"dataframe\">\n",
       "  <thead>\n",
       "    <tr style=\"text-align: right;\">\n",
       "      <th></th>\n",
       "      <th>model</th>\n",
       "      <th>RMSE_validate</th>\n",
       "      <th>r^2_validate</th>\n",
       "    </tr>\n",
       "  </thead>\n",
       "  <tbody>\n",
       "    <tr>\n",
       "      <th>0</th>\n",
       "      <td>mean_baseline</td>\n",
       "      <td>0.133195</td>\n",
       "      <td>0.000000</td>\n",
       "    </tr>\n",
       "    <tr>\n",
       "      <th>1</th>\n",
       "      <td>OLS Regressor</td>\n",
       "      <td>0.132696</td>\n",
       "      <td>0.005952</td>\n",
       "    </tr>\n",
       "  </tbody>\n",
       "</table>\n",
       "</div>"
      ],
      "text/plain": [
       "           model  RMSE_validate  r^2_validate\n",
       "0  mean_baseline       0.133195      0.000000\n",
       "1  OLS Regressor       0.132696      0.005952"
      ]
     },
     "execution_count": 29,
     "metadata": {},
     "output_type": "execute_result"
    }
   ],
   "source": [
    "metric_df = pd.DataFrame(data=[{\n",
    "    'model': 'mean_baseline', \n",
    "    'RMSE_validate': rmse_validate,\n",
    "        'r^2_validate': explained_variance_score(y_validate.logerror, y_validate.logerror_pred_mean)}])\n",
    "metric_df = metric_df.append({\n",
    "    'model': 'OLS Regressor', \n",
    "    'RMSE_validate': rmse_validate_lm,\n",
    "    'r^2_validate': explained_variance_score(y_validate.logerror, y_validate.logerror_pred_lm)}, ignore_index=True)\n",
    "metric_df "
   ]
  },
  {
   "cell_type": "markdown",
   "id": "bbbcdec6",
   "metadata": {},
   "source": [
    "# Conclusion for Cluster 1:\n",
    "### The OLS model avove outperformed (lassolars and polynomial regression)\n",
    "- please reference project notebook for all model information)\n",
    "\n",
    "Back to [PLAN](#PLAN)"
   ]
  },
  {
   "cell_type": "markdown",
   "id": "c44d9122",
   "metadata": {},
   "source": [
    "***\n",
    "# Split Data for cluster 2"
   ]
  },
  {
   "cell_type": "code",
   "execution_count": 30,
   "id": "f6fd1bde",
   "metadata": {},
   "outputs": [
    {
     "name": "stdout",
     "output_type": "stream",
     "text": [
      "Train: 19860 rows, 13 cols\n",
      "Validate: 4965 rows, 13 cols\n",
      "Test: 4381 rows, 13 cols\n",
      "<class 'pandas.core.frame.DataFrame'>\n",
      "Int64Index: 19860 entries, 63024 to 7440\n",
      "Data columns (total 13 columns):\n",
      " #   Column                        Non-Null Count  Dtype  \n",
      "---  ------                        --------------  -----  \n",
      " 0   bathroomcnt                   19860 non-null  float64\n",
      " 1   bedroomcnt                    19860 non-null  float64\n",
      " 2   calculatedfinishedsquarefeet  19860 non-null  float64\n",
      " 3   fips                          19860 non-null  float64\n",
      " 4   latitude                      19860 non-null  float64\n",
      " 5   longitude                     19860 non-null  float64\n",
      " 6   lotsizesquarefeet             19860 non-null  float64\n",
      " 7   regionidcity                  19860 non-null  float64\n",
      " 8   regionidzip                   19860 non-null  float64\n",
      " 9   yearbuilt                     19860 non-null  float64\n",
      " 10  taxvaluedollarcnt             19860 non-null  float64\n",
      " 11  logerror                      19860 non-null  float64\n",
      " 12  cluster                       19860 non-null  int32  \n",
      "dtypes: float64(12), int32(1)\n",
      "memory usage: 2.0 MB\n"
     ]
    }
   ],
   "source": [
    "train, validate, test = explore.split_clusters(cluster2)"
   ]
  },
  {
   "cell_type": "markdown",
   "id": "7ef4b309",
   "metadata": {},
   "source": [
    "[PLAN](#PLAN)\n",
    "# Explore2\n",
    "## Cluster number 2"
   ]
  },
  {
   "cell_type": "markdown",
   "id": "0ef8ba45",
   "metadata": {},
   "source": [
    "# Hypothesis:\n",
    "### Is there a correlation between bathroomcnt & logerror ?\n",
    "- Null Hypothesis  = there is no correlation between the bathroomcnt of a home and logerror.\n",
    "\n",
    "- Alternative Hypothesis  = there is a correlation between the bathroomcnt of a home and logerror.\n",
    "\n",
    "### Is there a correlation between calculatedfinishedsquarefeet & logerror ?\n",
    "- Null Hypothesis  = there is no correlation between the calculatedfinishedsquarefeet of a home and logerror.\n",
    "\n",
    "- Alternative Hypothesis  = there is a correlation between the calculatedfinishedsquarefeet of a home and logerror.\n",
    "\n",
    "### Is there a correlation between bedroomcnt & logerror ?\n",
    "- Null Hypothesis  = there is no correlation between the bedroomcnt  of a home and logerror.\n",
    "\n",
    "- Alternative Hypothesis  = there is a correlation between the bedroomcnt  of a home and logerror.\n",
    "\n",
    "### Is there a correlation between yearbuilt & logerror ?\n",
    "- Null Hypothesis  = there is no correlation between the yearbuilt  of a home and logerror.\n",
    "\n",
    "- Alternative Hypothesis  = there is a correlation between the yearbuilt  of a home and logerror.\n",
    "\n",
    "### Is there a correlation between fips & logerror ?\n",
    "- Null Hypothesis  = there is no correlation between the fips  of a home and logerror\n",
    "\n",
    "- Alternative Hypothesis  = there is a correlation between the fips  of a home and logerror \n",
    "\n",
    "### Is there a correlation between taxvaluedollarcnt & logerror ?\n",
    "- Null Hypothesis  = there is no correlation between the taxvaluedollarcnt  of a home and logerror.\n",
    "\n",
    "- Alternative Hypothesis  = there is a correlation between the taxvaluedollarcnt  of a home and logerror."
   ]
  },
  {
   "cell_type": "code",
   "execution_count": 31,
   "id": "3eb28610",
   "metadata": {},
   "outputs": [
    {
     "data": {
      "text/plain": [
       "<AxesSubplot:xlabel='bathroomcnt', ylabel='logerror'>"
      ]
     },
     "execution_count": 31,
     "metadata": {},
     "output_type": "execute_result"
    },
    {
     "data": {
      "image/png": "[encoded data removed]",
      "text/plain": [
       "<Figure size 432x288 with 1 Axes>"
      ]
     },
     "metadata": {
      "needs_background": "light"
     },
     "output_type": "display_data"
    }
   ],
   "source": [
    "sns.lineplot(data=train, x = 'bathroomcnt' ,y= 'logerror')"
   ]
  },
  {
   "cell_type": "code",
   "execution_count": 32,
   "id": "2a699735",
   "metadata": {},
   "outputs": [
    {
     "data": {
      "text/plain": [
       "<AxesSubplot:xlabel='bedroomcnt', ylabel='logerror'>"
      ]
     },
     "execution_count": 32,
     "metadata": {},
     "output_type": "execute_result"
    },
    {
     "data": {
      "image/png": "[encoded data removed]",
      "text/plain": [
       "<Figure size 432x288 with 1 Axes>"
      ]
     },
     "metadata": {
      "needs_background": "light"
     },
     "output_type": "display_data"
    }
   ],
   "source": [
    "sns.lineplot(data=train, x = 'bedroomcnt' ,y= 'logerror')"
   ]
  },
  {
   "cell_type": "code",
   "execution_count": 33,
   "id": "683de895",
   "metadata": {},
   "outputs": [
    {
     "data": {
      "text/plain": [
       "<AxesSubplot:xlabel='calculatedfinishedsquarefeet', ylabel='logerror'>"
      ]
     },
     "execution_count": 33,
     "metadata": {},
     "output_type": "execute_result"
    },
    {
     "data": {
      "image/png": "[encoded data removed]",
      "text/plain": [
       "<Figure size 432x288 with 1 Axes>"
      ]
     },
     "metadata": {
      "needs_background": "light"
     },
     "output_type": "display_data"
    }
   ],
   "source": [
    "sns.lineplot(data=train, x = 'calculatedfinishedsquarefeet' ,y= 'logerror')"
   ]
  },
  {
   "cell_type": "code",
   "execution_count": 34,
   "id": "11c11f58",
   "metadata": {},
   "outputs": [
    {
     "data": {
      "text/plain": [
       "<AxesSubplot:xlabel='yearbuilt', ylabel='logerror'>"
      ]
     },
     "execution_count": 34,
     "metadata": {},
     "output_type": "execute_result"
    },
    {
     "data": {
      "image/png": "[encoded data removed]",
      "text/plain": [
       "<Figure size 432x288 with 1 Axes>"
      ]
     },
     "metadata": {
      "needs_background": "light"
     },
     "output_type": "display_data"
    }
   ],
   "source": [
    "sns.lineplot(data=train, x = 'yearbuilt' ,y= 'logerror')"
   ]
  },
  {
   "cell_type": "code",
   "execution_count": 35,
   "id": "ab834b99",
   "metadata": {},
   "outputs": [
    {
     "data": {
      "text/plain": [
       "<AxesSubplot:xlabel='taxvaluedollarcnt', ylabel='logerror'>"
      ]
     },
     "execution_count": 35,
     "metadata": {},
     "output_type": "execute_result"
    },
    {
     "data": {
      "image/png": "[encoded data removed]",
      "text/plain": [
       "<Figure size 432x288 with 1 Axes>"
      ]
     },
     "metadata": {
      "needs_background": "light"
     },
     "output_type": "display_data"
    }
   ],
   "source": [
    "sns.lineplot(data=train, x = 'taxvaluedollarcnt' ,y= 'logerror')"
   ]
  },
  {
   "cell_type": "markdown",
   "id": "25f1f923",
   "metadata": {},
   "source": [
    "### takeaways from graphs:\n",
    "- Based on the line graph above we can see that the range of log error increases when the bathroomcnt is more then 2 bathroomcnt.\n",
    "- From the line graph above we can see that the range of log error increases when the calculatedfinishedsquarefeet is less than 700 and greater then 2800 roughly.\n",
    "- Based on the line graph above we can see that the range of log error increases when the bedroomcnt is less than 2 and greater 5.\n",
    "- Based on the line graph above we can see that the range of log error increases when the yearbuilt is before 1940s."
   ]
  },
  {
   "cell_type": "markdown",
   "id": "b5fb227e",
   "metadata": {},
   "source": [
    "## Exploration Summary for Cluster 2\n",
    "- After running a corralation test we can reject the null hypothesis and prove that there is a correlation between bathroomcnt and logerror.\n",
    "- After running a corralation test we can reject the null hypothesis and prove that there is a correlation between calculatedfinishedsquarefeet and logerror.\n",
    "- After running a corralation test we can reject the null hypothesis and prove that there is correlation between bedroomcnt and logerror.\n",
    "- After running a corralation test We reject the null hypothesis because there is significant correlation with year built and logerror present.\n",
    "- Based on the correlation test above fips and log error have no correlation.\n",
    "- After running a corralation test We fail to reject the null hypothesis because there is no significant correlation between taxvaluedollarcnt anf logerror present. "
   ]
  },
  {
   "cell_type": "markdown",
   "id": "33e2cb47",
   "metadata": {},
   "source": [
    "# Modeling2."
   ]
  },
  {
   "cell_type": "code",
   "execution_count": 36,
   "id": "7de06645",
   "metadata": {},
   "outputs": [],
   "source": [
    "#features well be working with\n",
    "features = ['bathroomcnt',\n",
    "                 'bedroomcnt',\n",
    "                 'calculatedfinishedsquarefeet',\n",
    "                 'yearbuilt',\n",
    "                 'taxvaluedollarcnt',\n",
    "                 'latitude', \n",
    "                 'longitude',\n",
    "                 'lotsizesquarefeet',\n",
    "                 'regionidcity',\n",
    "                 'regionidzip',\n",
    "                 'fips']\n",
    "#columns we will be scaling\n",
    "scale_columns = ['yearbuilt',  \n",
    "                   'taxvaluedollarcnt', \n",
    "                   'bathroomcnt', \n",
    "                   'calculatedfinishedsquarefeet','logerror']\n",
    "\n",
    "X_train = train[['yearbuilt',  \n",
    "                   'taxvaluedollarcnt', \n",
    "                   'bathroomcnt', \n",
    "                   'calculatedfinishedsquarefeet']]\n",
    "y_train = train['logerror']\n",
    "\n",
    "\n",
    "X_validate = validate[['yearbuilt',  \n",
    "                   'taxvaluedollarcnt', \n",
    "                   'bathroomcnt', \n",
    "                   'calculatedfinishedsquarefeet']]\n",
    "y_validate = validate['logerror']\n",
    "\n",
    "\n",
    "X_test = test[['yearbuilt',\n",
    "                   'taxvaluedollarcnt', \n",
    "                   'bathroomcnt', \n",
    "                   'calculatedfinishedsquarefeet']]\n",
    "y_test = test['logerror']\n",
    "\n",
    "def scale_data(train, \n",
    "               validate, \n",
    "               test, \n",
    "               columns_to_scale=['yearbuilt',  \n",
    "                   'taxvaluedollarcnt', \n",
    "                   'bathroomcnt', \n",
    "                   'calculatedfinishedsquarefeet'],\n",
    "               return_scaler=False):\n",
    "    '''\n",
    "    Scales the 3 data splits. \n",
    "    Takes in train, validate, and test data splits and returns their scaled counterparts.\n",
    "    If return_scalar is True, the scaler object will be returned as well\n",
    "    '''\n",
    "    train_scaled = train.copy()\n",
    "    validate_scaled = validate.copy()\n",
    "    test_scaled = test.copy()\n",
    "    \n",
    "    scaler = MinMaxScaler()\n",
    "    scaler.fit(train[columns_to_scale])\n",
    "    \n",
    "    train_scaled[columns_to_scale] = pd.DataFrame(scaler.transform(train[columns_to_scale]),\n",
    "                                                  columns=train[columns_to_scale].columns.values).set_index([train.index.values])\n",
    "                                                  \n",
    "    validate_scaled[columns_to_scale] = pd.DataFrame(scaler.transform(validate[columns_to_scale]),\n",
    "                                                  columns=validate[columns_to_scale].columns.values).set_index([validate.index.values])\n",
    "    \n",
    "    test_scaled[columns_to_scale] = pd.DataFrame(scaler.transform(test[columns_to_scale]),\n",
    "                                                 columns=test[columns_to_scale].columns.values).set_index([test.index.values])\n",
    "    \n",
    "    if return_scaler:\n",
    "        return scaler, train_scaled, validate_scaled, test_scaled\n",
    "    else:\n",
    "        return train_scaled, validate_scaled, test_scaled"
   ]
  },
  {
   "cell_type": "code",
   "execution_count": 37,
   "id": "a7c7ab0d",
   "metadata": {},
   "outputs": [],
   "source": [
    "scaler, X_train_scaled, X_validate_scaled, X_test_scaled = scale_data(X_train, X_validate, X_test, return_scaler=True)"
   ]
  },
  {
   "cell_type": "code",
   "execution_count": 38,
   "id": "d74dde7f",
   "metadata": {},
   "outputs": [
    {
     "name": "stdout",
     "output_type": "stream",
     "text": [
      "RMSE using Mean\n",
      "Train/In-Sample:  0.16 \n",
      "Validate/Out-of-Sample:  0.18\n",
      "RMSE using Median\n",
      "Train/In-Sample:  0.16 \n",
      "Validate/Out-of-Sample:  0.18\n"
     ]
    }
   ],
   "source": [
    "# We need y_train and y_validate to be dataframes to append the new columns with predicted values.\n",
    "y_train = pd.DataFrame(y_train)\n",
    "y_validate = pd.DataFrame(y_validate)\n",
    "# 1. Predict logerror_pred_mean\n",
    "logerror_pred_mean = y_train.logerror.mean()\n",
    "# creating a logerror_pred_mean column for my y_train\n",
    "y_train['logerror_pred_mean'] = y_train.logerror.mean()\n",
    "# creating a logerror_pred_mean column for my y_validate\n",
    "y_validate['logerror_pred_mean'] = y_validate.logerror.mean()\n",
    "# 2. compute logerror_pred_median\n",
    "# creating a predictive median for y train \n",
    "y_train['logerror_pred_median'] = y_train.logerror.median()\n",
    "# creating a predictive median for y_validate\n",
    "y_validate['logerror_pred_median'] = y_validate.logerror.median()\n",
    "# 3. RMSE of logerror_pred_mean\n",
    "rmse_train = mean_squared_error(y_train.logerror, y_train.logerror_pred_mean)**(1/2)\n",
    "rmse_validate = mean_squared_error(y_validate.logerror, y_validate.logerror_pred_mean)**(1/2)\n",
    "print(\"RMSE using Mean\\nTrain/In-Sample: \", round(rmse_train, 2),\n",
    "      \"\\nValidate/Out-of-Sample: \", round(rmse_validate, 2))\n",
    "# 4. RMSE of logerror_pred_median\n",
    "rmse_train = mean_squared_error(y_train.logerror, y_train.logerror_pred_median)**(1/2)\n",
    "rmse_validate = mean_squared_error(y_validate.logerror, y_validate.logerror_pred_median)**(1/2)\n",
    "print(\"RMSE using Median\\nTrain/In-Sample: \", round(rmse_train, 2),\n",
    "      \"\\nValidate/Out-of-Sample: \", round(rmse_validate, 2))\n",
    "#predicting y from trained data\n",
    "#predict rules\n",
    "model = LinearRegression().fit(X_train_scaled, y_train)\n",
    "predictions = model.predict(X_train_scaled)\n",
    "#making a y_test dataframe\n",
    "y_test = pd.DataFrame(y_test)"
   ]
  },
  {
   "cell_type": "code",
   "execution_count": 39,
   "id": "b45dde2e",
   "metadata": {},
   "outputs": [
    {
     "data": {
      "text/html": [
       "<div>\n",
       "<style scoped>\n",
       "    .dataframe tbody tr th:only-of-type {\n",
       "        vertical-align: middle;\n",
       "    }\n",
       "\n",
       "    .dataframe tbody tr th {\n",
       "        vertical-align: top;\n",
       "    }\n",
       "\n",
       "    .dataframe thead th {\n",
       "        text-align: right;\n",
       "    }\n",
       "</style>\n",
       "<table border=\"1\" class=\"dataframe\">\n",
       "  <thead>\n",
       "    <tr style=\"text-align: right;\">\n",
       "      <th></th>\n",
       "      <th>logerror</th>\n",
       "    </tr>\n",
       "  </thead>\n",
       "  <tbody>\n",
       "    <tr>\n",
       "      <th>70098</th>\n",
       "      <td>-0.141301</td>\n",
       "    </tr>\n",
       "    <tr>\n",
       "      <th>71171</th>\n",
       "      <td>0.017233</td>\n",
       "    </tr>\n",
       "    <tr>\n",
       "      <th>48015</th>\n",
       "      <td>-0.152170</td>\n",
       "    </tr>\n",
       "    <tr>\n",
       "      <th>9783</th>\n",
       "      <td>-0.055282</td>\n",
       "    </tr>\n",
       "    <tr>\n",
       "      <th>68191</th>\n",
       "      <td>0.095752</td>\n",
       "    </tr>\n",
       "    <tr>\n",
       "      <th>...</th>\n",
       "      <td>...</td>\n",
       "    </tr>\n",
       "    <tr>\n",
       "      <th>8039</th>\n",
       "      <td>-0.156557</td>\n",
       "    </tr>\n",
       "    <tr>\n",
       "      <th>19224</th>\n",
       "      <td>0.002202</td>\n",
       "    </tr>\n",
       "    <tr>\n",
       "      <th>6855</th>\n",
       "      <td>-0.030367</td>\n",
       "    </tr>\n",
       "    <tr>\n",
       "      <th>46905</th>\n",
       "      <td>-0.073418</td>\n",
       "    </tr>\n",
       "    <tr>\n",
       "      <th>1127</th>\n",
       "      <td>-0.038751</td>\n",
       "    </tr>\n",
       "  </tbody>\n",
       "</table>\n",
       "<p>4381 rows × 1 columns</p>\n",
       "</div>"
      ],
      "text/plain": [
       "       logerror\n",
       "70098 -0.141301\n",
       "71171  0.017233\n",
       "48015 -0.152170\n",
       "9783  -0.055282\n",
       "68191  0.095752\n",
       "...         ...\n",
       "8039  -0.156557\n",
       "19224  0.002202\n",
       "6855  -0.030367\n",
       "46905 -0.073418\n",
       "1127  -0.038751\n",
       "\n",
       "[4381 rows x 1 columns]"
      ]
     },
     "execution_count": 39,
     "metadata": {},
     "output_type": "execute_result"
    }
   ],
   "source": [
    "y_test"
   ]
  },
  {
   "cell_type": "markdown",
   "id": "984a0812",
   "metadata": {},
   "source": [
    "### LinearRegression (ols)"
   ]
  },
  {
   "cell_type": "code",
   "execution_count": 40,
   "id": "adfd5b57",
   "metadata": {},
   "outputs": [
    {
     "name": "stdout",
     "output_type": "stream",
     "text": [
      "RMSE for OLS using LinearRegression\n",
      "Training/In-Sample:  0.16392811093350318 \n",
      "Validation/Out-of-Sample:  0.1798403895747264\n"
     ]
    }
   ],
   "source": [
    "# create the model object\n",
    "lm = LinearRegression(normalize=True)\n",
    "\n",
    "# fit the model to our training data. We must specify the column in y_train, \n",
    "# since we have converted it to a dataframe from a series! \n",
    "lm.fit(X_train_scaled, y_train.logerror)\n",
    "\n",
    "# predict train\n",
    "y_train['logerror_pred_lm'] = lm.predict(X_train_scaled)\n",
    "\n",
    "# evaluate: rmse\n",
    "rmse_train = mean_squared_error(y_train.logerror, y_train.logerror_pred_lm)**(1/2)\n",
    "\n",
    "# predict validate\n",
    "y_validate['logerror_pred_lm'] = lm.predict(X_validate_scaled)\n",
    "\n",
    "# evaluate: rmse\n",
    "rmse_validate_lm = mean_squared_error(y_validate.logerror, y_validate.logerror_pred_lm)**(1/2)\n",
    "\n",
    "print(\"RMSE for OLS using LinearRegression\\nTraining/In-Sample: \", rmse_train, \n",
    "      \"\\nValidation/Out-of-Sample: \", rmse_validate_lm)"
   ]
  },
  {
   "cell_type": "code",
   "execution_count": 41,
   "id": "8f0b4279",
   "metadata": {},
   "outputs": [],
   "source": [
    "#residuals\n",
    "y_train['lm_residuals'] = y_train['logerror_pred_lm'] - y_train['logerror']\n",
    "y_validate['lm_residuals'] = y_validate['logerror_pred_lm'] - y_validate['logerror']"
   ]
  },
  {
   "cell_type": "code",
   "execution_count": 42,
   "id": "f846293d",
   "metadata": {},
   "outputs": [],
   "source": [
    "#residuals\n",
    "y_train['lm_residuals'] = y_train['logerror_pred_lm'] - y_train['logerror']\n",
    "y_validate['lm_residuals'] = y_validate['logerror_pred_lm'] - y_validate['logerror']\n"
   ]
  },
  {
   "cell_type": "code",
   "execution_count": 43,
   "id": "05b8a3f4",
   "metadata": {},
   "outputs": [
    {
     "name": "stdout",
     "output_type": "stream",
     "text": [
      "number to beat logerror    0.017637\n",
      "dtype: float64\n"
     ]
    }
   ],
   "source": [
    "from sklearn.linear_model import LinearRegression\n",
    "y = pd.DataFrame(y_train.logerror)\n",
    "X = pd.DataFrame(X_train_scaled)\n",
    "# assuming X and y are already defined\n",
    "model = LinearRegression().fit(X, y)\n",
    "train['yhat'] = model.predict(X)\n",
    "df = pd.DataFrame(train[['calculatedfinishedsquarefeet','bathroomcnt','bedroomcnt','taxvaluedollarcnt','logerror','yhat']])\n",
    "df.head()\n",
    "#creating a baseline from the mean of the target variable\n",
    "baseline = y.mean()\n",
    "df['baseline'] = df.logerror.mean()\n",
    "# turning baseline to int from float\n",
    "df.baseline = df.baseline.astype(int)\n",
    "# residual = actual - predicted\n",
    "df['residual'] = df.logerror - df.yhat\n",
    "df['baseline_residual'] = df.logerror - df.baseline\n",
    "print(\"number to beat\", baseline)"
   ]
  },
  {
   "cell_type": "code",
   "execution_count": 44,
   "id": "7a9567e6",
   "metadata": {},
   "outputs": [
    {
     "name": "stdout",
     "output_type": "stream",
     "text": [
      "Explained Variance =  0.002\n"
     ]
    },
    {
     "data": {
      "text/plain": [
       "0.0019010508922705505"
      ]
     },
     "execution_count": 44,
     "metadata": {},
     "output_type": "execute_result"
    }
   ],
   "source": [
    "# sklearn.metrics.explained_variance_score\n",
    "\n",
    "evs = explained_variance_score(df.logerror, df.yhat)\n",
    "print('Explained Variance = ', round(evs,3))\n",
    "# calculate R2 the easy way:\n",
    "from sklearn.metrics import r2_score\n",
    "r2_score(df.logerror, df.yhat) "
   ]
  },
  {
   "cell_type": "code",
   "execution_count": 45,
   "id": "489f5f2a",
   "metadata": {},
   "outputs": [],
   "source": [
    "X2 = sm.add_constant(df.calculatedfinishedsquarefeet)\n",
    "est = sm.OLS(df.logerror, X2)\n",
    "est2 = est.fit()"
   ]
  },
  {
   "cell_type": "code",
   "execution_count": 46,
   "id": "bcde859e",
   "metadata": {},
   "outputs": [
    {
     "data": {
      "text/html": [
       "<div>\n",
       "<style scoped>\n",
       "    .dataframe tbody tr th:only-of-type {\n",
       "        vertical-align: middle;\n",
       "    }\n",
       "\n",
       "    .dataframe tbody tr th {\n",
       "        vertical-align: top;\n",
       "    }\n",
       "\n",
       "    .dataframe thead th {\n",
       "        text-align: right;\n",
       "    }\n",
       "</style>\n",
       "<table border=\"1\" class=\"dataframe\">\n",
       "  <thead>\n",
       "    <tr style=\"text-align: right;\">\n",
       "      <th></th>\n",
       "      <th>model</th>\n",
       "      <th>RMSE_validate</th>\n",
       "      <th>r^2_validate</th>\n",
       "    </tr>\n",
       "  </thead>\n",
       "  <tbody>\n",
       "    <tr>\n",
       "      <th>0</th>\n",
       "      <td>mean_baseline</td>\n",
       "      <td>0.180502</td>\n",
       "      <td>0.000000</td>\n",
       "    </tr>\n",
       "    <tr>\n",
       "      <th>1</th>\n",
       "      <td>OLS Regressor</td>\n",
       "      <td>0.179840</td>\n",
       "      <td>0.002175</td>\n",
       "    </tr>\n",
       "  </tbody>\n",
       "</table>\n",
       "</div>"
      ],
      "text/plain": [
       "           model  RMSE_validate  r^2_validate\n",
       "0  mean_baseline       0.180502      0.000000\n",
       "1  OLS Regressor       0.179840      0.002175"
      ]
     },
     "execution_count": 46,
     "metadata": {},
     "output_type": "execute_result"
    }
   ],
   "source": [
    "metric_df = pd.DataFrame(data=[{\n",
    "    'model': 'mean_baseline', \n",
    "    'RMSE_validate': rmse_validate,\n",
    "        'r^2_validate': explained_variance_score(y_validate.logerror, y_validate.logerror_pred_mean)}])\n",
    "metric_df = metric_df.append({\n",
    "    'model': 'OLS Regressor', \n",
    "    'RMSE_validate': rmse_validate_lm,\n",
    "    'r^2_validate': explained_variance_score(y_validate.logerror, y_validate.logerror_pred_lm)}, ignore_index=True)\n",
    "metric_df "
   ]
  },
  {
   "cell_type": "markdown",
   "id": "5174bf10",
   "metadata": {},
   "source": [
    "# Conclusion for Cluster 2:\n",
    "### The OLS model avove outperformed (lassolars and polynomial regression)\n",
    "- please reference project notebook for all model information)\n"
   ]
  },
  {
   "cell_type": "markdown",
   "id": "670c7976",
   "metadata": {},
   "source": [
    "***\n",
    "[PLAN](#PLAN)\n",
    "# Explore3\n",
    "## Cluster number 3"
   ]
  },
  {
   "cell_type": "markdown",
   "id": "cb7d46d3",
   "metadata": {},
   "source": [
    "# Hypothesis:\n",
    "### Is there a correlation between bathroomcnt & logerror ?\n",
    "- Null Hypothesis  = there is no correlation between the bathroomcnt of a home and logerror.\n",
    "\n",
    "- Alternative Hypothesis  = there is a correlation between the bathroomcnt of a home and logerror.\n",
    "\n",
    "### Is there a correlation between calculatedfinishedsquarefeet & logerror ?\n",
    "- Null Hypothesis  = there is no correlation between the calculatedfinishedsquarefeet of a home and logerror.\n",
    "\n",
    "- Alternative Hypothesis  = there is a correlation between the calculatedfinishedsquarefeet of a home and logerror.\n",
    "\n",
    "### Is there a correlation between bedroomcnt & logerror ?\n",
    "- Null Hypothesis  = there is no correlation between the bedroomcnt  of a home and logerror.\n",
    "\n",
    "- Alternative Hypothesis  = there is a correlation between the bedroomcnt  of a home and logerror.\n",
    "\n",
    "### Is there a correlation between yearbuilt & logerror ?\n",
    "- Null Hypothesis  = there is no correlation between the yearbuilt  of a home and logerror.\n",
    "\n",
    "- Alternative Hypothesis  = there is a correlation between the yearbuilt  of a home and logerror.\n",
    "\n",
    "### Is there a correlation between fips & logerror ?\n",
    "- Null Hypothesis  = there is no correlation between the fips  of a home and logerror\n",
    "\n",
    "- Alternative Hypothesis  = there is a correlation between the fips  of a home and logerror \n",
    "\n",
    "### Is there a correlation between taxvaluedollarcnt & logerror ?\n",
    "- Null Hypothesis  = there is no correlation between the taxvaluedollarcnt  of a home and logerror.\n",
    "\n",
    "- Alternative Hypothesis  = there is a correlation between the taxvaluedollarcnt  of a home and logerror."
   ]
  },
  {
   "cell_type": "code",
   "execution_count": 47,
   "id": "8871b325",
   "metadata": {},
   "outputs": [
    {
     "data": {
      "text/plain": [
       "<AxesSubplot:xlabel='bathroomcnt', ylabel='logerror'>"
      ]
     },
     "execution_count": 47,
     "metadata": {},
     "output_type": "execute_result"
    },
    {
     "data": {
      "image/png": "[encoded data removed]",
      "text/plain": [
       "<Figure size 432x288 with 1 Axes>"
      ]
     },
     "metadata": {
      "needs_background": "light"
     },
     "output_type": "display_data"
    }
   ],
   "source": [
    "# lineplot to Visualize correlation\n",
    "sns.lineplot(data=train, x = 'bathroomcnt' ,y=\"logerror\")"
   ]
  },
  {
   "cell_type": "code",
   "execution_count": 48,
   "id": "912ad65e",
   "metadata": {},
   "outputs": [
    {
     "data": {
      "text/plain": [
       "<AxesSubplot:xlabel='calculatedfinishedsquarefeet', ylabel='logerror'>"
      ]
     },
     "execution_count": 48,
     "metadata": {},
     "output_type": "execute_result"
    },
    {
     "data": {
      "image/png": "[encoded data removed]",
      "text/plain": [
       "<Figure size 432x288 with 1 Axes>"
      ]
     },
     "metadata": {
      "needs_background": "light"
     },
     "output_type": "display_data"
    }
   ],
   "source": [
    "# lineplot to Visualize correlation\n",
    "sns.lineplot(data=train, x = 'calculatedfinishedsquarefeet' ,y=\"logerror\")"
   ]
  },
  {
   "cell_type": "code",
   "execution_count": 49,
   "id": "04d972d0",
   "metadata": {},
   "outputs": [
    {
     "data": {
      "text/plain": [
       "<AxesSubplot:xlabel='bedroomcnt', ylabel='logerror'>"
      ]
     },
     "execution_count": 49,
     "metadata": {},
     "output_type": "execute_result"
    },
    {
     "data": {
      "image/png": "[encoded data removed]",
      "text/plain": [
       "<Figure size 432x288 with 1 Axes>"
      ]
     },
     "metadata": {
      "needs_background": "light"
     },
     "output_type": "display_data"
    }
   ],
   "source": [
    "# lineplot to Visualize correlation\n",
    "sns.lineplot(data=train, x = 'bedroomcnt' ,y=\"logerror\")"
   ]
  },
  {
   "cell_type": "code",
   "execution_count": 50,
   "id": "5f196654",
   "metadata": {},
   "outputs": [
    {
     "data": {
      "text/plain": [
       "<AxesSubplot:xlabel='yearbuilt', ylabel='logerror'>"
      ]
     },
     "execution_count": 50,
     "metadata": {},
     "output_type": "execute_result"
    },
    {
     "data": {
      "image/png": "[encoded data removed]",
      "text/plain": [
       "<Figure size 432x288 with 1 Axes>"
      ]
     },
     "metadata": {
      "needs_background": "light"
     },
     "output_type": "display_data"
    }
   ],
   "source": [
    "# lineplot to Visualize correlation\n",
    "sns.lineplot(data=train, x = 'yearbuilt' ,y=\"logerror\")"
   ]
  },
  {
   "cell_type": "code",
   "execution_count": 51,
   "id": "3b52bc7b",
   "metadata": {},
   "outputs": [
    {
     "data": {
      "text/plain": [
       "<AxesSubplot:xlabel='fips', ylabel='logerror'>"
      ]
     },
     "execution_count": 51,
     "metadata": {},
     "output_type": "execute_result"
    },
    {
     "data": {
      "image/png": "[encoded data removed]",
      "text/plain": [
       "<Figure size 432x288 with 1 Axes>"
      ]
     },
     "metadata": {
      "needs_background": "light"
     },
     "output_type": "display_data"
    }
   ],
   "source": [
    "# lineplot to Visualize correlation\n",
    "sns.lineplot(data=train, x = 'fips' ,y=\"logerror\")"
   ]
  },
  {
   "cell_type": "code",
   "execution_count": 52,
   "id": "aa226a79",
   "metadata": {},
   "outputs": [
    {
     "data": {
      "text/plain": [
       "<AxesSubplot:xlabel='taxvaluedollarcnt', ylabel='logerror'>"
      ]
     },
     "execution_count": 52,
     "metadata": {},
     "output_type": "execute_result"
    },
    {
     "data": {
      "image/png": "[encoded data removed]",
      "text/plain": [
       "<Figure size 432x288 with 1 Axes>"
      ]
     },
     "metadata": {
      "needs_background": "light"
     },
     "output_type": "display_data"
    }
   ],
   "source": [
    "# lineplot to Visualize correlation\n",
    "sns.lineplot(data=train, x = 'taxvaluedollarcnt' ,y=\"logerror\")"
   ]
  },
  {
   "cell_type": "markdown",
   "id": "14d7e468",
   "metadata": {},
   "source": [
    "### Takeaways:\n",
    "- Based on the line graph above we can see that the range of log error increases when the bathroomcnt is more then 3 bathroomcnt.\n",
    "- From the line graph above we can see that the range of log error increases when the calculatedfinishedsquarefeet is less than 1000 and greater then 2800 roughly.\n",
    "- Based on the line graph above we can see that the range of log error increases when the bedroomcnt is less than 2 and greater 5.\n",
    "- Based on the line graph above we can see that the range of log error increases when the yearbuilt is before 1940s.\n",
    "- After running a corralation test we we fail to reject the null hypothesis because there is no significant correlation present between taxvaluedollarcnt and logerror. \n",
    "***\n",
    "***\n",
    "## Exploration Summary for Cluster 3\n",
    "- After running a corralation test we can reject the null hypothesis and prove that there is a correlation between bathroomcnt and logerror\n",
    "- After running a corralation test we can reject the null hypothesis and prove that there is a correlation between calculatedfinishedsquarefeet and logerror. \n",
    "- After running a corralation test we reject the null hypothesis and prove that there is correlation between bedroomcnt and logerror.\n",
    "- After running a corralation test We reject the null hypothesis because there is a significant correlation between yearbuilt and logerror present.\n",
    "- - After running a corralation test we we fail to reject the null hypothesis because there is no significant correlation present between taxvaluedollarcnt and logerror."
   ]
  },
  {
   "cell_type": "markdown",
   "id": "82c2b2da",
   "metadata": {},
   "source": [
    "[PLAN](#PLAN)\n",
    "***"
   ]
  },
  {
   "cell_type": "markdown",
   "id": "6e942bd5",
   "metadata": {},
   "source": [
    "# Modeling3\n"
   ]
  },
  {
   "cell_type": "code",
   "execution_count": 53,
   "id": "8f448c94",
   "metadata": {},
   "outputs": [],
   "source": [
    "#features well be working with\n",
    "features = ['bathroomcnt',\n",
    "                 'bedroomcnt',\n",
    "                 'calculatedfinishedsquarefeet',\n",
    "                 'yearbuilt',\n",
    "                 'taxvaluedollarcnt',\n",
    "                 'latitude', \n",
    "                 'longitude',\n",
    "                 'lotsizesquarefeet',\n",
    "                 'regionidcity',\n",
    "                 'regionidzip',\n",
    "                 'fips']\n",
    "#columns we will be scaling\n",
    "scale_columns = ['yearbuilt',  \n",
    "                   'taxvaluedollarcnt', \n",
    "                   'bathroomcnt', \n",
    "                   'calculatedfinishedsquarefeet','logerror']\n",
    "\n",
    "X_train = train[['yearbuilt',  \n",
    "                   'taxvaluedollarcnt', \n",
    "                   'bathroomcnt', \n",
    "                   'calculatedfinishedsquarefeet']]\n",
    "y_train = train['logerror']\n",
    "\n",
    "\n",
    "X_validate = validate[['yearbuilt',  \n",
    "                   'taxvaluedollarcnt', \n",
    "                   'bathroomcnt', \n",
    "                   'calculatedfinishedsquarefeet']]\n",
    "y_validate = validate['logerror']\n",
    "\n",
    "\n",
    "X_test = test[['yearbuilt',\n",
    "                   'taxvaluedollarcnt', \n",
    "                   'bathroomcnt', \n",
    "                   'calculatedfinishedsquarefeet']]\n",
    "y_test = test['logerror']\n",
    "\n",
    "def scale_data(train, \n",
    "               validate, \n",
    "               test, \n",
    "               columns_to_scale=['yearbuilt',  \n",
    "                   'taxvaluedollarcnt', \n",
    "                   'bathroomcnt', \n",
    "                   'calculatedfinishedsquarefeet'],\n",
    "               return_scaler=False):\n",
    "    '''\n",
    "    Scales the 3 data splits. \n",
    "    Takes in train, validate, and test data splits and returns their scaled counterparts.\n",
    "    If return_scalar is True, the scaler object will be returned as well\n",
    "    '''\n",
    "    train_scaled = train.copy()\n",
    "    validate_scaled = validate.copy()\n",
    "    test_scaled = test.copy()\n",
    "    \n",
    "    scaler = MinMaxScaler()\n",
    "    scaler.fit(train[columns_to_scale])\n",
    "    \n",
    "    train_scaled[columns_to_scale] = pd.DataFrame(scaler.transform(train[columns_to_scale]),\n",
    "                                                  columns=train[columns_to_scale].columns.values).set_index([train.index.values])\n",
    "                                                  \n",
    "    validate_scaled[columns_to_scale] = pd.DataFrame(scaler.transform(validate[columns_to_scale]),\n",
    "                                                  columns=validate[columns_to_scale].columns.values).set_index([validate.index.values])\n",
    "    \n",
    "    test_scaled[columns_to_scale] = pd.DataFrame(scaler.transform(test[columns_to_scale]),\n",
    "                                                 columns=test[columns_to_scale].columns.values).set_index([test.index.values])\n",
    "    \n",
    "    if return_scaler:\n",
    "        return scaler, train_scaled, validate_scaled, test_scaled\n",
    "    else:\n",
    "        return train_scaled, validate_scaled, test_scaled"
   ]
  },
  {
   "cell_type": "code",
   "execution_count": 54,
   "id": "66f9e870",
   "metadata": {},
   "outputs": [
    {
     "name": "stdout",
     "output_type": "stream",
     "text": [
      "RMSE using Mean\n",
      "Train/In-Sample:  0.16 \n",
      "Validate/Out-of-Sample:  0.18\n",
      "RMSE using Median\n",
      "Train/In-Sample:  0.16 \n",
      "Validate/Out-of-Sample:  0.18\n"
     ]
    }
   ],
   "source": [
    "# We need y_train and y_validate to be dataframes to append the new columns with predicted values.\n",
    "y_train = pd.DataFrame(y_train)\n",
    "y_validate = pd.DataFrame(y_validate)\n",
    "# 1. Predict logerror_pred_mean\n",
    "logerror_pred_mean = y_train.logerror.mean()\n",
    "# creating a logerror_pred_mean column for my y_train\n",
    "y_train['logerror_pred_mean'] = y_train.logerror.mean()\n",
    "# creating a logerror_pred_mean column for my y_validate\n",
    "y_validate['logerror_pred_mean'] = y_validate.logerror.mean()\n",
    "# 2. compute logerror_pred_median\n",
    "# creating a predictive median for y train \n",
    "y_train['logerror_pred_median'] = y_train.logerror.median()\n",
    "# creating a predictive median for y_validate\n",
    "y_validate['logerror_pred_median'] = y_validate.logerror.median()\n",
    "# 3. RMSE of logerror_pred_mean\n",
    "rmse_train = mean_squared_error(y_train.logerror, y_train.logerror_pred_mean)**(1/2)\n",
    "rmse_validate = mean_squared_error(y_validate.logerror, y_validate.logerror_pred_mean)**(1/2)\n",
    "print(\"RMSE using Mean\\nTrain/In-Sample: \", round(rmse_train, 2),\n",
    "      \"\\nValidate/Out-of-Sample: \", round(rmse_validate, 2))\n",
    "# 4. RMSE of logerror_pred_median\n",
    "rmse_train = mean_squared_error(y_train.logerror, y_train.logerror_pred_median)**(1/2)\n",
    "rmse_validate = mean_squared_error(y_validate.logerror, y_validate.logerror_pred_median)**(1/2)\n",
    "print(\"RMSE using Median\\nTrain/In-Sample: \", round(rmse_train, 2),\n",
    "      \"\\nValidate/Out-of-Sample: \", round(rmse_validate, 2))\n",
    "#predicting y from trained data\n",
    "#predict rules\n",
    "model = LinearRegression().fit(X_train_scaled, y_train)\n",
    "predictions = model.predict(X_train_scaled)\n",
    "#making a y_test dataframe\n",
    "y_test = pd.DataFrame(y_test)"
   ]
  },
  {
   "cell_type": "code",
   "execution_count": 55,
   "id": "634e2934",
   "metadata": {},
   "outputs": [
    {
     "data": {
      "text/html": [
       "<div>\n",
       "<style scoped>\n",
       "    .dataframe tbody tr th:only-of-type {\n",
       "        vertical-align: middle;\n",
       "    }\n",
       "\n",
       "    .dataframe tbody tr th {\n",
       "        vertical-align: top;\n",
       "    }\n",
       "\n",
       "    .dataframe thead th {\n",
       "        text-align: right;\n",
       "    }\n",
       "</style>\n",
       "<table border=\"1\" class=\"dataframe\">\n",
       "  <thead>\n",
       "    <tr style=\"text-align: right;\">\n",
       "      <th></th>\n",
       "      <th>logerror</th>\n",
       "    </tr>\n",
       "  </thead>\n",
       "  <tbody>\n",
       "    <tr>\n",
       "      <th>70098</th>\n",
       "      <td>-0.141301</td>\n",
       "    </tr>\n",
       "    <tr>\n",
       "      <th>71171</th>\n",
       "      <td>0.017233</td>\n",
       "    </tr>\n",
       "    <tr>\n",
       "      <th>48015</th>\n",
       "      <td>-0.152170</td>\n",
       "    </tr>\n",
       "    <tr>\n",
       "      <th>9783</th>\n",
       "      <td>-0.055282</td>\n",
       "    </tr>\n",
       "    <tr>\n",
       "      <th>68191</th>\n",
       "      <td>0.095752</td>\n",
       "    </tr>\n",
       "    <tr>\n",
       "      <th>...</th>\n",
       "      <td>...</td>\n",
       "    </tr>\n",
       "    <tr>\n",
       "      <th>8039</th>\n",
       "      <td>-0.156557</td>\n",
       "    </tr>\n",
       "    <tr>\n",
       "      <th>19224</th>\n",
       "      <td>0.002202</td>\n",
       "    </tr>\n",
       "    <tr>\n",
       "      <th>6855</th>\n",
       "      <td>-0.030367</td>\n",
       "    </tr>\n",
       "    <tr>\n",
       "      <th>46905</th>\n",
       "      <td>-0.073418</td>\n",
       "    </tr>\n",
       "    <tr>\n",
       "      <th>1127</th>\n",
       "      <td>-0.038751</td>\n",
       "    </tr>\n",
       "  </tbody>\n",
       "</table>\n",
       "<p>4381 rows × 1 columns</p>\n",
       "</div>"
      ],
      "text/plain": [
       "       logerror\n",
       "70098 -0.141301\n",
       "71171  0.017233\n",
       "48015 -0.152170\n",
       "9783  -0.055282\n",
       "68191  0.095752\n",
       "...         ...\n",
       "8039  -0.156557\n",
       "19224  0.002202\n",
       "6855  -0.030367\n",
       "46905 -0.073418\n",
       "1127  -0.038751\n",
       "\n",
       "[4381 rows x 1 columns]"
      ]
     },
     "execution_count": 55,
     "metadata": {},
     "output_type": "execute_result"
    }
   ],
   "source": [
    "y_test"
   ]
  },
  {
   "cell_type": "markdown",
   "id": "8fe0445e",
   "metadata": {},
   "source": [
    "### LinearRegression (ols)"
   ]
  },
  {
   "cell_type": "code",
   "execution_count": 56,
   "id": "50185b0b",
   "metadata": {},
   "outputs": [
    {
     "name": "stdout",
     "output_type": "stream",
     "text": [
      "RMSE for OLS using LinearRegression\n",
      "Training/In-Sample:  0.16392811093350318 \n",
      "Validation/Out-of-Sample:  0.1798403895747264\n"
     ]
    }
   ],
   "source": [
    "# create the model object\n",
    "lm = LinearRegression(normalize=True)\n",
    "\n",
    "# fit the model to our training data. We must specify the column in y_train, \n",
    "# since we have converted it to a dataframe from a series! \n",
    "lm.fit(X_train_scaled, y_train.logerror)\n",
    "\n",
    "# predict train\n",
    "y_train['logerror_pred_lm'] = lm.predict(X_train_scaled)\n",
    "\n",
    "# evaluate: rmse\n",
    "rmse_train = mean_squared_error(y_train.logerror, y_train.logerror_pred_lm)**(1/2)\n",
    "\n",
    "# predict validate\n",
    "y_validate['logerror_pred_lm'] = lm.predict(X_validate_scaled)\n",
    "\n",
    "# evaluate: rmse\n",
    "rmse_validate_lm = mean_squared_error(y_validate.logerror, y_validate.logerror_pred_lm)**(1/2)\n",
    "\n",
    "print(\"RMSE for OLS using LinearRegression\\nTraining/In-Sample: \", rmse_train, \n",
    "      \"\\nValidation/Out-of-Sample: \", rmse_validate_lm)"
   ]
  },
  {
   "cell_type": "code",
   "execution_count": 57,
   "id": "f49c61b3",
   "metadata": {},
   "outputs": [],
   "source": [
    "#residuals\n",
    "y_train['lm_residuals'] = y_train['logerror_pred_lm'] - y_train['logerror']\n",
    "y_validate['lm_residuals'] = y_validate['logerror_pred_lm'] - y_validate['logerror']\n"
   ]
  },
  {
   "cell_type": "code",
   "execution_count": 58,
   "id": "ee59e7b4",
   "metadata": {},
   "outputs": [
    {
     "name": "stdout",
     "output_type": "stream",
     "text": [
      "number to beat logerror    0.017637\n",
      "dtype: float64\n"
     ]
    }
   ],
   "source": [
    "from sklearn.linear_model import LinearRegression\n",
    "y = pd.DataFrame(y_train.logerror)\n",
    "X = pd.DataFrame(X_train_scaled)\n",
    "# assuming X and y are already defined\n",
    "model = LinearRegression().fit(X, y)\n",
    "train['yhat'] = model.predict(X)\n",
    "df = pd.DataFrame(train[['calculatedfinishedsquarefeet','bathroomcnt','bedroomcnt','taxvaluedollarcnt','logerror','yhat']])\n",
    "df.head()\n",
    "#creating a baseline from the mean of the target variable\n",
    "baseline = y.mean()\n",
    "df['baseline'] = df.logerror.mean()\n",
    "# turning baseline to int from float\n",
    "df.baseline = df.baseline.astype(int)\n",
    "# residual = actual - predicted\n",
    "df['residual'] = df.logerror - df.yhat\n",
    "df['baseline_residual'] = df.logerror - df.baseline\n",
    "print(\"number to beat\", baseline)"
   ]
  },
  {
   "cell_type": "code",
   "execution_count": 59,
   "id": "3b059726",
   "metadata": {},
   "outputs": [
    {
     "name": "stdout",
     "output_type": "stream",
     "text": [
      "Explained Variance =  0.002\n"
     ]
    },
    {
     "data": {
      "text/plain": [
       "0.0019010508922705505"
      ]
     },
     "execution_count": 59,
     "metadata": {},
     "output_type": "execute_result"
    }
   ],
   "source": [
    "# sklearn.metrics.explained_variance_score\n",
    "\n",
    "evs = explained_variance_score(df.logerror, df.yhat)\n",
    "print('Explained Variance = ', round(evs,3))\n",
    "# calculate R2 the easy way:\n",
    "from sklearn.metrics import r2_score\n",
    "r2_score(df.logerror, df.yhat) "
   ]
  },
  {
   "cell_type": "code",
   "execution_count": 60,
   "id": "3aaf5f35",
   "metadata": {},
   "outputs": [],
   "source": [
    "X2 = sm.add_constant(df.calculatedfinishedsquarefeet)\n",
    "est = sm.OLS(df.logerror, X2)\n",
    "est2 = est.fit()"
   ]
  },
  {
   "cell_type": "code",
   "execution_count": 61,
   "id": "e9c3f588",
   "metadata": {},
   "outputs": [
    {
     "data": {
      "text/html": [
       "<div>\n",
       "<style scoped>\n",
       "    .dataframe tbody tr th:only-of-type {\n",
       "        vertical-align: middle;\n",
       "    }\n",
       "\n",
       "    .dataframe tbody tr th {\n",
       "        vertical-align: top;\n",
       "    }\n",
       "\n",
       "    .dataframe thead th {\n",
       "        text-align: right;\n",
       "    }\n",
       "</style>\n",
       "<table border=\"1\" class=\"dataframe\">\n",
       "  <thead>\n",
       "    <tr style=\"text-align: right;\">\n",
       "      <th></th>\n",
       "      <th>model</th>\n",
       "      <th>RMSE_validate</th>\n",
       "      <th>r^2_validate</th>\n",
       "    </tr>\n",
       "  </thead>\n",
       "  <tbody>\n",
       "    <tr>\n",
       "      <th>0</th>\n",
       "      <td>mean_baseline</td>\n",
       "      <td>0.180502</td>\n",
       "      <td>0.000000</td>\n",
       "    </tr>\n",
       "    <tr>\n",
       "      <th>1</th>\n",
       "      <td>OLS Regressor</td>\n",
       "      <td>0.179840</td>\n",
       "      <td>0.002175</td>\n",
       "    </tr>\n",
       "  </tbody>\n",
       "</table>\n",
       "</div>"
      ],
      "text/plain": [
       "           model  RMSE_validate  r^2_validate\n",
       "0  mean_baseline       0.180502      0.000000\n",
       "1  OLS Regressor       0.179840      0.002175"
      ]
     },
     "execution_count": 61,
     "metadata": {},
     "output_type": "execute_result"
    }
   ],
   "source": [
    "metric_df = pd.DataFrame(data=[{\n",
    "    'model': 'mean_baseline', \n",
    "    'RMSE_validate': rmse_validate,\n",
    "        'r^2_validate': explained_variance_score(y_validate.logerror, y_validate.logerror_pred_mean)}])\n",
    "metric_df = metric_df.append({\n",
    "    'model': 'OLS Regressor', \n",
    "    'RMSE_validate': rmse_validate_lm,\n",
    "    'r^2_validate': explained_variance_score(y_validate.logerror, y_validate.logerror_pred_lm)}, ignore_index=True)\n",
    "metric_df "
   ]
  },
  {
   "cell_type": "markdown",
   "id": "8b4638c6",
   "metadata": {},
   "source": [
    "# Conclusion for Cluster 3:\n",
    "### The OLS model avove outperformed (lassolars and polynomial regression)\n",
    "- please reference project notebook for all model information)\n",
    "\n",
    "Back to [PLAN](#PLAN)"
   ]
  },
  {
   "cell_type": "markdown",
   "id": "ff19d8a9",
   "metadata": {},
   "source": [
    "***\n",
    "***\n",
    "***"
   ]
  },
  {
   "cell_type": "markdown",
   "id": "c955baf3",
   "metadata": {},
   "source": [
    "# Conclusion:\n",
    "- We were able to get close to beating the baseline but did not succeed at creating a better model\n",
    "\n",
    "# Suggestions:\n",
    "- looking further into the data for variables such as month, school zone, school district, retirement area, prior death in home,and using variables like Previous purchase price and date."
   ]
  },
  {
   "cell_type": "markdown",
   "id": "937e0f57",
   "metadata": {},
   "source": [
    "***"
   ]
  },
  {
   "cell_type": "code",
   "execution_count": null,
   "id": "73a3e873",
   "metadata": {},
   "outputs": [],
   "source": []
  }
 ],
 "metadata": {
  "kernelspec": {
   "display_name": "Python 3 (ipykernel)",
   "language": "python",
   "name": "python3"
  },
  "language_info": {
   "codemirror_mode": {
    "name": "ipython",
    "version": 3
   },
   "file_extension": ".py",
   "mimetype": "text/x-python",
   "name": "python",
   "nbconvert_exporter": "python",
   "pygments_lexer": "ipython3",
   "version": "3.9.7"
  }
 },
 "nbformat": 4,
 "nbformat_minor": 5
}
